{
 "cells": [
  {
   "cell_type": "code",
   "execution_count": 2,
   "id": "bd9bb791-839f-4913-8062-a0ba95052951",
   "metadata": {},
   "outputs": [],
   "source": [
    "from selenium import webdriver\n",
    "from selenium.webdriver.common.keys import Keys\n",
    "from selenium.webdriver.common.by import By\n",
    "from selenium.webdriver.support.ui import WebDriverWait\n",
    "from selenium.webdriver.support import expected_conditions as EC\n",
    "from bs4 import BeautifulSoup\n",
    "import re\n",
    "import pandas as pd\n",
    "import datetime\n",
    "import numpy as np\n",
    "import matplotlib.pyplot as plt\n",
    "from io import StringIO\n",
    "\n",
    "pd.set_option('display.expand_frame_repr', False)"
   ]
  },
  {
   "cell_type": "code",
   "execution_count": 47,
   "id": "548f1d33-c7d1-4f70-b9f7-9647eb9e3d92",
   "metadata": {
    "scrolled": true
   },
   "outputs": [
    {
     "ename": "TimeoutException",
     "evalue": "Message: \nStacktrace:\n0   chromedriver                        0x0000000100e6a998 chromedriver + 4368792\n1   chromedriver                        0x0000000100e62e2c chromedriver + 4337196\n2   chromedriver                        0x0000000100a86c04 chromedriver + 289796\n3   chromedriver                        0x0000000100ac8e00 chromedriver + 560640\n4   chromedriver                        0x0000000100b015ec chromedriver + 792044\n5   chromedriver                        0x0000000100abdab4 chromedriver + 514740\n6   chromedriver                        0x0000000100abe50c chromedriver + 517388\n7   chromedriver                        0x0000000100e2eeb4 chromedriver + 4124340\n8   chromedriver                        0x0000000100e33ca4 chromedriver + 4144292\n9   chromedriver                        0x0000000100e1487c chromedriver + 4016252\n10  chromedriver                        0x0000000100e345d4 chromedriver + 4146644\n11  chromedriver                        0x0000000100e06330 chromedriver + 3957552\n12  chromedriver                        0x0000000100e53f1c chromedriver + 4275996\n13  chromedriver                        0x0000000100e54098 chromedriver + 4276376\n14  chromedriver                        0x0000000100e62a8c chromedriver + 4336268\n15  libsystem_pthread.dylib             0x000000019430af94 _pthread_start + 136\n16  libsystem_pthread.dylib             0x0000000194305d34 thread_start + 8\n",
     "output_type": "error",
     "traceback": [
      "\u001b[0;31m---------------------------------------------------------------------------\u001b[0m",
      "\u001b[0;31mTimeoutException\u001b[0m                          Traceback (most recent call last)",
      "Cell \u001b[0;32mIn[47], line 63\u001b[0m\n\u001b[1;32m     61\u001b[0m \u001b[38;5;66;03m#click on each report\u001b[39;00m\n\u001b[1;32m     62\u001b[0m \u001b[38;5;28;01mfor\u001b[39;00m j \u001b[38;5;129;01min\u001b[39;00m \u001b[38;5;28mrange\u001b[39m(\u001b[38;5;241m1\u001b[39m):\n\u001b[0;32m---> 63\u001b[0m     table \u001b[38;5;241m=\u001b[39m WebDriverWait(driver, \u001b[38;5;241m10\u001b[39m)\u001b[38;5;241m.\u001b[39muntil(\n\u001b[1;32m     64\u001b[0m         EC\u001b[38;5;241m.\u001b[39melement_to_be_clickable((By\u001b[38;5;241m.\u001b[39mXPATH,\u001b[38;5;124m\"\u001b[39m\u001b[38;5;124m//table[@id=\u001b[39m\u001b[38;5;124m'\u001b[39m\u001b[38;5;124myour_table_id_here\u001b[39m\u001b[38;5;124m'\u001b[39m\u001b[38;5;124m]\u001b[39m\u001b[38;5;124m\"\u001b[39m))\n\u001b[1;32m     65\u001b[0m     )\n\u001b[1;32m     66\u001b[0m     \u001b[38;5;28;01mfor\u001b[39;00m row \u001b[38;5;129;01min\u001b[39;00m table\u001b[38;5;241m.\u001b[39mfind_element(By\u001b[38;5;241m.\u001b[39mTAG_NAME, \u001b[38;5;124m\"\u001b[39m\u001b[38;5;124mtr\u001b[39m\u001b[38;5;124m\"\u001b[39m):\n\u001b[1;32m     67\u001b[0m         \u001b[38;5;28mprint\u001b[39m(row)\n",
      "File \u001b[0;32m~/miniconda3/envs/cmsc320/lib/python3.12/site-packages/selenium/webdriver/support/wait.py:105\u001b[0m, in \u001b[0;36mWebDriverWait.until\u001b[0;34m(self, method, message)\u001b[0m\n\u001b[1;32m    103\u001b[0m     \u001b[38;5;28;01mif\u001b[39;00m time\u001b[38;5;241m.\u001b[39mmonotonic() \u001b[38;5;241m>\u001b[39m end_time:\n\u001b[1;32m    104\u001b[0m         \u001b[38;5;28;01mbreak\u001b[39;00m\n\u001b[0;32m--> 105\u001b[0m \u001b[38;5;28;01mraise\u001b[39;00m TimeoutException(message, screen, stacktrace)\n",
      "\u001b[0;31mTimeoutException\u001b[0m: Message: \nStacktrace:\n0   chromedriver                        0x0000000100e6a998 chromedriver + 4368792\n1   chromedriver                        0x0000000100e62e2c chromedriver + 4337196\n2   chromedriver                        0x0000000100a86c04 chromedriver + 289796\n3   chromedriver                        0x0000000100ac8e00 chromedriver + 560640\n4   chromedriver                        0x0000000100b015ec chromedriver + 792044\n5   chromedriver                        0x0000000100abdab4 chromedriver + 514740\n6   chromedriver                        0x0000000100abe50c chromedriver + 517388\n7   chromedriver                        0x0000000100e2eeb4 chromedriver + 4124340\n8   chromedriver                        0x0000000100e33ca4 chromedriver + 4144292\n9   chromedriver                        0x0000000100e1487c chromedriver + 4016252\n10  chromedriver                        0x0000000100e345d4 chromedriver + 4146644\n11  chromedriver                        0x0000000100e06330 chromedriver + 3957552\n12  chromedriver                        0x0000000100e53f1c chromedriver + 4275996\n13  chromedriver                        0x0000000100e54098 chromedriver + 4276376\n14  chromedriver                        0x0000000100e62a8c chromedriver + 4336268\n15  libsystem_pthread.dylib             0x000000019430af94 _pthread_start + 136\n16  libsystem_pthread.dylib             0x0000000194305d34 thread_start + 8\n"
     ]
    }
   ],
   "source": [
    "#Initialize Chrome Webdriver\n",
    "driver = webdriver.Chrome()\n",
    "\n",
    "url = \"https://efdsearch.senate.gov/search/\"  \n",
    "driver.get(url)\n",
    "\n",
    "#Read the data as HTML\n",
    "html_content = driver.page_source\n",
    "agree_checkbox = driver.find_element(By.ID, \"agree_statement\")\n",
    "\n",
    "# Check if the checkbox is not already selected\n",
    "if not agree_checkbox.is_selected():\n",
    "    # If the checkbox is not selected, click on it\n",
    "    agree_checkbox.click()\n",
    "\n",
    "\n",
    "#select current senators\n",
    "senator_checkbox = driver.find_element(By.CLASS_NAME,\"form-check-input\")\n",
    "\n",
    "if not senator_checkbox.is_selected():\n",
    "    # If the checkbox is not selected, click on it\n",
    "    senator_checkbox.click()\n",
    "    \n",
    "#select prev senators\n",
    "prev_senators_checkbox = driver.find_element(By.XPATH, \"//input[@value='5']\")\n",
    "if not prev_senators_checkbox.is_selected():\n",
    "    # If the checkbox is not selected, click on it\n",
    "    prev_senators_checkbox.click()\n",
    "\n",
    "#Select annual and periodic transaction reports\n",
    "annual_checkbox = driver.find_element(By.XPATH, \"//input[@value='7']\")\n",
    "if not annual_checkbox.is_selected():\n",
    "    # If the checkbox is not selected, click on it\n",
    "    annual_checkbox.click()\n",
    "\n",
    "\n",
    "#insert starting year of 2013 (most of 2012 reports are written reports and cant be scraped\n",
    "\n",
    "start_date_box = driver.find_element(By.XPATH, \"//input[@name='submitted_start_date']\")\n",
    "start_date_box.send_keys(\"01/01/2013\")\n",
    "\n",
    "\n",
    "#hit submit button\n",
    "submit_button = WebDriverWait(driver, 10).until(\n",
    "    EC.element_to_be_clickable((By.XPATH,\"//button[@class='btn btn-primary']\"))\n",
    ")\n",
    "submit_button.click()\n",
    "\n",
    "\n",
    "#at this point we are on a page that has all former and current senator annual/periodic filings\n",
    "#dating back to 1/13/2013\n",
    "\n",
    "#we know need to iterate through each of the 1,704 filings, check if it is an image, in which case we \n",
    "#skip because we cant read\n",
    "\n",
    "for i in range(1):\n",
    "    next_button = WebDriverWait(driver, 10).until(\n",
    "    EC.element_to_be_clickable((By.XPATH,\"//a[@class='paginate_button next']\"))\n",
    "    )\n",
    "\n",
    "    #click on each report\n",
    "    for j in range(1):\n",
    "        table = WebDriverWait(driver, 10).until(\n",
    "            EC.element_to_be_clickable((By.XPATH,\"//table[@class=class=\"table table-striped dataTable no-footer\"]\"))\n",
    "        )\n",
    "        for row in table.find_element(By.TAG_NAME, \"tr\"):\n",
    "            print(row)\n",
    "    next_button.click()\n",
    "\n",
    "\n",
    "\n",
    "    \n",
    "driver.quit()\n"
   ]
  }
 ],
 "metadata": {
  "kernelspec": {
   "display_name": "Python 3 (ipykernel)",
   "language": "python",
   "name": "python3"
  },
  "language_info": {
   "codemirror_mode": {
    "name": "ipython",
    "version": 3
   },
   "file_extension": ".py",
   "mimetype": "text/x-python",
   "name": "python",
   "nbconvert_exporter": "python",
   "pygments_lexer": "ipython3",
   "version": "3.12.3"
  }
 },
 "nbformat": 4,
 "nbformat_minor": 5
}
