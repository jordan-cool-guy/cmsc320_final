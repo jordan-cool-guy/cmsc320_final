{
 "cells": [
  {
   "cell_type": "code",
   "execution_count": null,
   "id": "bd9bb791-839f-4913-8062-a0ba95052951",
   "metadata": {},
   "outputs": [],
   "source": [
    "from selenium import webdriver\n",
    "from selenium.webdriver.common.keys import Keys\n",
    "from selenium.webdriver.common.by import By\n",
    "from selenium.webdriver.support.ui import WebDriverWait\n",
    "from selenium.webdriver.support import expected_conditions as EC\n",
    "from selenium.common.exceptions import StaleElementReferenceException\n",
    "from selenium.webdriver.support.ui import Select\n",
    "\n",
    "from bs4 import BeautifulSoup\n",
    "import re\n",
    "import pandas as pd\n",
    "import datetime\n",
    "import numpy as np\n",
    "import matplotlib.pyplot as plt\n",
    "from io import StringIO\n",
    "\n",
    "pd.set_option('display.expand_frame_repr', False)"
   ]
  },
  {
   "cell_type": "code",
   "execution_count": null,
   "id": "610efb08-86f9-48c8-b7a3-830e664dedd2",
   "metadata": {},
   "outputs": [],
   "source": [
    "# Define a custom expected condition to handle StaleElementReferenceException\n",
    "def custom_wait_func(refreshed_locator):\n",
    "    def check_for_elem(driver):\n",
    "        try:\n",
    "            element = driver.find_element(*refreshed_locator)\n",
    "            return element\n",
    "        except:\n",
    "            return False\n",
    "\n",
    "    return check_for_elem\n",
    "\n",
    "\n",
    "def find_els_wait_func(refreshed_locator):\n",
    "    def check_for_elem(driver):\n",
    "        try:\n",
    "            element = driver.find_elements(*refreshed_locator)\n",
    "            return element\n",
    "        except:\n",
    "            return False\n",
    "\n",
    "    return check_for_elem"
   ]
  },
  {
   "cell_type": "code",
   "execution_count": null,
   "id": "548f1d33-c7d1-4f70-b9f7-9647eb9e3d92",
   "metadata": {
    "scrolled": true
   },
   "outputs": [],
   "source": [
    "#Initialize Chrome Webdriver\n",
    "driver = webdriver.Chrome()\n",
    "\n",
    "url = \"https://efdsearch.senate.gov/search/\"  \n",
    "driver.get(url)\n",
    "\n",
    "#Read the data as HTML\n",
    "html_content = driver.page_source\n",
    "agree_checkbox = driver.find_element(By.ID, \"agree_statement\")\n",
    "\n",
    "# Check if the checkbox is not already selected\n",
    "if not agree_checkbox.is_selected():\n",
    "    # If the checkbox is not selected, click on it\n",
    "    agree_checkbox.click()\n",
    "\n",
    "\n",
    "#select current senators\n",
    "senator_checkbox = driver.find_element(By.CLASS_NAME,\"form-check-input\")\n",
    "\n",
    "if not senator_checkbox.is_selected():\n",
    "    # If the checkbox is not selected, click on it\n",
    "    senator_checkbox.click()\n",
    "    \n",
    "#select prev senators\n",
    "prev_senators_checkbox = driver.find_element(By.XPATH, \"//input[@value='5']\")\n",
    "if not prev_senators_checkbox.is_selected():\n",
    "    # If the checkbox is not selected, click on it\n",
    "    prev_senators_checkbox.click()\n",
    "\n",
    "#Select annual and periodic transaction reports\n",
    "annual_checkbox = driver.find_element(By.XPATH, \"//input[@value='7']\")\n",
    "if not annual_checkbox.is_selected():\n",
    "    # If the checkbox is not selected, click on it\n",
    "    annual_checkbox.click()\n",
    "\n",
    "\n",
    "#insert starting year of 2013 (most of 2012 reports are written reports and cant be scraped\n",
    "\n",
    "start_date_box = driver.find_element(By.XPATH, \"//input[@name='submitted_start_date']\")\n",
    "start_date_box.send_keys(\"01/01/2013\")\n",
    "\n",
    "\n",
    "#hit submit button\n",
    "submit_button = WebDriverWait(driver, 10).until(\n",
    "    EC.element_to_be_clickable((By.XPATH,\"//button[@class='btn btn-primary']\"))\n",
    ")\n",
    "submit_button.click()\n",
    "\n",
    "\n",
    "#at this point we are on a page that has all former and current senator annual/periodic filings\n",
    "#dating back to 1/13/2013\n",
    "\n",
    "#we know need to iterate through each of the 1,704 filings, check if it is an image, in which case we \n",
    "#skip because we cant read\n",
    "\n",
    "\n",
    "#first sort by ascending order\n",
    "sort_data_button = WebDriverWait(driver, 10).until(\n",
    "    EC.element_to_be_clickable((By.XPATH,\"//th[@aria-label='Date Received/Filed: activate to sort column ascending']\"))\n",
    ")\n",
    "sort_data_button.click()\n",
    "#make it descending\n",
    "sort_data_button = WebDriverWait(driver, 10).until(\n",
    "    EC.element_to_be_clickable((By.XPATH,\"//th[@aria-label='Date Received/Filed: activate to sort column descending']\"))\n",
    ")\n",
    "sort_data_button.click()\n",
    "\n",
    "#make it 100 entries per page\n",
    "reports_length = driver.find_element(By.XPATH,\"//select[@name='filedReports_length']\")\n",
    "reports_length_select = Select(reports_length)\n",
    "reports_length_select.select_by_value(\"100\")\n",
    "\n",
    "\n",
    "\n",
    "time.sleep(2)\n",
    "\n",
    "\n",
    "\n",
    "\n",
    "\n",
    "\n",
    "#There are 17 pages of reports, with 100 reports per page\n",
    "#This script will save a csv of each page.\n",
    "#if your connection is interrupted\n",
    "#insert the most recent saved page\n",
    "#ie, if the connection is interrupted on page 4, put 3 as the checkpoint\n",
    "checkpoint = 0\n",
    "\n",
    "#skip pages up to checkpoint\n",
    "for i in range(checkpoint):\n",
    "    driver.execute_script(\"window.scrollTo(0, 0)\")\n",
    "    table = WebDriverWait(driver, 10).until(\n",
    "        custom_wait_func((By.XPATH, \"//table[@class='table table-striped dataTable no-footer']\"))\n",
    "    )\n",
    "    next_button = WebDriverWait(driver, 10).until(\n",
    "        custom_wait_func((By.XPATH, \"//a[@class='paginate_button next']\"))\n",
    "    )\n",
    "    next_button.click()\n",
    "\n",
    "\n",
    "#Iterate over reports\n",
    "for i in range(checkpoint, 17): \n",
    "    #filings\n",
    "    senator_filings_list = []\n",
    "    senator_name = []\n",
    "    #scroll to top of page\n",
    "    driver.execute_script(\"window.scrollTo(0, 0)\")\n",
    "    table = WebDriverWait(driver, 10).until(\n",
    "        custom_wait_func((By.XPATH, \"//table[@class='table table-striped dataTable no-footer']\"))\n",
    "    )\n",
    "\n",
    "    rows = WebDriverWait(table, 10).until(\n",
    "        find_els_wait_func((By.TAG_NAME, \"tr\"))\n",
    "    )\n",
    "    \n",
    "    \n",
    "    # table.find_elements(By.TAG_NAME, \"tr\")\n",
    "    # #iterate over each link to each senator report\n",
    "    for j,row in enumerate(rows):\n",
    "        table = WebDriverWait(driver, 10).until(\n",
    "            custom_wait_func((By.XPATH, \"//table[@class='table table-striped dataTable no-footer']\"))\n",
    "        )\n",
    "        row = table.find_elements(By.TAG_NAME, \"tr\")[j]\n",
    "        cells = row.find_elements(By.TAG_NAME, \"td\")\n",
    "        if (len(cells)>4):\n",
    "            current_window_handle = driver.current_window_handle\n",
    "\n",
    "            link = cells[3].find_element(By.TAG_NAME, \"a\")\n",
    "            link.click()\n",
    "            new_window_handle = [handle for handle in driver.window_handles if handle != current_window_handle][0]\n",
    "            driver.switch_to.window(new_window_handle)\n",
    "            \n",
    "            #wait for page to load\n",
    "            WebDriverWait(driver, 10).until(\n",
    "                    custom_wait_func((By.XPATH, \"//main[@class='container-fluid pgContent']\"))\n",
    "            )\n",
    "\n",
    "\n",
    "\n",
    "            #if the page is not a handwritten for proceed\n",
    "            if not driver.find_elements(By.XPATH, \"//img[@class='filingImage']\"):\n",
    "                html_content = driver.page_source\n",
    "                soup = BeautifulSoup(html_content, 'html.parser')\n",
    "\n",
    "                #get Senator name\n",
    "                name = driver.find_element(By.XPATH, \"//h2[@class='filedReport']\")\n",
    "                pattern = r\"\\((.*?)\\)\"\n",
    "                \n",
    "                # Find all matches of the pattern in the text\n",
    "                matches = re.findall(pattern, name.text)\n",
    "                if (len(matches) > 0 and matches[0] != \"Former Senator\"):\n",
    "                    name = matches[0]\n",
    "                else:\n",
    "                    name = name.text\n",
    "                    \n",
    "                print(name)\n",
    "                \n",
    "                #get all tables\n",
    "                #only interested in part 4a and 4b\n",
    "                sections = soup.find_all('section')\n",
    "\n",
    "                if (len(sections) >= 5):\n",
    "                    table_section_part4a = sections[3]\n",
    "                    table_4a = table_section_part4a.find('table')\n",
    "                        # If the table is found, read it into a DataFrame\n",
    "                    if table_4a:\n",
    "                        table_4a = str(table_4a)\n",
    "                        table_4a = StringIO(table_4a)\n",
    "                        senator_filings_list.append(table_4a)\n",
    "                        senator_name.append(name)\n",
    "    \n",
    "\n",
    "                    table_section_part4b = sections[4]\n",
    "                    table_4b = table_section_part4b.find('table')\n",
    "                        # If the table is found, read it into a DataFrame\n",
    "                    if table_4b:\n",
    "                        table_4b = str(table_4b)\n",
    "                        table_4b = StringIO(table_4b)\n",
    "                        senator_filings_list.append(table_4b)\n",
    "                        senator_name.append(name)\n",
    "\n",
    "            \n",
    "            driver.close()\n",
    "            \n",
    "            # Switch back to the original tab\n",
    "            driver.switch_to.window(current_window_handle)\n",
    "\n",
    "    #every page create df a save in case we are disconnected\n",
    "    dataframes = []\n",
    "    for name,table in zip(senator_name,senator_filings_list):\n",
    "        df = pd.read_html(table)[0]  # Read the HTML table into a DataFrame\n",
    "        df['Senator Name'] = name\n",
    "        dataframes.append(df)\n",
    "    \n",
    "    # Concatenate all DataFrames into a single DataFrame\n",
    "    result_df = pd.concat(dataframes, ignore_index=True)\n",
    "    filename= f'senator_filings_page_{i}.csv'\n",
    "    result_df.to_csv(filename)\n",
    "    \n",
    "    \n",
    "    next_button = WebDriverWait(driver, 10).until(\n",
    "        custom_wait_func((By.XPATH, \"//a[@class='paginate_button next']\"))\n",
    "    )\n",
    "    next_button.click()\n",
    "\n",
    "\n",
    "# dataframes = []\n",
    "# for name,table in zip(senator_name,senator_filings_list):\n",
    "#     df = pd.read_html(table)[0]  # Read the HTML table into a DataFrame\n",
    "#     df['Senator Name'] = name\n",
    "#     dataframes.append(df)\n",
    "\n",
    "# # Concatenate all DataFrames into a single DataFrame\n",
    "# result_df = pd.concat(dataframes, ignore_index=True)\n",
    "\n",
    "# Print the result DataFrame\n",
    " \n",
    "\n",
    "\n",
    "# senator_filing_data_df = result_df.copy()\n",
    "driver.quit()\n"
   ]
  },
  {
   "cell_type": "markdown",
   "id": "7e37343f-08b6-4857-8a4e-fd28652146b7",
   "metadata": {},
   "source": [
    "#### Data Now Collected\n",
    "Now that we've scraped each page, converted to csv, and saved, we can now read"
   ]
  },
  {
   "cell_type": "code",
   "execution_count": 289,
   "id": "9dc3876e-6bb6-444e-a524-7e3b75ec7e33",
   "metadata": {},
   "outputs": [],
   "source": [
    "import glob\n",
    "\n",
    "# List all CSV files in the directory\n",
    "csv_files = glob.glob('*.csv')\n",
    "\n",
    "dfs = []\n",
    "\n",
    "# Iterate over each CSV file\n",
    "for csv_file in csv_files:\n",
    "    # Read the CSV file into a DataFrame\n",
    "    df = pd.read_csv(csv_file)\n",
    "    # Append the DataFrame to the list\n",
    "    dfs.append(df)\n",
    "\n",
    "\n",
    "senator_filing_data_df = pd.concat(dfs, ignore_index=True)\n"
   ]
  },
  {
   "cell_type": "markdown",
   "id": "c7da2e0d-1ab4-4a55-89ba-d91987a2911a",
   "metadata": {},
   "source": [
    "## Clean The Data"
   ]
  },
  {
   "cell_type": "code",
   "execution_count": 290,
   "id": "ad39fff3-34e6-479f-bfa7-a56483b94cf1",
   "metadata": {
    "scrolled": true
   },
   "outputs": [
    {
     "data": {
      "text/html": [
       "<div>\n",
       "<style scoped>\n",
       "    .dataframe tbody tr th:only-of-type {\n",
       "        vertical-align: middle;\n",
       "    }\n",
       "\n",
       "    .dataframe tbody tr th {\n",
       "        vertical-align: top;\n",
       "    }\n",
       "\n",
       "    .dataframe thead th {\n",
       "        text-align: right;\n",
       "    }\n",
       "</style>\n",
       "<table border=\"1\" class=\"dataframe\">\n",
       "  <thead>\n",
       "    <tr style=\"text-align: right;\">\n",
       "      <th></th>\n",
       "      <th>Transaction Date</th>\n",
       "      <th>Owner</th>\n",
       "      <th>Ticker</th>\n",
       "      <th>Asset Name</th>\n",
       "      <th>Amount</th>\n",
       "      <th>Senator Name</th>\n",
       "      <th>Transaction Type</th>\n",
       "    </tr>\n",
       "  </thead>\n",
       "  <tbody>\n",
       "    <tr>\n",
       "      <th>0</th>\n",
       "      <td>04/29/2014</td>\n",
       "      <td>Joint</td>\n",
       "      <td>LINE</td>\n",
       "      <td>Linn Energy, LLC (NASDAQ)</td>\n",
       "      <td>$1,001 - $15,000</td>\n",
       "      <td>The Honorable Patrick J Toomey (Former Senator)</td>\n",
       "      <td>Sale (Full)</td>\n",
       "    </tr>\n",
       "    <tr>\n",
       "      <th>1</th>\n",
       "      <td>06/05/2014</td>\n",
       "      <td>Joint</td>\n",
       "      <td>GLD</td>\n",
       "      <td>SPDR Gold Shares</td>\n",
       "      <td>$1,001 - $15,000</td>\n",
       "      <td>The Honorable Patrick J Toomey (Former Senator)</td>\n",
       "      <td>Sale (Partial)</td>\n",
       "    </tr>\n",
       "    <tr>\n",
       "      <th>2</th>\n",
       "      <td>06/05/2014</td>\n",
       "      <td>Joint</td>\n",
       "      <td>PPL</td>\n",
       "      <td>PPL Corporation (NYSE)</td>\n",
       "      <td>$15,001 - $50,000</td>\n",
       "      <td>The Honorable Patrick J Toomey (Former Senator)</td>\n",
       "      <td>Sale (Partial)</td>\n",
       "    </tr>\n",
       "    <tr>\n",
       "      <th>3</th>\n",
       "      <td>06/10/2014</td>\n",
       "      <td>Self</td>\n",
       "      <td>--</td>\n",
       "      <td>Team Capitol Bank</td>\n",
       "      <td>$500,001 - $1,000,000</td>\n",
       "      <td>The Honorable Patrick J Toomey (Former Senator)</td>\n",
       "      <td>Exchange</td>\n",
       "    </tr>\n",
       "    <tr>\n",
       "      <th>4</th>\n",
       "      <td>06/11/2014</td>\n",
       "      <td>Joint</td>\n",
       "      <td>LGP</td>\n",
       "      <td>Lehigh Gas Partners LP (NYSE)</td>\n",
       "      <td>$15,001 - $50,000</td>\n",
       "      <td>The Honorable Patrick J Toomey (Former Senator)</td>\n",
       "      <td>Purchase</td>\n",
       "    </tr>\n",
       "  </tbody>\n",
       "</table>\n",
       "</div>"
      ],
      "text/plain": [
       "  Transaction Date  Owner Ticker                     Asset Name                 Amount                                     Senator Name Transaction Type\n",
       "0       04/29/2014  Joint   LINE      Linn Energy, LLC (NASDAQ)       $1,001 - $15,000  The Honorable Patrick J Toomey (Former Senator)      Sale (Full)\n",
       "1       06/05/2014  Joint    GLD               SPDR Gold Shares       $1,001 - $15,000  The Honorable Patrick J Toomey (Former Senator)   Sale (Partial)\n",
       "2       06/05/2014  Joint    PPL         PPL Corporation (NYSE)      $15,001 - $50,000  The Honorable Patrick J Toomey (Former Senator)   Sale (Partial)\n",
       "3       06/10/2014   Self     --              Team Capitol Bank  $500,001 - $1,000,000  The Honorable Patrick J Toomey (Former Senator)         Exchange\n",
       "4       06/11/2014  Joint    LGP  Lehigh Gas Partners LP (NYSE)      $15,001 - $50,000  The Honorable Patrick J Toomey (Former Senator)         Purchase"
      ]
     },
     "execution_count": 290,
     "metadata": {},
     "output_type": "execute_result"
    }
   ],
   "source": [
    "pd.set_option('display.max_rows', None)\n",
    "\n",
    "#drop unneccessary columns\n",
    "senator_filing_data_df.drop(['Unnamed: 0','Unnamed: 0.1', '#'],axis=1, inplace=True)\n",
    "#merge Transaction Type and Type as they are the same\n",
    "senator_filing_data_df['merged_type'] = senator_filing_data_df['Type'].fillna(senator_filing_data_df['Transaction Type'])\n",
    "\n",
    "#drop unneccessary columns\n",
    "senator_filing_data_df.drop(['Type', 'Transaction Type', 'Comment', 'Comments'], axis=1, inplace=True)\n",
    "#convert Transaction Date to Datetime \n",
    "\n",
    "# Rename the merged column to 'type' if needed\n",
    "senator_filing_data_df.rename(columns={'merged_type': 'Transaction Type'}, inplace=True)\n",
    "senator_filing_data_df.head(5)\n"
   ]
  },
  {
   "cell_type": "markdown",
   "id": "c2f213c4-5d2f-48e7-bff7-3350eb2d03b1",
   "metadata": {},
   "source": [
    "#### Convert 'Transaction Date' To Datetime\n",
    "Here we'll want to turn the 'Transaction Date' column to datetime to make it easier for future calculations\n",
    "and sorting"
   ]
  },
  {
   "cell_type": "code",
   "execution_count": 291,
   "id": "634a310b-2f95-4b07-b47a-36672ffc8b65",
   "metadata": {
    "scrolled": true
   },
   "outputs": [
    {
     "ename": "ValueError",
     "evalue": "time data \"02/21/217\" doesn't match format \"%m/%d/%Y\", at position 686. You might want to try:\n    - passing `format` if your strings have a consistent format;\n    - passing `format='ISO8601'` if your strings are all ISO8601 but not necessarily in exactly the same format;\n    - passing `format='mixed'`, and the format will be inferred for each element individually. You might want to use `dayfirst` alongside this.",
     "output_type": "error",
     "traceback": [
      "\u001b[0;31m---------------------------------------------------------------------------\u001b[0m",
      "\u001b[0;31mValueError\u001b[0m                                Traceback (most recent call last)",
      "Cell \u001b[0;32mIn[291], line 1\u001b[0m\n\u001b[0;32m----> 1\u001b[0m senator_filing_data_df[\u001b[38;5;124m'\u001b[39m\u001b[38;5;124mTransaction Date\u001b[39m\u001b[38;5;124m'\u001b[39m] \u001b[38;5;241m=\u001b[39m pd\u001b[38;5;241m.\u001b[39mto_datetime(senator_filing_data_df[\u001b[38;5;124m'\u001b[39m\u001b[38;5;124mTransaction Date\u001b[39m\u001b[38;5;124m'\u001b[39m])\n",
      "File \u001b[0;32m~/miniconda3/envs/cmsc320/lib/python3.12/site-packages/pandas/core/tools/datetimes.py:1063\u001b[0m, in \u001b[0;36mto_datetime\u001b[0;34m(arg, errors, dayfirst, yearfirst, utc, format, exact, unit, infer_datetime_format, origin, cache)\u001b[0m\n\u001b[1;32m   1061\u001b[0m             result \u001b[38;5;241m=\u001b[39m arg\u001b[38;5;241m.\u001b[39mtz_localize(\u001b[38;5;124m\"\u001b[39m\u001b[38;5;124mutc\u001b[39m\u001b[38;5;124m\"\u001b[39m)\n\u001b[1;32m   1062\u001b[0m \u001b[38;5;28;01melif\u001b[39;00m \u001b[38;5;28misinstance\u001b[39m(arg, ABCSeries):\n\u001b[0;32m-> 1063\u001b[0m     cache_array \u001b[38;5;241m=\u001b[39m _maybe_cache(arg, \u001b[38;5;28mformat\u001b[39m, cache, convert_listlike)\n\u001b[1;32m   1064\u001b[0m     \u001b[38;5;28;01mif\u001b[39;00m \u001b[38;5;129;01mnot\u001b[39;00m cache_array\u001b[38;5;241m.\u001b[39mempty:\n\u001b[1;32m   1065\u001b[0m         result \u001b[38;5;241m=\u001b[39m arg\u001b[38;5;241m.\u001b[39mmap(cache_array)\n",
      "File \u001b[0;32m~/miniconda3/envs/cmsc320/lib/python3.12/site-packages/pandas/core/tools/datetimes.py:247\u001b[0m, in \u001b[0;36m_maybe_cache\u001b[0;34m(arg, format, cache, convert_listlike)\u001b[0m\n\u001b[1;32m    245\u001b[0m unique_dates \u001b[38;5;241m=\u001b[39m unique(arg)\n\u001b[1;32m    246\u001b[0m \u001b[38;5;28;01mif\u001b[39;00m \u001b[38;5;28mlen\u001b[39m(unique_dates) \u001b[38;5;241m<\u001b[39m \u001b[38;5;28mlen\u001b[39m(arg):\n\u001b[0;32m--> 247\u001b[0m     cache_dates \u001b[38;5;241m=\u001b[39m convert_listlike(unique_dates, \u001b[38;5;28mformat\u001b[39m)\n\u001b[1;32m    248\u001b[0m     \u001b[38;5;66;03m# GH#45319\u001b[39;00m\n\u001b[1;32m    249\u001b[0m     \u001b[38;5;28;01mtry\u001b[39;00m:\n",
      "File \u001b[0;32m~/miniconda3/envs/cmsc320/lib/python3.12/site-packages/pandas/core/tools/datetimes.py:433\u001b[0m, in \u001b[0;36m_convert_listlike_datetimes\u001b[0;34m(arg, format, name, utc, unit, errors, dayfirst, yearfirst, exact)\u001b[0m\n\u001b[1;32m    431\u001b[0m \u001b[38;5;66;03m# `format` could be inferred, or user didn't ask for mixed-format parsing.\u001b[39;00m\n\u001b[1;32m    432\u001b[0m \u001b[38;5;28;01mif\u001b[39;00m \u001b[38;5;28mformat\u001b[39m \u001b[38;5;129;01mis\u001b[39;00m \u001b[38;5;129;01mnot\u001b[39;00m \u001b[38;5;28;01mNone\u001b[39;00m \u001b[38;5;129;01mand\u001b[39;00m \u001b[38;5;28mformat\u001b[39m \u001b[38;5;241m!=\u001b[39m \u001b[38;5;124m\"\u001b[39m\u001b[38;5;124mmixed\u001b[39m\u001b[38;5;124m\"\u001b[39m:\n\u001b[0;32m--> 433\u001b[0m     \u001b[38;5;28;01mreturn\u001b[39;00m _array_strptime_with_fallback(arg, name, utc, \u001b[38;5;28mformat\u001b[39m, exact, errors)\n\u001b[1;32m    435\u001b[0m result, tz_parsed \u001b[38;5;241m=\u001b[39m objects_to_datetime64(\n\u001b[1;32m    436\u001b[0m     arg,\n\u001b[1;32m    437\u001b[0m     dayfirst\u001b[38;5;241m=\u001b[39mdayfirst,\n\u001b[0;32m   (...)\u001b[0m\n\u001b[1;32m    441\u001b[0m     allow_object\u001b[38;5;241m=\u001b[39m\u001b[38;5;28;01mTrue\u001b[39;00m,\n\u001b[1;32m    442\u001b[0m )\n\u001b[1;32m    444\u001b[0m \u001b[38;5;28;01mif\u001b[39;00m tz_parsed \u001b[38;5;129;01mis\u001b[39;00m \u001b[38;5;129;01mnot\u001b[39;00m \u001b[38;5;28;01mNone\u001b[39;00m:\n\u001b[1;32m    445\u001b[0m     \u001b[38;5;66;03m# We can take a shortcut since the datetime64 numpy array\u001b[39;00m\n\u001b[1;32m    446\u001b[0m     \u001b[38;5;66;03m# is in UTC\u001b[39;00m\n",
      "File \u001b[0;32m~/miniconda3/envs/cmsc320/lib/python3.12/site-packages/pandas/core/tools/datetimes.py:467\u001b[0m, in \u001b[0;36m_array_strptime_with_fallback\u001b[0;34m(arg, name, utc, fmt, exact, errors)\u001b[0m\n\u001b[1;32m    456\u001b[0m \u001b[38;5;28;01mdef\u001b[39;00m \u001b[38;5;21m_array_strptime_with_fallback\u001b[39m(\n\u001b[1;32m    457\u001b[0m     arg,\n\u001b[1;32m    458\u001b[0m     name,\n\u001b[0;32m   (...)\u001b[0m\n\u001b[1;32m    462\u001b[0m     errors: \u001b[38;5;28mstr\u001b[39m,\n\u001b[1;32m    463\u001b[0m ) \u001b[38;5;241m-\u001b[39m\u001b[38;5;241m>\u001b[39m Index:\n\u001b[1;32m    464\u001b[0m \u001b[38;5;250m    \u001b[39m\u001b[38;5;124;03m\"\"\"\u001b[39;00m\n\u001b[1;32m    465\u001b[0m \u001b[38;5;124;03m    Call array_strptime, with fallback behavior depending on 'errors'.\u001b[39;00m\n\u001b[1;32m    466\u001b[0m \u001b[38;5;124;03m    \"\"\"\u001b[39;00m\n\u001b[0;32m--> 467\u001b[0m     result, tz_out \u001b[38;5;241m=\u001b[39m array_strptime(arg, fmt, exact\u001b[38;5;241m=\u001b[39mexact, errors\u001b[38;5;241m=\u001b[39merrors, utc\u001b[38;5;241m=\u001b[39mutc)\n\u001b[1;32m    468\u001b[0m     \u001b[38;5;28;01mif\u001b[39;00m tz_out \u001b[38;5;129;01mis\u001b[39;00m \u001b[38;5;129;01mnot\u001b[39;00m \u001b[38;5;28;01mNone\u001b[39;00m:\n\u001b[1;32m    469\u001b[0m         unit \u001b[38;5;241m=\u001b[39m np\u001b[38;5;241m.\u001b[39mdatetime_data(result\u001b[38;5;241m.\u001b[39mdtype)[\u001b[38;5;241m0\u001b[39m]\n",
      "File \u001b[0;32mstrptime.pyx:501\u001b[0m, in \u001b[0;36mpandas._libs.tslibs.strptime.array_strptime\u001b[0;34m()\u001b[0m\n",
      "File \u001b[0;32mstrptime.pyx:451\u001b[0m, in \u001b[0;36mpandas._libs.tslibs.strptime.array_strptime\u001b[0;34m()\u001b[0m\n",
      "File \u001b[0;32mstrptime.pyx:583\u001b[0m, in \u001b[0;36mpandas._libs.tslibs.strptime._parse_with_format\u001b[0;34m()\u001b[0m\n",
      "\u001b[0;31mValueError\u001b[0m: time data \"02/21/217\" doesn't match format \"%m/%d/%Y\", at position 686. You might want to try:\n    - passing `format` if your strings have a consistent format;\n    - passing `format='ISO8601'` if your strings are all ISO8601 but not necessarily in exactly the same format;\n    - passing `format='mixed'`, and the format will be inferred for each element individually. You might want to use `dayfirst` alongside this."
     ]
    }
   ],
   "source": [
    "senator_filing_data_df['Transaction Date'] = pd.to_datetime(senator_filing_data_df['Transaction Date'])\n",
    "\n"
   ]
  },
  {
   "cell_type": "markdown",
   "id": "589b16d4-b292-47e1-9fa3-037984ae6117",
   "metadata": {},
   "source": [
    "That didnt work, it looks like theres at typo \"02/21/217\", where it should be \"02/21/2017.\" Lets see how many times this happens, and where they occur. "
   ]
  },
  {
   "cell_type": "code",
   "execution_count": 292,
   "id": "d599ddd7-ad75-41af-a566-f877dd080e18",
   "metadata": {},
   "outputs": [
    {
     "data": {
      "text/html": [
       "<div>\n",
       "<style scoped>\n",
       "    .dataframe tbody tr th:only-of-type {\n",
       "        vertical-align: middle;\n",
       "    }\n",
       "\n",
       "    .dataframe tbody tr th {\n",
       "        vertical-align: top;\n",
       "    }\n",
       "\n",
       "    .dataframe thead th {\n",
       "        text-align: right;\n",
       "    }\n",
       "</style>\n",
       "<table border=\"1\" class=\"dataframe\">\n",
       "  <thead>\n",
       "    <tr style=\"text-align: right;\">\n",
       "      <th></th>\n",
       "      <th>Transaction Date</th>\n",
       "      <th>Owner</th>\n",
       "      <th>Ticker</th>\n",
       "      <th>Asset Name</th>\n",
       "      <th>Amount</th>\n",
       "      <th>Senator Name</th>\n",
       "      <th>Transaction Type</th>\n",
       "    </tr>\n",
       "  </thead>\n",
       "  <tbody>\n",
       "    <tr>\n",
       "      <th>4182</th>\n",
       "      <td>02/21/217</td>\n",
       "      <td>Self</td>\n",
       "      <td>JALBX</td>\n",
       "      <td>JHancock Multimanager Lifestyle Bal A</td>\n",
       "      <td>$100,001 - $250,000</td>\n",
       "      <td>The Honorable Michael B Enzi (Former Senator)</td>\n",
       "      <td>Sale (Full)</td>\n",
       "    </tr>\n",
       "    <tr>\n",
       "      <th>39984</th>\n",
       "      <td>02/28/218</td>\n",
       "      <td>Spouse</td>\n",
       "      <td>PRWCX</td>\n",
       "      <td>T. Rowe Price Capital Appreciation Fund</td>\n",
       "      <td>$1,001 - $15,000</td>\n",
       "      <td>Cassidy, Bill</td>\n",
       "      <td>Sale (Partial)</td>\n",
       "    </tr>\n",
       "    <tr>\n",
       "      <th>40013</th>\n",
       "      <td>07/06/218</td>\n",
       "      <td>Spouse</td>\n",
       "      <td>JNBSX</td>\n",
       "      <td>JPMorgan Income Builder Fund Class I Shares</td>\n",
       "      <td>$1,001 - $15,000</td>\n",
       "      <td>Cassidy, Bill</td>\n",
       "      <td>Sale (Partial)</td>\n",
       "    </tr>\n",
       "    <tr>\n",
       "      <th>40806</th>\n",
       "      <td>02/28/218</td>\n",
       "      <td>Spouse</td>\n",
       "      <td>PRWCX</td>\n",
       "      <td>T. Rowe Price Capital Appreciation Fund</td>\n",
       "      <td>$1,001 - $15,000</td>\n",
       "      <td>Cassidy, Bill</td>\n",
       "      <td>Sale (Partial)</td>\n",
       "    </tr>\n",
       "    <tr>\n",
       "      <th>40835</th>\n",
       "      <td>07/06/218</td>\n",
       "      <td>Spouse</td>\n",
       "      <td>JNBSX</td>\n",
       "      <td>JPMorgan Income Builder Fund Class I Shares</td>\n",
       "      <td>$1,001 - $15,000</td>\n",
       "      <td>Cassidy, Bill</td>\n",
       "      <td>Sale (Partial)</td>\n",
       "    </tr>\n",
       "  </tbody>\n",
       "</table>\n",
       "</div>"
      ],
      "text/plain": [
       "      Transaction Date   Owner Ticker                                   Asset Name               Amount                                   Senator Name Transaction Type\n",
       "4182         02/21/217    Self  JALBX        JHancock Multimanager Lifestyle Bal A  $100,001 - $250,000  The Honorable Michael B Enzi (Former Senator)      Sale (Full)\n",
       "39984        02/28/218  Spouse  PRWCX      T. Rowe Price Capital Appreciation Fund     $1,001 - $15,000                                  Cassidy, Bill   Sale (Partial)\n",
       "40013        07/06/218  Spouse  JNBSX  JPMorgan Income Builder Fund Class I Shares     $1,001 - $15,000                                  Cassidy, Bill   Sale (Partial)\n",
       "40806        02/28/218  Spouse  PRWCX      T. Rowe Price Capital Appreciation Fund     $1,001 - $15,000                                  Cassidy, Bill   Sale (Partial)\n",
       "40835        07/06/218  Spouse  JNBSX  JPMorgan Income Builder Fund Class I Shares     $1,001 - $15,000                                  Cassidy, Bill   Sale (Partial)"
      ]
     },
     "execution_count": 292,
     "metadata": {},
     "output_type": "execute_result"
    }
   ],
   "source": [
    "error_date_col = senator_filing_data_df[senator_filing_data_df['Transaction Date'].str.len() != 10]\n",
    "error_date_col.head(5)"
   ]
  },
  {
   "cell_type": "markdown",
   "id": "d691e1ec-0075-4b2c-84b2-c92d7a84c69c",
   "metadata": {},
   "source": [
    "lets change them!"
   ]
  },
  {
   "cell_type": "code",
   "execution_count": 293,
   "id": "9ec92b97-8910-46cf-8ca5-83f0ccf6e87d",
   "metadata": {},
   "outputs": [],
   "source": [
    "mask = senator_filing_data_df['Transaction Date'].str.len() != 10\n",
    "# Change the entries in the original DataFrame based on the mask\n",
    "senator_filing_data_df.loc[mask, 'Transaction Date'] = senator_filing_data_df.loc[mask, 'Transaction Date'].apply(lambda x: x[:7] + '0' + x[7:])"
   ]
  },
  {
   "cell_type": "code",
   "execution_count": 294,
   "id": "f8b3c55f-7161-453d-aace-20c6c178c69a",
   "metadata": {},
   "outputs": [
    {
     "data": {
      "text/plain": [
       "(0, 7)"
      ]
     },
     "execution_count": 294,
     "metadata": {},
     "output_type": "execute_result"
    }
   ],
   "source": [
    "error_date_col = senator_filing_data_df[senator_filing_data_df['Transaction Date'].str.len() != 10]\n",
    "error_date_col.shape"
   ]
  },
  {
   "cell_type": "code",
   "execution_count": 295,
   "id": "89c42921-8b8c-4219-90cb-28d5cd69785c",
   "metadata": {},
   "outputs": [
    {
     "data": {
      "text/plain": [
       "Transaction Date                                       02/21/2017\n",
       "Owner                                                        Self\n",
       "Ticker                                                      JALBX\n",
       "Asset Name                  JHancock Multimanager Lifestyle Bal A\n",
       "Amount                                        $100,001 - $250,000\n",
       "Senator Name        The Honorable Michael B Enzi (Former Senator)\n",
       "Transaction Type                                      Sale (Full)\n",
       "Name: 4182, dtype: object"
      ]
     },
     "execution_count": 295,
     "metadata": {},
     "output_type": "execute_result"
    }
   ],
   "source": [
    "#Double check 0 was added\n",
    "senator_filing_data_df.loc[4182]"
   ]
  },
  {
   "cell_type": "markdown",
   "id": "12189616-7035-4472-b1c3-52b9350b1dfa",
   "metadata": {},
   "source": [
    "#### Looks good\n",
    "Now we can convert"
   ]
  },
  {
   "cell_type": "code",
   "execution_count": 296,
   "id": "e07742bd-651b-4480-a778-a0f3fcf7c79d",
   "metadata": {},
   "outputs": [],
   "source": [
    "senator_filing_data_df['Transaction Date'] = pd.to_datetime(senator_filing_data_df['Transaction Date'])"
   ]
  },
  {
   "cell_type": "markdown",
   "id": "f10c0b4d-63b4-444a-bd57-62ec312c3c61",
   "metadata": {},
   "source": [
    "Lets try sorting by date in ascending order"
   ]
  },
  {
   "cell_type": "code",
   "execution_count": 297,
   "id": "381b2c15-16ca-4f23-b250-ee4bb7d6980f",
   "metadata": {},
   "outputs": [
    {
     "data": {
      "text/html": [
       "<div>\n",
       "<style scoped>\n",
       "    .dataframe tbody tr th:only-of-type {\n",
       "        vertical-align: middle;\n",
       "    }\n",
       "\n",
       "    .dataframe tbody tr th {\n",
       "        vertical-align: top;\n",
       "    }\n",
       "\n",
       "    .dataframe thead th {\n",
       "        text-align: right;\n",
       "    }\n",
       "</style>\n",
       "<table border=\"1\" class=\"dataframe\">\n",
       "  <thead>\n",
       "    <tr style=\"text-align: right;\">\n",
       "      <th></th>\n",
       "      <th>Transaction Date</th>\n",
       "      <th>Owner</th>\n",
       "      <th>Ticker</th>\n",
       "      <th>Asset Name</th>\n",
       "      <th>Amount</th>\n",
       "      <th>Senator Name</th>\n",
       "      <th>Transaction Type</th>\n",
       "    </tr>\n",
       "  </thead>\n",
       "  <tbody>\n",
       "    <tr>\n",
       "      <th>30104</th>\n",
       "      <td>2002-06-28</td>\n",
       "      <td>Self</td>\n",
       "      <td>JEPI</td>\n",
       "      <td>JPM Equity Premium Income ETF</td>\n",
       "      <td>$1,001 - $15,000</td>\n",
       "      <td>Peters, Gary</td>\n",
       "      <td>Purchase</td>\n",
       "    </tr>\n",
       "    <tr>\n",
       "      <th>34628</th>\n",
       "      <td>2002-07-01</td>\n",
       "      <td>Spouse</td>\n",
       "      <td>--</td>\n",
       "      <td>JNL/JPMorgan USGov&amp;Qual</td>\n",
       "      <td>$1,001 - $15,000</td>\n",
       "      <td>Coons, Chris</td>\n",
       "      <td>Purchase</td>\n",
       "    </tr>\n",
       "    <tr>\n",
       "      <th>34637</th>\n",
       "      <td>2002-07-01</td>\n",
       "      <td>Spouse</td>\n",
       "      <td>--</td>\n",
       "      <td>JNL/JPMorgan MidCapGrowth</td>\n",
       "      <td>$1,001 - $15,000</td>\n",
       "      <td>Coons, Chris</td>\n",
       "      <td>Purchase</td>\n",
       "    </tr>\n",
       "    <tr>\n",
       "      <th>25684</th>\n",
       "      <td>2002-12-07</td>\n",
       "      <td>Spouse</td>\n",
       "      <td>VOX</td>\n",
       "      <td>Vanguard Communication Services ETF</td>\n",
       "      <td>$1,001 - $15,000</td>\n",
       "      <td>Whitehouse, Sheldon</td>\n",
       "      <td>Sale (Full)</td>\n",
       "    </tr>\n",
       "    <tr>\n",
       "      <th>26694</th>\n",
       "      <td>2002-12-07</td>\n",
       "      <td>Spouse</td>\n",
       "      <td>VOX</td>\n",
       "      <td>Vanguard Communication Services ETF</td>\n",
       "      <td>$1,001 - $15,000</td>\n",
       "      <td>Whitehouse, Sheldon</td>\n",
       "      <td>Sale (Full)</td>\n",
       "    </tr>\n",
       "    <tr>\n",
       "      <th>14314</th>\n",
       "      <td>2012-01-02</td>\n",
       "      <td>Self</td>\n",
       "      <td>WAG</td>\n",
       "      <td>Walgreen Co. (NYSE)</td>\n",
       "      <td>$1,001 - $15,000</td>\n",
       "      <td>The Honorable Thad Cochran (Former Senator)</td>\n",
       "      <td>Purchase</td>\n",
       "    </tr>\n",
       "  </tbody>\n",
       "</table>\n",
       "</div>"
      ],
      "text/plain": [
       "      Transaction Date   Owner Ticker                           Asset Name            Amount                                 Senator Name Transaction Type\n",
       "30104       2002-06-28    Self   JEPI        JPM Equity Premium Income ETF  $1,001 - $15,000                                 Peters, Gary         Purchase\n",
       "34628       2002-07-01  Spouse     --              JNL/JPMorgan USGov&Qual  $1,001 - $15,000                                 Coons, Chris         Purchase\n",
       "34637       2002-07-01  Spouse     --            JNL/JPMorgan MidCapGrowth  $1,001 - $15,000                                 Coons, Chris         Purchase\n",
       "25684       2002-12-07  Spouse    VOX  Vanguard Communication Services ETF  $1,001 - $15,000                          Whitehouse, Sheldon      Sale (Full)\n",
       "26694       2002-12-07  Spouse    VOX  Vanguard Communication Services ETF  $1,001 - $15,000                          Whitehouse, Sheldon      Sale (Full)\n",
       "14314       2012-01-02    Self    WAG                  Walgreen Co. (NYSE)  $1,001 - $15,000  The Honorable Thad Cochran (Former Senator)         Purchase"
      ]
     },
     "execution_count": 297,
     "metadata": {},
     "output_type": "execute_result"
    }
   ],
   "source": [
    "sorted_filings = senator_filing_data_df.sort_values(by='Transaction Date', ascending=True)\n",
    "sorted_filings.head(6)"
   ]
  },
  {
   "cell_type": "markdown",
   "id": "5affcc5d-4f1c-4f49-a670-cc5cf2ce70a3",
   "metadata": {},
   "source": [
    "#### Uh oh\n",
    "It looks like the first 5 entrys have a transaction year of 2002, well before the earliest reporting year of 2013. It is most likely a typo in the senate website. \n",
    "We will just remove these entries as it is not possible to tell when the trades actually take place."
   ]
  },
  {
   "cell_type": "code",
   "execution_count": 298,
   "id": "e98058da-ac2a-4d1b-99aa-b7ed166599f8",
   "metadata": {},
   "outputs": [],
   "source": [
    "senator_filing_data_df.drop([30104,34628,34637,25684,26694], inplace=True)"
   ]
  },
  {
   "cell_type": "code",
   "execution_count": 299,
   "id": "00013b75-f3ab-4dce-a397-d008d3f5e5cc",
   "metadata": {},
   "outputs": [
    {
     "data": {
      "text/html": [
       "<div>\n",
       "<style scoped>\n",
       "    .dataframe tbody tr th:only-of-type {\n",
       "        vertical-align: middle;\n",
       "    }\n",
       "\n",
       "    .dataframe tbody tr th {\n",
       "        vertical-align: top;\n",
       "    }\n",
       "\n",
       "    .dataframe thead th {\n",
       "        text-align: right;\n",
       "    }\n",
       "</style>\n",
       "<table border=\"1\" class=\"dataframe\">\n",
       "  <thead>\n",
       "    <tr style=\"text-align: right;\">\n",
       "      <th></th>\n",
       "      <th>Transaction Date</th>\n",
       "      <th>Owner</th>\n",
       "      <th>Ticker</th>\n",
       "      <th>Asset Name</th>\n",
       "      <th>Amount</th>\n",
       "      <th>Senator Name</th>\n",
       "      <th>Transaction Type</th>\n",
       "    </tr>\n",
       "  </thead>\n",
       "  <tbody>\n",
       "    <tr>\n",
       "      <th>1938</th>\n",
       "      <td>2012-01-02</td>\n",
       "      <td>Self</td>\n",
       "      <td>WAG</td>\n",
       "      <td>Walgreen Co. (NYSE)</td>\n",
       "      <td>$1,001 - $15,000</td>\n",
       "      <td>The Honorable Thad Cochran (Former Senator)</td>\n",
       "      <td>Purchase</td>\n",
       "    </tr>\n",
       "    <tr>\n",
       "      <th>14314</th>\n",
       "      <td>2012-01-02</td>\n",
       "      <td>Self</td>\n",
       "      <td>WAG</td>\n",
       "      <td>Walgreen Co. (NYSE)</td>\n",
       "      <td>$1,001 - $15,000</td>\n",
       "      <td>The Honorable Thad Cochran (Former Senator)</td>\n",
       "      <td>Purchase</td>\n",
       "    </tr>\n",
       "    <tr>\n",
       "      <th>2185</th>\n",
       "      <td>2012-01-02</td>\n",
       "      <td>Self</td>\n",
       "      <td>WAG</td>\n",
       "      <td>Walgreen Co. (NYSE)</td>\n",
       "      <td>$1,001 - $15,000</td>\n",
       "      <td>The Honorable Thad Cochran (Former Senator)</td>\n",
       "      <td>Purchase</td>\n",
       "    </tr>\n",
       "    <tr>\n",
       "      <th>2782</th>\n",
       "      <td>2012-01-02</td>\n",
       "      <td>Self</td>\n",
       "      <td>WAG</td>\n",
       "      <td>Walgreen Co. (NYSE)</td>\n",
       "      <td>$1,001 - $15,000</td>\n",
       "      <td>The Honorable Thad Cochran (Former Senator)</td>\n",
       "      <td>Purchase</td>\n",
       "    </tr>\n",
       "    <tr>\n",
       "      <th>14315</th>\n",
       "      <td>2012-02-22</td>\n",
       "      <td>Self</td>\n",
       "      <td>DPS</td>\n",
       "      <td>Dr Pepper Snapple Group, Inc. (NYSE)</td>\n",
       "      <td>$1,001 - $15,000</td>\n",
       "      <td>The Honorable Thad Cochran (Former Senator)</td>\n",
       "      <td>Purchase</td>\n",
       "    </tr>\n",
       "  </tbody>\n",
       "</table>\n",
       "</div>"
      ],
      "text/plain": [
       "      Transaction Date Owner Ticker                            Asset Name            Amount                                 Senator Name Transaction Type\n",
       "1938        2012-01-02  Self    WAG                   Walgreen Co. (NYSE)  $1,001 - $15,000  The Honorable Thad Cochran (Former Senator)         Purchase\n",
       "14314       2012-01-02  Self    WAG                   Walgreen Co. (NYSE)  $1,001 - $15,000  The Honorable Thad Cochran (Former Senator)         Purchase\n",
       "2185        2012-01-02  Self    WAG                   Walgreen Co. (NYSE)  $1,001 - $15,000  The Honorable Thad Cochran (Former Senator)         Purchase\n",
       "2782        2012-01-02  Self    WAG                   Walgreen Co. (NYSE)  $1,001 - $15,000  The Honorable Thad Cochran (Former Senator)         Purchase\n",
       "14315       2012-02-22  Self    DPS  Dr Pepper Snapple Group, Inc. (NYSE)  $1,001 - $15,000  The Honorable Thad Cochran (Former Senator)         Purchase"
      ]
     },
     "execution_count": 299,
     "metadata": {},
     "output_type": "execute_result"
    }
   ],
   "source": [
    "sorted_filings = senator_filing_data_df.sort_values(by='Transaction Date', ascending=True)\n",
    "sorted_filings.head(5)"
   ]
  },
  {
   "cell_type": "markdown",
   "id": "933c0822-57bb-4c91-a73a-93a5ec651b82",
   "metadata": {},
   "source": [
    "Now lets clean up the Senator Name column. The scraper I wrote is not very robust when it comes to collecting names of senators, so in the case that the senator was terminated at the time of filing, the scraper grabbed the entire header tag containing the senators name, ie \"The Honorable Thad Cochran (Former Senator).\" Additionally, its possible that some entries have the \"(Former Senator)\" string but not the \"The Honorable\" sring. Finally, in some cases the name may include \"Mr\", \"Ms\", or \"Mrs\" such as \"Ms. Kamala D Harris (Former Senator).\" Lets get rid of the unecessary stuff, and put the name in LAST, FIRST format to match the rest of the entries. "
   ]
  },
  {
   "cell_type": "code",
   "execution_count": 300,
   "id": "eb5ecda0-e90d-4114-a5d6-7af073ed2990",
   "metadata": {},
   "outputs": [],
   "source": [
    "mask = senator_filing_data_df['Senator Name'].str.contains(\"Former Senator\")\n",
    "# Change the entries in the original DataFrame based on the mask\n",
    "\n",
    "def fix_senator_name(name_entry):\n",
    "    pattern = r\"(The Honorable|Ms.|Mr.|Mrs.)? ([a-zA-Z]*)?\\s*([A-Z])? ([a-zA-Z]*)?\\s*(Jr)? (\\(Former Senator\\))?\"\n",
    "        \n",
    "    matches = re.findall(pattern, name_entry) \n",
    "    #Get rid of title cap group ie \"Mr\", \"The Honorable\" etc\n",
    "    #Also get rid of \"Former Senator\"\n",
    "    match = matches[0]\n",
    "\n",
    "    f_name = ''\n",
    "    l_name = ''\n",
    "\n",
    "    if (len(match) == 6):\n",
    "        if (match[2]):\n",
    "            f_name = match[1] + \" \" + match[2]\n",
    "        else:\n",
    "            f_name = match[1] + match[2]\n",
    "            \n",
    "        if (match[4]):\n",
    "            l_name = match[3] + \" \" + match[4]\n",
    "        else:\n",
    "            l_name = match[3] + match[4]\n",
    "        \n",
    "        name = l_name + ', ' + f_name\n",
    "        return name\n",
    "        \n",
    "senator_filing_data_df.loc[mask, 'Senator Name'] = senator_filing_data_df.loc[mask, 'Senator Name'].apply(fix_senator_name)"
   ]
  },
  {
   "cell_type": "code",
   "execution_count": 301,
   "id": "db6a1e94-59b3-4583-9f6f-3bd0cc6fb5ad",
   "metadata": {},
   "outputs": [
    {
     "data": {
      "text/html": [
       "<div>\n",
       "<style scoped>\n",
       "    .dataframe tbody tr th:only-of-type {\n",
       "        vertical-align: middle;\n",
       "    }\n",
       "\n",
       "    .dataframe tbody tr th {\n",
       "        vertical-align: top;\n",
       "    }\n",
       "\n",
       "    .dataframe thead th {\n",
       "        text-align: right;\n",
       "    }\n",
       "</style>\n",
       "<table border=\"1\" class=\"dataframe\">\n",
       "  <thead>\n",
       "    <tr style=\"text-align: right;\">\n",
       "      <th></th>\n",
       "      <th>Transaction Date</th>\n",
       "      <th>Owner</th>\n",
       "      <th>Ticker</th>\n",
       "      <th>Asset Name</th>\n",
       "      <th>Amount</th>\n",
       "      <th>Senator Name</th>\n",
       "      <th>Transaction Type</th>\n",
       "    </tr>\n",
       "  </thead>\n",
       "  <tbody>\n",
       "    <tr>\n",
       "      <th>0</th>\n",
       "      <td>2014-04-29</td>\n",
       "      <td>Joint</td>\n",
       "      <td>LINE</td>\n",
       "      <td>Linn Energy, LLC (NASDAQ)</td>\n",
       "      <td>$1,001 - $15,000</td>\n",
       "      <td>Toomey, Patrick J</td>\n",
       "      <td>Sale (Full)</td>\n",
       "    </tr>\n",
       "    <tr>\n",
       "      <th>1</th>\n",
       "      <td>2014-06-05</td>\n",
       "      <td>Joint</td>\n",
       "      <td>GLD</td>\n",
       "      <td>SPDR Gold Shares</td>\n",
       "      <td>$1,001 - $15,000</td>\n",
       "      <td>Toomey, Patrick J</td>\n",
       "      <td>Sale (Partial)</td>\n",
       "    </tr>\n",
       "    <tr>\n",
       "      <th>2</th>\n",
       "      <td>2014-06-05</td>\n",
       "      <td>Joint</td>\n",
       "      <td>PPL</td>\n",
       "      <td>PPL Corporation (NYSE)</td>\n",
       "      <td>$15,001 - $50,000</td>\n",
       "      <td>Toomey, Patrick J</td>\n",
       "      <td>Sale (Partial)</td>\n",
       "    </tr>\n",
       "    <tr>\n",
       "      <th>3</th>\n",
       "      <td>2014-06-10</td>\n",
       "      <td>Self</td>\n",
       "      <td>--</td>\n",
       "      <td>Team Capitol Bank</td>\n",
       "      <td>$500,001 - $1,000,000</td>\n",
       "      <td>Toomey, Patrick J</td>\n",
       "      <td>Exchange</td>\n",
       "    </tr>\n",
       "    <tr>\n",
       "      <th>4</th>\n",
       "      <td>2014-06-11</td>\n",
       "      <td>Joint</td>\n",
       "      <td>LGP</td>\n",
       "      <td>Lehigh Gas Partners LP (NYSE)</td>\n",
       "      <td>$15,001 - $50,000</td>\n",
       "      <td>Toomey, Patrick J</td>\n",
       "      <td>Purchase</td>\n",
       "    </tr>\n",
       "  </tbody>\n",
       "</table>\n",
       "</div>"
      ],
      "text/plain": [
       "  Transaction Date  Owner Ticker                     Asset Name                 Amount       Senator Name Transaction Type\n",
       "0       2014-04-29  Joint   LINE      Linn Energy, LLC (NASDAQ)       $1,001 - $15,000  Toomey, Patrick J      Sale (Full)\n",
       "1       2014-06-05  Joint    GLD               SPDR Gold Shares       $1,001 - $15,000  Toomey, Patrick J   Sale (Partial)\n",
       "2       2014-06-05  Joint    PPL         PPL Corporation (NYSE)      $15,001 - $50,000  Toomey, Patrick J   Sale (Partial)\n",
       "3       2014-06-10   Self     --              Team Capitol Bank  $500,001 - $1,000,000  Toomey, Patrick J         Exchange\n",
       "4       2014-06-11  Joint    LGP  Lehigh Gas Partners LP (NYSE)      $15,001 - $50,000  Toomey, Patrick J         Purchase"
      ]
     },
     "execution_count": 301,
     "metadata": {},
     "output_type": "execute_result"
    }
   ],
   "source": [
    "senator_filing_data_df.head(5)"
   ]
  },
  {
   "cell_type": "code",
   "execution_count": 302,
   "id": "26a03823-f45d-403c-9caa-2e74a4601f37",
   "metadata": {
    "scrolled": true
   },
   "outputs": [
    {
     "data": {
      "text/html": [
       "<div>\n",
       "<style scoped>\n",
       "    .dataframe tbody tr th:only-of-type {\n",
       "        vertical-align: middle;\n",
       "    }\n",
       "\n",
       "    .dataframe tbody tr th {\n",
       "        vertical-align: top;\n",
       "    }\n",
       "\n",
       "    .dataframe thead th {\n",
       "        text-align: right;\n",
       "    }\n",
       "</style>\n",
       "<table border=\"1\" class=\"dataframe\">\n",
       "  <thead>\n",
       "    <tr style=\"text-align: right;\">\n",
       "      <th></th>\n",
       "      <th>Transaction Date</th>\n",
       "      <th>Owner</th>\n",
       "      <th>Ticker</th>\n",
       "      <th>Asset Name</th>\n",
       "      <th>Amount</th>\n",
       "      <th>Senator Name</th>\n",
       "      <th>Transaction Type</th>\n",
       "    </tr>\n",
       "  </thead>\n",
       "  <tbody>\n",
       "    <tr>\n",
       "      <th>3</th>\n",
       "      <td>2014-06-10</td>\n",
       "      <td>Self</td>\n",
       "      <td>--</td>\n",
       "      <td>Team Capitol Bank</td>\n",
       "      <td>$500,001 - $1,000,000</td>\n",
       "      <td>Toomey, Patrick J</td>\n",
       "      <td>Exchange</td>\n",
       "    </tr>\n",
       "    <tr>\n",
       "      <th>51</th>\n",
       "      <td>2014-08-07</td>\n",
       "      <td>Joint</td>\n",
       "      <td>--</td>\n",
       "      <td>Lehigh gass Partners LP UT</td>\n",
       "      <td>$15,001 - $50,000</td>\n",
       "      <td>Toomey, Patrick J</td>\n",
       "      <td>Sale (Full)</td>\n",
       "    </tr>\n",
       "    <tr>\n",
       "      <th>55</th>\n",
       "      <td>2014-06-11</td>\n",
       "      <td>Joint</td>\n",
       "      <td>--</td>\n",
       "      <td>Lehigh Gas Partners LP UT</td>\n",
       "      <td>$15,001 - $50,000</td>\n",
       "      <td>Toomey, Patrick J</td>\n",
       "      <td>Purchase</td>\n",
       "    </tr>\n",
       "    <tr>\n",
       "      <th>102</th>\n",
       "      <td>2014-01-02</td>\n",
       "      <td>Spouse</td>\n",
       "      <td>--</td>\n",
       "      <td>11.15% due 9/30/16 RBC Autocall Blackstone</td>\n",
       "      <td>$15,001 - $50,000</td>\n",
       "      <td>Carper, Thomas R.</td>\n",
       "      <td>Sale (Full)</td>\n",
       "    </tr>\n",
       "    <tr>\n",
       "      <th>103</th>\n",
       "      <td>2014-01-03</td>\n",
       "      <td>Spouse</td>\n",
       "      <td>--</td>\n",
       "      <td>8.6% due 1/8/15 HSBC Autocall Broadcom</td>\n",
       "      <td>$15,001 - $50,000</td>\n",
       "      <td>Carper, Thomas R.</td>\n",
       "      <td>Purchase</td>\n",
       "    </tr>\n",
       "  </tbody>\n",
       "</table>\n",
       "</div>"
      ],
      "text/plain": [
       "    Transaction Date   Owner Ticker                                  Asset Name                 Amount       Senator Name Transaction Type\n",
       "3         2014-06-10    Self     --                           Team Capitol Bank  $500,001 - $1,000,000  Toomey, Patrick J         Exchange\n",
       "51        2014-08-07   Joint     --                  Lehigh gass Partners LP UT      $15,001 - $50,000  Toomey, Patrick J      Sale (Full)\n",
       "55        2014-06-11   Joint     --                   Lehigh Gas Partners LP UT      $15,001 - $50,000  Toomey, Patrick J         Purchase\n",
       "102       2014-01-02  Spouse     --  11.15% due 9/30/16 RBC Autocall Blackstone      $15,001 - $50,000  Carper, Thomas R.      Sale (Full)\n",
       "103       2014-01-03  Spouse     --      8.6% due 1/8/15 HSBC Autocall Broadcom      $15,001 - $50,000  Carper, Thomas R.         Purchase"
      ]
     },
     "execution_count": 302,
     "metadata": {},
     "output_type": "execute_result"
    }
   ],
   "source": [
    "blank_ticker = senator_filing_data_df[senator_filing_data_df['Ticker'] == '--']\n",
    "blank_ticker.head(5)"
   ]
  },
  {
   "cell_type": "markdown",
   "id": "27ea6876-935d-46c1-bccd-aec0498b89ac",
   "metadata": {},
   "source": [
    "It looks like some entries where the ticker is equal to '--' include things that arent publicly traded stocks, such as retiremnet investment accounds, college fund portfolios, annuities, etc. Lets get rid of them because we wont be able to easily find stock information on these purchases. "
   ]
  },
  {
   "cell_type": "code",
   "execution_count": 303,
   "id": "a6c5b833-0c7a-49d6-9a0c-3a66a3207622",
   "metadata": {},
   "outputs": [],
   "source": [
    "senator_filing_data_df = senator_filing_data_df[~(senator_filing_data_df['Ticker'] == '--')]"
   ]
  },
  {
   "cell_type": "markdown",
   "id": "7996af52-e983-4b94-bfd7-799019dfb822",
   "metadata": {},
   "source": [
    "Additionally,lets remove the rows where the transcation type is \"Exchange\" as we wont be able to gain any information from them"
   ]
  },
  {
   "cell_type": "code",
   "execution_count": 310,
   "id": "4b202224-5749-4179-871c-211bfeb66d2d",
   "metadata": {},
   "outputs": [
    {
     "name": "stdout",
     "output_type": "stream",
     "text": [
      "41178\n",
      "40957\n"
     ]
    }
   ],
   "source": [
    "senator_filing_data_df = senator_filing_data_df[~(senator_filing_data_df['Transaction Type'] == 'Exchange')]"
   ]
  },
  {
   "cell_type": "markdown",
   "id": "3c2ea0ca-1035-46d7-8759-61c462ab7180",
   "metadata": {},
   "source": [
    "Possibly combine so each transaction type is in one row"
   ]
  },
  {
   "cell_type": "code",
   "execution_count": 304,
   "id": "436162fe-9bbc-4080-b41f-372642e6e18e",
   "metadata": {},
   "outputs": [
    {
     "data": {
      "text/html": [
       "<div>\n",
       "<style scoped>\n",
       "    .dataframe tbody tr th:only-of-type {\n",
       "        vertical-align: middle;\n",
       "    }\n",
       "\n",
       "    .dataframe tbody tr th {\n",
       "        vertical-align: top;\n",
       "    }\n",
       "\n",
       "    .dataframe thead th {\n",
       "        text-align: right;\n",
       "    }\n",
       "</style>\n",
       "<table border=\"1\" class=\"dataframe\">\n",
       "  <thead>\n",
       "    <tr style=\"text-align: right;\">\n",
       "      <th></th>\n",
       "      <th>Transaction Date</th>\n",
       "      <th>Owner</th>\n",
       "      <th>Ticker</th>\n",
       "      <th>Asset Name</th>\n",
       "      <th>Amount</th>\n",
       "      <th>Senator Name</th>\n",
       "      <th>Transaction Type</th>\n",
       "    </tr>\n",
       "  </thead>\n",
       "  <tbody>\n",
       "    <tr>\n",
       "      <th>0</th>\n",
       "      <td>2014-04-29</td>\n",
       "      <td>Joint</td>\n",
       "      <td>LINE</td>\n",
       "      <td>Linn Energy, LLC (NASDAQ)</td>\n",
       "      <td>$1,001 - $15,000</td>\n",
       "      <td>Toomey, Patrick J</td>\n",
       "      <td>Sale (Full)</td>\n",
       "    </tr>\n",
       "    <tr>\n",
       "      <th>1</th>\n",
       "      <td>2014-06-05</td>\n",
       "      <td>Joint</td>\n",
       "      <td>GLD</td>\n",
       "      <td>SPDR Gold Shares</td>\n",
       "      <td>$1,001 - $15,000</td>\n",
       "      <td>Toomey, Patrick J</td>\n",
       "      <td>Sale (Partial)</td>\n",
       "    </tr>\n",
       "    <tr>\n",
       "      <th>2</th>\n",
       "      <td>2014-06-05</td>\n",
       "      <td>Joint</td>\n",
       "      <td>PPL</td>\n",
       "      <td>PPL Corporation (NYSE)</td>\n",
       "      <td>$15,001 - $50,000</td>\n",
       "      <td>Toomey, Patrick J</td>\n",
       "      <td>Sale (Partial)</td>\n",
       "    </tr>\n",
       "    <tr>\n",
       "      <th>4</th>\n",
       "      <td>2014-06-11</td>\n",
       "      <td>Joint</td>\n",
       "      <td>LGP</td>\n",
       "      <td>Lehigh Gas Partners LP (NYSE)</td>\n",
       "      <td>$15,001 - $50,000</td>\n",
       "      <td>Toomey, Patrick J</td>\n",
       "      <td>Purchase</td>\n",
       "    </tr>\n",
       "    <tr>\n",
       "      <th>5</th>\n",
       "      <td>2014-06-12</td>\n",
       "      <td>Joint</td>\n",
       "      <td>DBP</td>\n",
       "      <td>PowerShares DB Precious Metals</td>\n",
       "      <td>$15,001 - $50,000</td>\n",
       "      <td>Toomey, Patrick J</td>\n",
       "      <td>Purchase</td>\n",
       "    </tr>\n",
       "  </tbody>\n",
       "</table>\n",
       "</div>"
      ],
      "text/plain": [
       "  Transaction Date  Owner Ticker                      Asset Name             Amount       Senator Name Transaction Type\n",
       "0       2014-04-29  Joint   LINE       Linn Energy, LLC (NASDAQ)   $1,001 - $15,000  Toomey, Patrick J      Sale (Full)\n",
       "1       2014-06-05  Joint    GLD                SPDR Gold Shares   $1,001 - $15,000  Toomey, Patrick J   Sale (Partial)\n",
       "2       2014-06-05  Joint    PPL          PPL Corporation (NYSE)  $15,001 - $50,000  Toomey, Patrick J   Sale (Partial)\n",
       "4       2014-06-11  Joint    LGP   Lehigh Gas Partners LP (NYSE)  $15,001 - $50,000  Toomey, Patrick J         Purchase\n",
       "5       2014-06-12  Joint    DBP  PowerShares DB Precious Metals  $15,001 - $50,000  Toomey, Patrick J         Purchase"
      ]
     },
     "execution_count": 304,
     "metadata": {},
     "output_type": "execute_result"
    }
   ],
   "source": [
    "senator_filing_data_df.head()"
   ]
  },
  {
   "cell_type": "markdown",
   "id": "23631369-a018-41de-8e4b-43fd004f8170",
   "metadata": {},
   "source": [
    "Lets see how many unique stocks there are."
   ]
  },
  {
   "cell_type": "code",
   "execution_count": 311,
   "id": "5692d175-8b99-4ab3-8516-6553ce3cbcc8",
   "metadata": {},
   "outputs": [
    {
     "name": "stdout",
     "output_type": "stream",
     "text": [
      "Number of Filings: 40957\n",
      "Number of Unique Stocks: 3353\n"
     ]
    }
   ],
   "source": [
    "unique_stocks = senator_filing_data_df['Ticker'].unique()\n",
    "print(f\"Number of Filings: {senator_filing_data_df.shape[0]}\")\n",
    "print(f\"Number of Unique Stocks: {len(unique_stocks)}\")\n",
    "\n"
   ]
  },
  {
   "cell_type": "markdown",
   "id": "1941dfbd-8c2e-490c-8642-f1abcea6f301",
   "metadata": {},
   "source": [
    "Wow! Of the 40957 senator filings from 2012 to 2024, there are only 3353 unique stock purchases."
   ]
  },
  {
   "cell_type": "markdown",
   "id": "dca3b072-753e-44e2-a014-26ba3c7fdd70",
   "metadata": {},
   "source": [
    "### Obtain The Stock Information:\n",
    "In this section, we'll need to collect information on each of the 3432 stocks. We'll use the yahoo_fin package to collect \n",
    "the information from Yahoo Finance. It is important to note that yahoo_fin is free, but may not have the most accurate data"
   ]
  },
  {
   "cell_type": "code",
   "execution_count": null,
   "id": "d108f538-31bb-40d7-a094-319d1c63c94b",
   "metadata": {
    "scrolled": true
   },
   "outputs": [],
   "source": [
    "!pip install yahoo_fin"
   ]
  },
  {
   "cell_type": "markdown",
   "id": "a738be7c-269b-4334-90c6-2472e183eec9",
   "metadata": {},
   "source": [
    "Here is a demo of yahoo_fin."
   ]
  },
  {
   "cell_type": "code",
   "execution_count": null,
   "id": "1b975355-6127-464d-a0db-bf41b66aaa8c",
   "metadata": {},
   "outputs": [],
   "source": [
    "from yahoo_fin.stock_info import get_data\n",
    "\n",
    "amazon_weekly= get_data(\"line\")\n",
    "amazon_weekly.head()"
   ]
  },
  {
   "cell_type": "markdown",
   "id": "38f9efb4-2101-496b-8a2e-b2fe6d764c7c",
   "metadata": {},
   "source": [
    "yahoo_fin returns a pandas df containing the stock information at specified intervals, in this case it contains daily OHLCV data. Lets collect a dataframe for each stock and store it in a dictionary. NOTE, some companies aren't available in yahoo finance for various reasons, for example Linn Energy, LLC (LINE) sold by Senator Patrick Toomey went bankrupt in 2016. While information on the stocks is useful for understanding the big picture of senators trading patterns and possible insight they have (Toomey Sold before the company went bankrupt), it is not feasible to collect this information without spending more time and money to retrieve this information. In this case, we will just skip these stocks."
   ]
  },
  {
   "cell_type": "markdown",
   "id": "e46da3a2-11cd-4167-a937-6619cfcd3f70",
   "metadata": {},
   "source": [
    "historical_datas = {}\n",
    "for i,ticker in enumerate(unique_stocks):\n",
    "    try:\n",
    "        historical_datas[ticker] = get_data(ticker, start_date=\"1/01/2011\", interval=\"1d\")\n",
    "    except:\n",
    "        print(f\"stock {ticker} not found\")"
   ]
  },
  {
   "cell_type": "code",
   "execution_count": 346,
   "id": "e225863b-3c39-465c-8dfc-4d461ebcd353",
   "metadata": {},
   "outputs": [
    {
     "name": "stdout",
     "output_type": "stream",
     "text": [
      "Number of Stock Tables: 2982\n",
      "Data Lost: 371\n"
     ]
    }
   ],
   "source": [
    "print(f'Number of Stock Tables: {len(historical_datas)}')\n",
    "print(f'Data Lost: {len(unique_stocks)-len(historical_datas)}')"
   ]
  },
  {
   "cell_type": "markdown",
   "id": "5aa23738-a5e0-427d-86b6-df1df129ddce",
   "metadata": {},
   "source": [
    "Looks like we werent able to find data on 371 stocks. Lets drop those from the senator_filing_data_df as they will be of no use to us."
   ]
  },
  {
   "cell_type": "code",
   "execution_count": 398,
   "id": "2ec3d80d-3093-4eab-94d7-0d1060e0d293",
   "metadata": {},
   "outputs": [
    {
     "data": {
      "text/plain": [
       "(2982,)"
      ]
     },
     "execution_count": 398,
     "metadata": {},
     "output_type": "execute_result"
    }
   ],
   "source": [
    "#Contain a giant string of all historical_datas.keys() combined\n",
    "\n",
    "\n",
    "unique_stocks_set = set(unique_stocks)\n",
    "historical_datas_keys_set = set(historical_datas.keys())\n",
    "\n",
    "missing_stock_data = unique_stocks_set - (historical_datas_keys_set)\n",
    "mask = senator_filing_data_df['Ticker'].isin(missing_stock_data)\n",
    "\n",
    "#sanity check\n",
    "#This df contains all entries with unknown tickers\n",
    "#The unique values should total to 371\n",
    "illegal_ticker = senator_filing_data_df[mask][\"Ticker\"].unique()\n",
    "illegal_ticker.shape\n",
    "\n",
    "#Remove from senator_filing_data_df\n",
    "senator_filing_data_df = senator_filing_data_df[~mask]\n",
    "#Should be 2982\n",
    "senator_filing_data_df[\"Ticker\"].unique().shape"
   ]
  },
  {
   "cell_type": "markdown",
   "id": "6ccde30c-a796-4f1d-9292-bf1e4eea6aec",
   "metadata": {},
   "source": [
    "Now that the senator_filing_data_df df and the dictonary of historical stock data is all squared away, lets visualize some data. "
   ]
  },
  {
   "cell_type": "markdown",
   "id": "8d768501-4e68-4409-8221-006432cf2aab",
   "metadata": {},
   "source": [
    "## Exploratory Analysis and Data Visualization"
   ]
  },
  {
   "cell_type": "markdown",
   "id": "3fcd7a76-a0e1-40a1-a6d5-f3c83ab52f48",
   "metadata": {},
   "source": [
    "Lets first start off by visualizing the performence of each of the 2982 stocks from 2012 to today."
   ]
  },
  {
   "cell_type": "code",
   "execution_count": null,
   "id": "92de86f9-8ed5-4006-a110-659e036ceb74",
   "metadata": {},
   "outputs": [],
   "source": []
  },
  {
   "cell_type": "markdown",
   "id": "1317af0f-2651-4f70-8dbf-b993eb43577b",
   "metadata": {},
   "source": [
    "Lets identify the top performing stocks and graph them over time"
   ]
  },
  {
   "cell_type": "code",
   "execution_count": null,
   "id": "614c8aa6-54e1-4e27-a9b3-188a15284dd9",
   "metadata": {},
   "outputs": [],
   "source": []
  },
  {
   "cell_type": "markdown",
   "id": "241a648e-fad1-4a70-ac54-85547fcc10fd",
   "metadata": {},
   "source": [
    "Now that weve seen how the stocks performed, lets see how the senators did. For this"
   ]
  }
 ],
 "metadata": {
  "kernelspec": {
   "display_name": "Python 3 (ipykernel)",
   "language": "python",
   "name": "python3"
  },
  "language_info": {
   "codemirror_mode": {
    "name": "ipython",
    "version": 3
   },
   "file_extension": ".py",
   "mimetype": "text/x-python",
   "name": "python",
   "nbconvert_exporter": "python",
   "pygments_lexer": "ipython3",
   "version": "3.12.3"
  }
 },
 "nbformat": 4,
 "nbformat_minor": 5
}
