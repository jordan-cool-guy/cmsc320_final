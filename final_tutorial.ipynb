{
 "cells": [
  {
   "cell_type": "markdown",
   "id": "5fc3c04e-4d44-4512-8aa8-d3422e91e76d",
   "metadata": {},
   "source": [
    "# Analysis of Senator Stock Trades\n",
    "### By Jordan Maggin"
   ]
  },
  {
   "cell_type": "markdown",
   "id": "ca36c7ff-364e-416f-a2a4-57171e1c429b",
   "metadata": {},
   "source": [
    "### Introduction:\n",
    "\n",
    "\"Nancy Pelosi, Husband Bet Millions On Nvidia Stock\" and article published on the [NASDAQ](https://www.nasdaq.com/articles/nancy-pelosi-husband-bet-millions-on-nvidia-stock-after-missing-out-on-earlier-$8-million) blog site reads.\n",
    "\n",
    "\"Pelosi Exercises $2.6 Million Of Apple And Microsoft Stock Options\" another [article](https://www.forbes.com/sites/dereksaul/2023/06/23/pelosi-exercises-26-million-of-apple-and-microsoft-stock-options/?sh=6bafc87a11d6)  writes.\n",
    "\n",
    "The media's fascination with Paul Pelosi, business man, and his wife, United States Representative Nancy Pelosi's \"well-timed\" trades and seemininlgy \"clairvoyant powers\" has been a growing trend in a conversation that has been going on for years. Should members of congress be allowed to trade stocks? After all, these are the same people that participate in closed-door meetings with heads of industry, formulate laws that effect businesses, and have access to information the average person doesn't. All of these factors give elected officials a massive upper hand when it comes to trading stocks. \n",
    "\n",
    "President Barack Obama made a drastic effort to curb this imbalance of power on the \"Trading Field,\" urging lawmakers in his 2012 State of The Union address, to pass a bill that would prevent members of congress from participating in stock trading using knowledge gained from their position of power. Later that year, the STOCK Act (Stop Trading On Congressional Knowlege) was passed. The goal of the act was to \"increase(...) transparency in Financial Disclosure Reporting\" ([ObamaWhitehouse](https://obamawhitehouse.archives.gov/the-press-office/2012/04/04/fact-sheet-stock-act-bans-members-congress-insider-trading)). The STOCK act contained two major mandates: \n",
    "* congress members must report their stock trades\n",
    "* the financial disclosures must be hosted online for everyone to see\n",
    "These disclosures can be found at [efdsearch](https://efdsearch.senate.gov/search/home/)\n",
    "\n",
    "### \"If You Cant Beat 'Em, Join 'Em\"\n",
    "From the point of view of ensuring public officals are motivated by the good of the public, instead of monetary gain, the STOCK Act was a complete failure. It failed to do the one thing it should have accomplished: banning members of congress from trading. However, it was a step in the right direction. What the STOCK ACT did get right is it opened their actions up to oversight by the people they represent. The general public is now able to see what entities senators are investing in, how much they are investing, when the transactions take place, and just about any other piece of information you would need to scurtinize an elected officials actions.\n",
    "\n",
    "But the fact of the matter remains, members of congress will never sign a bill banning themeselves from trading stocks because...why would they. So...If You Cant Beat 'Em, Join 'Em. In this tutorial, we'll use the public database of financial disclosures for senators to discover how much these elected officials have gained from their positions of power. Furthermore, while us average-joes will never have the knowledge advantage that our trusted representatives do, we'll make up for this disadvantage by identifying the top earners so that we can tail their stock picks in the future, narrowing the knowledge gap. We'll also visualize some of the data we collect to see things like the industry breakdown of our senators investments\n",
    "\n"
   ]
  },
  {
   "cell_type": "markdown",
   "id": "d98fa453-d95d-491e-8d6b-12d2825927f3",
   "metadata": {},
   "source": [
    "## Data Collection:\n",
    "This section is the most complex part of the tutorial as it involves building a webscraper to navigate the efdsearch webpage. Additonally, this script can take over an hour to complete, and may be subject to interruption due to things like your computer turning off, or more commonly your access to the website being temporarily denied for exceeding a rate limit. If you want to skip this step, you can download the relevant information from my [github](https://github.com/jordan-cool-guy/cmsc320_final). Download the 17 csv files and place them in this directory, and proceed to the next section"
   ]
  },
  {
   "cell_type": "code",
   "execution_count": 1,
   "id": "bd9bb791-839f-4913-8062-a0ba95052951",
   "metadata": {},
   "outputs": [],
   "source": [
    "from selenium import webdriver\n",
    "from selenium.webdriver.common.keys import Keys\n",
    "from selenium.webdriver.common.by import By\n",
    "from selenium.webdriver.support.ui import WebDriverWait\n",
    "from selenium.webdriver.support import expected_conditions as EC\n",
    "from selenium.common.exceptions import StaleElementReferenceException\n",
    "from selenium.webdriver.support.ui import Select\n",
    "\n",
    "from bs4 import BeautifulSoup\n",
    "import re\n",
    "import pandas as pd\n",
    "import datetime\n",
    "import numpy as np\n",
    "import matplotlib.pyplot as plt\n",
    "from io import StringIO\n",
    "\n",
    "pd.set_option('display.expand_frame_repr', False)"
   ]
  },
  {
   "cell_type": "code",
   "execution_count": 2,
   "id": "610efb08-86f9-48c8-b7a3-830e664dedd2",
   "metadata": {},
   "outputs": [],
   "source": [
    "# Define a custom expected condition to handle StaleElementReferenceException\n",
    "def custom_wait_func(refreshed_locator):\n",
    "    def check_for_elem(driver):\n",
    "        try:\n",
    "            element = driver.find_element(*refreshed_locator)\n",
    "            return element\n",
    "        except:\n",
    "            return False\n",
    "\n",
    "    return check_for_elem\n",
    "\n",
    "\n",
    "def find_els_wait_func(refreshed_locator):\n",
    "    def check_for_elem(driver):\n",
    "        try:\n",
    "            element = driver.find_elements(*refreshed_locator)\n",
    "            return element\n",
    "        except:\n",
    "            return False\n",
    "\n",
    "    return check_for_elem"
   ]
  },
  {
   "cell_type": "code",
   "execution_count": null,
   "id": "548f1d33-c7d1-4f70-b9f7-9647eb9e3d92",
   "metadata": {
    "scrolled": true
   },
   "outputs": [],
   "source": [
    "#Initialize Chrome Webdriver\n",
    "driver = webdriver.Chrome()\n",
    "\n",
    "url = \"https://efdsearch.senate.gov/search/\"  \n",
    "driver.get(url)\n",
    "\n",
    "#Read the data as HTML\n",
    "html_content = driver.page_source\n",
    "agree_checkbox = driver.find_element(By.ID, \"agree_statement\")\n",
    "\n",
    "# Check if the checkbox is not already selected\n",
    "if not agree_checkbox.is_selected():\n",
    "    # If the checkbox is not selected, click on it\n",
    "    agree_checkbox.click()\n",
    "\n",
    "\n",
    "#select current senators\n",
    "senator_checkbox = driver.find_element(By.CLASS_NAME,\"form-check-input\")\n",
    "\n",
    "if not senator_checkbox.is_selected():\n",
    "    # If the checkbox is not selected, click on it\n",
    "    senator_checkbox.click()\n",
    "    \n",
    "#select prev senators\n",
    "prev_senators_checkbox = driver.find_element(By.XPATH, \"//input[@value='5']\")\n",
    "if not prev_senators_checkbox.is_selected():\n",
    "    # If the checkbox is not selected, click on it\n",
    "    prev_senators_checkbox.click()\n",
    "\n",
    "#Select annual\n",
    "annual_checkbox = driver.find_element(By.XPATH, \"//input[@value='7']\")\n",
    "if not annual_checkbox.is_selected():\n",
    "    # If the checkbox is not selected, click on it\n",
    "    annual_checkbox.click()\n",
    "\n",
    "\n",
    "#insert starting year of 2013 (most of 2012 reports are written reports and cant be scraped\n",
    "\n",
    "start_date_box = driver.find_element(By.XPATH, \"//input[@name='submitted_start_date']\")\n",
    "start_date_box.send_keys(\"01/01/2013\")\n",
    "\n",
    "\n",
    "#hit submit button\n",
    "submit_button = WebDriverWait(driver, 10).until(\n",
    "    EC.element_to_be_clickable((By.XPATH,\"//button[@class='btn btn-primary']\"))\n",
    ")\n",
    "submit_button.click()\n",
    "\n",
    "\n",
    "#at this point we are on a page that has all former and current senator annual/periodic filings\n",
    "#dating back to 1/13/2013\n",
    "\n",
    "#we know need to iterate through each of the 1,704 filings, check if it is an image, in which case we \n",
    "#skip because we cant read\n",
    "\n",
    "\n",
    "#first sort by ascending order\n",
    "sort_data_button = WebDriverWait(driver, 10).until(\n",
    "    EC.element_to_be_clickable((By.XPATH,\"//th[@aria-label='Date Received/Filed: activate to sort column ascending']\"))\n",
    ")\n",
    "sort_data_button.click()\n",
    "#make it descending\n",
    "sort_data_button = WebDriverWait(driver, 10).until(\n",
    "    EC.element_to_be_clickable((By.XPATH,\"//th[@aria-label='Date Received/Filed: activate to sort column descending']\"))\n",
    ")\n",
    "sort_data_button.click()\n",
    "\n",
    "#make it 100 entries per page\n",
    "reports_length = driver.find_element(By.XPATH,\"//select[@name='filedReports_length']\")\n",
    "reports_length_select = Select(reports_length)\n",
    "reports_length_select.select_by_value(\"100\")\n",
    "\n",
    "\n",
    "\n",
    "time.sleep(2)\n",
    "\n",
    "\n",
    "\n",
    "\n",
    "\n",
    "\n",
    "#There are 17 pages of reports, with 100 reports per page\n",
    "#This script will save a csv of each page.\n",
    "#if your connection is interrupted\n",
    "#insert the most recent saved page\n",
    "#ie, if the connection is interrupted on page 4, put 3 as the checkpoint\n",
    "checkpoint = 0\n",
    "\n",
    "#skip pages up to checkpoint\n",
    "for i in range(checkpoint):\n",
    "    driver.execute_script(\"window.scrollTo(0, 0)\")\n",
    "    table = WebDriverWait(driver, 10).until(\n",
    "        custom_wait_func((By.XPATH, \"//table[@class='table table-striped dataTable no-footer']\"))\n",
    "    )\n",
    "    next_button = WebDriverWait(driver, 10).until(\n",
    "        custom_wait_func((By.XPATH, \"//a[@class='paginate_button next']\"))\n",
    "    )\n",
    "    next_button.click()\n",
    "\n",
    "\n",
    "#Iterate over reports\n",
    "for i in range(checkpoint, 17): \n",
    "    #filings\n",
    "    senator_filings_list = []\n",
    "    senator_name = []\n",
    "    #scroll to top of page\n",
    "    driver.execute_script(\"window.scrollTo(0, 0)\")\n",
    "    table = WebDriverWait(driver, 10).until(\n",
    "        custom_wait_func((By.XPATH, \"//table[@class='table table-striped dataTable no-footer']\"))\n",
    "    )\n",
    "\n",
    "    rows = WebDriverWait(table, 10).until(\n",
    "        find_els_wait_func((By.TAG_NAME, \"tr\"))\n",
    "    )\n",
    "    \n",
    "    \n",
    "    # table.find_elements(By.TAG_NAME, \"tr\")\n",
    "    # #iterate over each link to each senator report\n",
    "    for j,row in enumerate(rows):\n",
    "        table = WebDriverWait(driver, 10).until(\n",
    "            custom_wait_func((By.XPATH, \"//table[@class='table table-striped dataTable no-footer']\"))\n",
    "        )\n",
    "        row = table.find_elements(By.TAG_NAME, \"tr\")[j]\n",
    "        cells = row.find_elements(By.TAG_NAME, \"td\")\n",
    "        if (len(cells)>4):\n",
    "            current_window_handle = driver.current_window_handle\n",
    "\n",
    "            link = cells[3].find_element(By.TAG_NAME, \"a\")\n",
    "            link.click()\n",
    "            new_window_handle = [handle for handle in driver.window_handles if handle != current_window_handle][0]\n",
    "            driver.switch_to.window(new_window_handle)\n",
    "            \n",
    "            #wait for page to load\n",
    "            WebDriverWait(driver, 10).until(\n",
    "                    custom_wait_func((By.XPATH, \"//main[@class='container-fluid pgContent']\"))\n",
    "            )\n",
    "\n",
    "\n",
    "\n",
    "            #if the page is not a handwritten for proceed\n",
    "            if not driver.find_elements(By.XPATH, \"//img[@class='filingImage']\"):\n",
    "                html_content = driver.page_source\n",
    "                soup = BeautifulSoup(html_content, 'html.parser')\n",
    "\n",
    "                #get Senator name\n",
    "                name = driver.find_element(By.XPATH, \"//h2[@class='filedReport']\")\n",
    "                pattern = r\"\\((.*?)\\)\"\n",
    "                \n",
    "                # Find all matches of the pattern in the text\n",
    "                matches = re.findall(pattern, name.text)\n",
    "                if (len(matches) > 0 and matches[0] != \"Former Senator\"):\n",
    "                    name = matches[0]\n",
    "                else:\n",
    "                    name = name.text\n",
    "                    \n",
    "                print(name)\n",
    "                \n",
    "                #get all tables\n",
    "                #only interested in part 4a and 4b\n",
    "                sections = soup.find_all('section')\n",
    "\n",
    "                if (len(sections) >= 5):\n",
    "                    table_section_part4a = sections[3]\n",
    "                    table_4a = table_section_part4a.find('table')\n",
    "                        # If the table is found, read it into a DataFrame\n",
    "                    if table_4a:\n",
    "                        table_4a = str(table_4a)\n",
    "                        table_4a = StringIO(table_4a)\n",
    "                        senator_filings_list.append(table_4a)\n",
    "                        senator_name.append(name)\n",
    "    \n",
    "\n",
    "                    table_section_part4b = sections[4]\n",
    "                    table_4b = table_section_part4b.find('table')\n",
    "                        # If the table is found, read it into a DataFrame\n",
    "                    if table_4b:\n",
    "                        table_4b = str(table_4b)\n",
    "                        table_4b = StringIO(table_4b)\n",
    "                        senator_filings_list.append(table_4b)\n",
    "                        senator_name.append(name)\n",
    "\n",
    "            \n",
    "            driver.close()\n",
    "            \n",
    "            # Switch back to the original tab\n",
    "            driver.switch_to.window(current_window_handle)\n",
    "\n",
    "    #every page create df a save in case we are disconnected\n",
    "    dataframes = []\n",
    "    for name,table in zip(senator_name,senator_filings_list):\n",
    "        df = pd.read_html(table)[0]  # Read the HTML table into a DataFrame\n",
    "        df['Senator Name'] = name\n",
    "        dataframes.append(df)\n",
    "    \n",
    "    # Concatenate all DataFrames into a single DataFrame\n",
    "    result_df = pd.concat(dataframes, ignore_index=True)\n",
    "    filename= f'senator_filings_page_{i}.csv'\n",
    "    result_df.to_csv(filename)\n",
    "    \n",
    "    \n",
    "    next_button = WebDriverWait(driver, 10).until(\n",
    "        custom_wait_func((By.XPATH, \"//a[@class='paginate_button next']\"))\n",
    "    )\n",
    "    next_button.click()\n",
    "\n",
    "\n",
    "driver.quit()\n"
   ]
  },
  {
   "cell_type": "markdown",
   "id": "7e37343f-08b6-4857-8a4e-fd28652146b7",
   "metadata": {},
   "source": [
    "## Cleaning Data\n",
    "Now that we've scraped each page, converted to csv, and saved, we can now read in the data. After reading the data in, we'll need to clean it. This will involve removing rows with not stocker ticker information, converting date columns to DateTime, removing incorrect entries, removing irrelvant transaction types, etc."
   ]
  },
  {
   "cell_type": "code",
   "execution_count": 393,
   "id": "9dc3876e-6bb6-444e-a524-7e3b75ec7e33",
   "metadata": {},
   "outputs": [],
   "source": [
    "import glob\n",
    "\n",
    "# List all CSV files in the directory\n",
    "csv_files = glob.glob('*.csv')\n",
    "\n",
    "dfs = []\n",
    "\n",
    "# Iterate over each CSV file\n",
    "for csv_file in csv_files:\n",
    "    # Read the CSV file into a DataFrame\n",
    "    df = pd.read_csv(csv_file)\n",
    "    # Append the DataFrame to the list\n",
    "    dfs.append(df)\n",
    "\n",
    "\n",
    "senator_filing_data_df = pd.concat(dfs, ignore_index=True)\n"
   ]
  },
  {
   "cell_type": "markdown",
   "id": "c7da2e0d-1ab4-4a55-89ba-d91987a2911a",
   "metadata": {},
   "source": [
    "## Clean The Data"
   ]
  },
  {
   "cell_type": "code",
   "execution_count": 394,
   "id": "ad39fff3-34e6-479f-bfa7-a56483b94cf1",
   "metadata": {
    "scrolled": true
   },
   "outputs": [
    {
     "data": {
      "text/html": [
       "<div>\n",
       "<style scoped>\n",
       "    .dataframe tbody tr th:only-of-type {\n",
       "        vertical-align: middle;\n",
       "    }\n",
       "\n",
       "    .dataframe tbody tr th {\n",
       "        vertical-align: top;\n",
       "    }\n",
       "\n",
       "    .dataframe thead th {\n",
       "        text-align: right;\n",
       "    }\n",
       "</style>\n",
       "<table border=\"1\" class=\"dataframe\">\n",
       "  <thead>\n",
       "    <tr style=\"text-align: right;\">\n",
       "      <th></th>\n",
       "      <th>Transaction Date</th>\n",
       "      <th>Owner</th>\n",
       "      <th>Ticker</th>\n",
       "      <th>Asset Name</th>\n",
       "      <th>Amount</th>\n",
       "      <th>Senator Name</th>\n",
       "      <th>Transaction Type</th>\n",
       "    </tr>\n",
       "  </thead>\n",
       "  <tbody>\n",
       "    <tr>\n",
       "      <th>0</th>\n",
       "      <td>04/29/2014</td>\n",
       "      <td>Joint</td>\n",
       "      <td>LINE</td>\n",
       "      <td>Linn Energy, LLC (NASDAQ)</td>\n",
       "      <td>$1,001 - $15,000</td>\n",
       "      <td>The Honorable Patrick J Toomey (Former Senator)</td>\n",
       "      <td>Sale (Full)</td>\n",
       "    </tr>\n",
       "    <tr>\n",
       "      <th>1</th>\n",
       "      <td>06/05/2014</td>\n",
       "      <td>Joint</td>\n",
       "      <td>GLD</td>\n",
       "      <td>SPDR Gold Shares</td>\n",
       "      <td>$1,001 - $15,000</td>\n",
       "      <td>The Honorable Patrick J Toomey (Former Senator)</td>\n",
       "      <td>Sale (Partial)</td>\n",
       "    </tr>\n",
       "    <tr>\n",
       "      <th>2</th>\n",
       "      <td>06/05/2014</td>\n",
       "      <td>Joint</td>\n",
       "      <td>PPL</td>\n",
       "      <td>PPL Corporation (NYSE)</td>\n",
       "      <td>$15,001 - $50,000</td>\n",
       "      <td>The Honorable Patrick J Toomey (Former Senator)</td>\n",
       "      <td>Sale (Partial)</td>\n",
       "    </tr>\n",
       "    <tr>\n",
       "      <th>3</th>\n",
       "      <td>06/10/2014</td>\n",
       "      <td>Self</td>\n",
       "      <td>--</td>\n",
       "      <td>Team Capitol Bank</td>\n",
       "      <td>$500,001 - $1,000,000</td>\n",
       "      <td>The Honorable Patrick J Toomey (Former Senator)</td>\n",
       "      <td>Exchange</td>\n",
       "    </tr>\n",
       "    <tr>\n",
       "      <th>4</th>\n",
       "      <td>06/11/2014</td>\n",
       "      <td>Joint</td>\n",
       "      <td>LGP</td>\n",
       "      <td>Lehigh Gas Partners LP (NYSE)</td>\n",
       "      <td>$15,001 - $50,000</td>\n",
       "      <td>The Honorable Patrick J Toomey (Former Senator)</td>\n",
       "      <td>Purchase</td>\n",
       "    </tr>\n",
       "  </tbody>\n",
       "</table>\n",
       "</div>"
      ],
      "text/plain": [
       "  Transaction Date  Owner Ticker                     Asset Name                 Amount                                     Senator Name Transaction Type\n",
       "0       04/29/2014  Joint   LINE      Linn Energy, LLC (NASDAQ)       $1,001 - $15,000  The Honorable Patrick J Toomey (Former Senator)      Sale (Full)\n",
       "1       06/05/2014  Joint    GLD               SPDR Gold Shares       $1,001 - $15,000  The Honorable Patrick J Toomey (Former Senator)   Sale (Partial)\n",
       "2       06/05/2014  Joint    PPL         PPL Corporation (NYSE)      $15,001 - $50,000  The Honorable Patrick J Toomey (Former Senator)   Sale (Partial)\n",
       "3       06/10/2014   Self     --              Team Capitol Bank  $500,001 - $1,000,000  The Honorable Patrick J Toomey (Former Senator)         Exchange\n",
       "4       06/11/2014  Joint    LGP  Lehigh Gas Partners LP (NYSE)      $15,001 - $50,000  The Honorable Patrick J Toomey (Former Senator)         Purchase"
      ]
     },
     "execution_count": 394,
     "metadata": {},
     "output_type": "execute_result"
    }
   ],
   "source": [
    "pd.set_option('display.max_rows', None)\n",
    "\n",
    "#drop unneccessary columns\n",
    "senator_filing_data_df.drop(['Unnamed: 0','Unnamed: 0.1', '#'],axis=1, inplace=True)\n",
    "#merge Transaction Type and Type as they are the same\n",
    "senator_filing_data_df['merged_type'] = senator_filing_data_df['Type'].fillna(senator_filing_data_df['Transaction Type'])\n",
    "\n",
    "#drop unneccessary columns\n",
    "senator_filing_data_df.drop(['Type', 'Transaction Type', 'Comment', 'Comments'], axis=1, inplace=True)\n",
    "#convert Transaction Date to Datetime \n",
    "\n",
    "# Rename the merged column to 'type' if needed\n",
    "senator_filing_data_df.rename(columns={'merged_type': 'Transaction Type'}, inplace=True)\n",
    "senator_filing_data_df.head(5)\n"
   ]
  },
  {
   "cell_type": "markdown",
   "id": "c2f213c4-5d2f-48e7-bff7-3350eb2d03b1",
   "metadata": {},
   "source": [
    "#### Convert 'Transaction Date' To Datetime\n",
    "Here we'll want to turn the 'Transaction Date' column to datetime to make it easier for future calculations\n",
    "and sorting"
   ]
  },
  {
   "cell_type": "code",
   "execution_count": 362,
   "id": "634a310b-2f95-4b07-b47a-36672ffc8b65",
   "metadata": {
    "scrolled": true
   },
   "outputs": [
    {
     "ename": "ValueError",
     "evalue": "time data \"02/21/217\" doesn't match format \"%m/%d/%Y\", at position 686. You might want to try:\n    - passing `format` if your strings have a consistent format;\n    - passing `format='ISO8601'` if your strings are all ISO8601 but not necessarily in exactly the same format;\n    - passing `format='mixed'`, and the format will be inferred for each element individually. You might want to use `dayfirst` alongside this.",
     "output_type": "error",
     "traceback": [
      "\u001b[0;31m---------------------------------------------------------------------------\u001b[0m",
      "\u001b[0;31mValueError\u001b[0m                                Traceback (most recent call last)",
      "Cell \u001b[0;32mIn[362], line 1\u001b[0m\n\u001b[0;32m----> 1\u001b[0m senator_filing_data_df[\u001b[38;5;124m'\u001b[39m\u001b[38;5;124mTransaction Date\u001b[39m\u001b[38;5;124m'\u001b[39m] \u001b[38;5;241m=\u001b[39m pd\u001b[38;5;241m.\u001b[39mto_datetime(senator_filing_data_df[\u001b[38;5;124m'\u001b[39m\u001b[38;5;124mTransaction Date\u001b[39m\u001b[38;5;124m'\u001b[39m])\n",
      "File \u001b[0;32m~/miniconda3/envs/cmsc320/lib/python3.12/site-packages/pandas/core/tools/datetimes.py:1063\u001b[0m, in \u001b[0;36mto_datetime\u001b[0;34m(arg, errors, dayfirst, yearfirst, utc, format, exact, unit, infer_datetime_format, origin, cache)\u001b[0m\n\u001b[1;32m   1061\u001b[0m             result \u001b[38;5;241m=\u001b[39m arg\u001b[38;5;241m.\u001b[39mtz_localize(\u001b[38;5;124m\"\u001b[39m\u001b[38;5;124mutc\u001b[39m\u001b[38;5;124m\"\u001b[39m)\n\u001b[1;32m   1062\u001b[0m \u001b[38;5;28;01melif\u001b[39;00m \u001b[38;5;28misinstance\u001b[39m(arg, ABCSeries):\n\u001b[0;32m-> 1063\u001b[0m     cache_array \u001b[38;5;241m=\u001b[39m _maybe_cache(arg, \u001b[38;5;28mformat\u001b[39m, cache, convert_listlike)\n\u001b[1;32m   1064\u001b[0m     \u001b[38;5;28;01mif\u001b[39;00m \u001b[38;5;129;01mnot\u001b[39;00m cache_array\u001b[38;5;241m.\u001b[39mempty:\n\u001b[1;32m   1065\u001b[0m         result \u001b[38;5;241m=\u001b[39m arg\u001b[38;5;241m.\u001b[39mmap(cache_array)\n",
      "File \u001b[0;32m~/miniconda3/envs/cmsc320/lib/python3.12/site-packages/pandas/core/tools/datetimes.py:247\u001b[0m, in \u001b[0;36m_maybe_cache\u001b[0;34m(arg, format, cache, convert_listlike)\u001b[0m\n\u001b[1;32m    245\u001b[0m unique_dates \u001b[38;5;241m=\u001b[39m unique(arg)\n\u001b[1;32m    246\u001b[0m \u001b[38;5;28;01mif\u001b[39;00m \u001b[38;5;28mlen\u001b[39m(unique_dates) \u001b[38;5;241m<\u001b[39m \u001b[38;5;28mlen\u001b[39m(arg):\n\u001b[0;32m--> 247\u001b[0m     cache_dates \u001b[38;5;241m=\u001b[39m convert_listlike(unique_dates, \u001b[38;5;28mformat\u001b[39m)\n\u001b[1;32m    248\u001b[0m     \u001b[38;5;66;03m# GH#45319\u001b[39;00m\n\u001b[1;32m    249\u001b[0m     \u001b[38;5;28;01mtry\u001b[39;00m:\n",
      "File \u001b[0;32m~/miniconda3/envs/cmsc320/lib/python3.12/site-packages/pandas/core/tools/datetimes.py:433\u001b[0m, in \u001b[0;36m_convert_listlike_datetimes\u001b[0;34m(arg, format, name, utc, unit, errors, dayfirst, yearfirst, exact)\u001b[0m\n\u001b[1;32m    431\u001b[0m \u001b[38;5;66;03m# `format` could be inferred, or user didn't ask for mixed-format parsing.\u001b[39;00m\n\u001b[1;32m    432\u001b[0m \u001b[38;5;28;01mif\u001b[39;00m \u001b[38;5;28mformat\u001b[39m \u001b[38;5;129;01mis\u001b[39;00m \u001b[38;5;129;01mnot\u001b[39;00m \u001b[38;5;28;01mNone\u001b[39;00m \u001b[38;5;129;01mand\u001b[39;00m \u001b[38;5;28mformat\u001b[39m \u001b[38;5;241m!=\u001b[39m \u001b[38;5;124m\"\u001b[39m\u001b[38;5;124mmixed\u001b[39m\u001b[38;5;124m\"\u001b[39m:\n\u001b[0;32m--> 433\u001b[0m     \u001b[38;5;28;01mreturn\u001b[39;00m _array_strptime_with_fallback(arg, name, utc, \u001b[38;5;28mformat\u001b[39m, exact, errors)\n\u001b[1;32m    435\u001b[0m result, tz_parsed \u001b[38;5;241m=\u001b[39m objects_to_datetime64(\n\u001b[1;32m    436\u001b[0m     arg,\n\u001b[1;32m    437\u001b[0m     dayfirst\u001b[38;5;241m=\u001b[39mdayfirst,\n\u001b[0;32m   (...)\u001b[0m\n\u001b[1;32m    441\u001b[0m     allow_object\u001b[38;5;241m=\u001b[39m\u001b[38;5;28;01mTrue\u001b[39;00m,\n\u001b[1;32m    442\u001b[0m )\n\u001b[1;32m    444\u001b[0m \u001b[38;5;28;01mif\u001b[39;00m tz_parsed \u001b[38;5;129;01mis\u001b[39;00m \u001b[38;5;129;01mnot\u001b[39;00m \u001b[38;5;28;01mNone\u001b[39;00m:\n\u001b[1;32m    445\u001b[0m     \u001b[38;5;66;03m# We can take a shortcut since the datetime64 numpy array\u001b[39;00m\n\u001b[1;32m    446\u001b[0m     \u001b[38;5;66;03m# is in UTC\u001b[39;00m\n",
      "File \u001b[0;32m~/miniconda3/envs/cmsc320/lib/python3.12/site-packages/pandas/core/tools/datetimes.py:467\u001b[0m, in \u001b[0;36m_array_strptime_with_fallback\u001b[0;34m(arg, name, utc, fmt, exact, errors)\u001b[0m\n\u001b[1;32m    456\u001b[0m \u001b[38;5;28;01mdef\u001b[39;00m \u001b[38;5;21m_array_strptime_with_fallback\u001b[39m(\n\u001b[1;32m    457\u001b[0m     arg,\n\u001b[1;32m    458\u001b[0m     name,\n\u001b[0;32m   (...)\u001b[0m\n\u001b[1;32m    462\u001b[0m     errors: \u001b[38;5;28mstr\u001b[39m,\n\u001b[1;32m    463\u001b[0m ) \u001b[38;5;241m-\u001b[39m\u001b[38;5;241m>\u001b[39m Index:\n\u001b[1;32m    464\u001b[0m \u001b[38;5;250m    \u001b[39m\u001b[38;5;124;03m\"\"\"\u001b[39;00m\n\u001b[1;32m    465\u001b[0m \u001b[38;5;124;03m    Call array_strptime, with fallback behavior depending on 'errors'.\u001b[39;00m\n\u001b[1;32m    466\u001b[0m \u001b[38;5;124;03m    \"\"\"\u001b[39;00m\n\u001b[0;32m--> 467\u001b[0m     result, tz_out \u001b[38;5;241m=\u001b[39m array_strptime(arg, fmt, exact\u001b[38;5;241m=\u001b[39mexact, errors\u001b[38;5;241m=\u001b[39merrors, utc\u001b[38;5;241m=\u001b[39mutc)\n\u001b[1;32m    468\u001b[0m     \u001b[38;5;28;01mif\u001b[39;00m tz_out \u001b[38;5;129;01mis\u001b[39;00m \u001b[38;5;129;01mnot\u001b[39;00m \u001b[38;5;28;01mNone\u001b[39;00m:\n\u001b[1;32m    469\u001b[0m         unit \u001b[38;5;241m=\u001b[39m np\u001b[38;5;241m.\u001b[39mdatetime_data(result\u001b[38;5;241m.\u001b[39mdtype)[\u001b[38;5;241m0\u001b[39m]\n",
      "File \u001b[0;32mstrptime.pyx:501\u001b[0m, in \u001b[0;36mpandas._libs.tslibs.strptime.array_strptime\u001b[0;34m()\u001b[0m\n",
      "File \u001b[0;32mstrptime.pyx:451\u001b[0m, in \u001b[0;36mpandas._libs.tslibs.strptime.array_strptime\u001b[0;34m()\u001b[0m\n",
      "File \u001b[0;32mstrptime.pyx:583\u001b[0m, in \u001b[0;36mpandas._libs.tslibs.strptime._parse_with_format\u001b[0;34m()\u001b[0m\n",
      "\u001b[0;31mValueError\u001b[0m: time data \"02/21/217\" doesn't match format \"%m/%d/%Y\", at position 686. You might want to try:\n    - passing `format` if your strings have a consistent format;\n    - passing `format='ISO8601'` if your strings are all ISO8601 but not necessarily in exactly the same format;\n    - passing `format='mixed'`, and the format will be inferred for each element individually. You might want to use `dayfirst` alongside this."
     ]
    }
   ],
   "source": [
    "senator_filing_data_df['Transaction Date'] = pd.to_datetime(senator_filing_data_df['Transaction Date'])"
   ]
  },
  {
   "cell_type": "markdown",
   "id": "589b16d4-b292-47e1-9fa3-037984ae6117",
   "metadata": {},
   "source": [
    "That didnt work, it looks like theres at typo \"02/21/217\", where it should be \"02/21/2017.\" Lets see how many times this happens, and where they occur. "
   ]
  },
  {
   "cell_type": "code",
   "execution_count": 395,
   "id": "d599ddd7-ad75-41af-a566-f877dd080e18",
   "metadata": {},
   "outputs": [
    {
     "data": {
      "text/html": [
       "<div>\n",
       "<style scoped>\n",
       "    .dataframe tbody tr th:only-of-type {\n",
       "        vertical-align: middle;\n",
       "    }\n",
       "\n",
       "    .dataframe tbody tr th {\n",
       "        vertical-align: top;\n",
       "    }\n",
       "\n",
       "    .dataframe thead th {\n",
       "        text-align: right;\n",
       "    }\n",
       "</style>\n",
       "<table border=\"1\" class=\"dataframe\">\n",
       "  <thead>\n",
       "    <tr style=\"text-align: right;\">\n",
       "      <th></th>\n",
       "      <th>Transaction Date</th>\n",
       "      <th>Owner</th>\n",
       "      <th>Ticker</th>\n",
       "      <th>Asset Name</th>\n",
       "      <th>Amount</th>\n",
       "      <th>Senator Name</th>\n",
       "      <th>Transaction Type</th>\n",
       "    </tr>\n",
       "  </thead>\n",
       "  <tbody>\n",
       "    <tr>\n",
       "      <th>4182</th>\n",
       "      <td>02/21/217</td>\n",
       "      <td>Self</td>\n",
       "      <td>JALBX</td>\n",
       "      <td>JHancock Multimanager Lifestyle Bal A</td>\n",
       "      <td>$100,001 - $250,000</td>\n",
       "      <td>The Honorable Michael B Enzi (Former Senator)</td>\n",
       "      <td>Sale (Full)</td>\n",
       "    </tr>\n",
       "    <tr>\n",
       "      <th>39984</th>\n",
       "      <td>02/28/218</td>\n",
       "      <td>Spouse</td>\n",
       "      <td>PRWCX</td>\n",
       "      <td>T. Rowe Price Capital Appreciation Fund</td>\n",
       "      <td>$1,001 - $15,000</td>\n",
       "      <td>Cassidy, Bill</td>\n",
       "      <td>Sale (Partial)</td>\n",
       "    </tr>\n",
       "    <tr>\n",
       "      <th>40013</th>\n",
       "      <td>07/06/218</td>\n",
       "      <td>Spouse</td>\n",
       "      <td>JNBSX</td>\n",
       "      <td>JPMorgan Income Builder Fund Class I Shares</td>\n",
       "      <td>$1,001 - $15,000</td>\n",
       "      <td>Cassidy, Bill</td>\n",
       "      <td>Sale (Partial)</td>\n",
       "    </tr>\n",
       "    <tr>\n",
       "      <th>40806</th>\n",
       "      <td>02/28/218</td>\n",
       "      <td>Spouse</td>\n",
       "      <td>PRWCX</td>\n",
       "      <td>T. Rowe Price Capital Appreciation Fund</td>\n",
       "      <td>$1,001 - $15,000</td>\n",
       "      <td>Cassidy, Bill</td>\n",
       "      <td>Sale (Partial)</td>\n",
       "    </tr>\n",
       "    <tr>\n",
       "      <th>40835</th>\n",
       "      <td>07/06/218</td>\n",
       "      <td>Spouse</td>\n",
       "      <td>JNBSX</td>\n",
       "      <td>JPMorgan Income Builder Fund Class I Shares</td>\n",
       "      <td>$1,001 - $15,000</td>\n",
       "      <td>Cassidy, Bill</td>\n",
       "      <td>Sale (Partial)</td>\n",
       "    </tr>\n",
       "  </tbody>\n",
       "</table>\n",
       "</div>"
      ],
      "text/plain": [
       "      Transaction Date   Owner Ticker                                   Asset Name               Amount                                   Senator Name Transaction Type\n",
       "4182         02/21/217    Self  JALBX        JHancock Multimanager Lifestyle Bal A  $100,001 - $250,000  The Honorable Michael B Enzi (Former Senator)      Sale (Full)\n",
       "39984        02/28/218  Spouse  PRWCX      T. Rowe Price Capital Appreciation Fund     $1,001 - $15,000                                  Cassidy, Bill   Sale (Partial)\n",
       "40013        07/06/218  Spouse  JNBSX  JPMorgan Income Builder Fund Class I Shares     $1,001 - $15,000                                  Cassidy, Bill   Sale (Partial)\n",
       "40806        02/28/218  Spouse  PRWCX      T. Rowe Price Capital Appreciation Fund     $1,001 - $15,000                                  Cassidy, Bill   Sale (Partial)\n",
       "40835        07/06/218  Spouse  JNBSX  JPMorgan Income Builder Fund Class I Shares     $1,001 - $15,000                                  Cassidy, Bill   Sale (Partial)"
      ]
     },
     "execution_count": 395,
     "metadata": {},
     "output_type": "execute_result"
    }
   ],
   "source": [
    "error_date_col = senator_filing_data_df[senator_filing_data_df['Transaction Date'].str.len() != 10]\n",
    "error_date_col.head(5)"
   ]
  },
  {
   "cell_type": "markdown",
   "id": "d691e1ec-0075-4b2c-84b2-c92d7a84c69c",
   "metadata": {},
   "source": [
    "lets change them!"
   ]
  },
  {
   "cell_type": "code",
   "execution_count": 396,
   "id": "9ec92b97-8910-46cf-8ca5-83f0ccf6e87d",
   "metadata": {},
   "outputs": [],
   "source": [
    "mask = senator_filing_data_df['Transaction Date'].str.len() != 10\n",
    "# Change the entries in the original DataFrame based on the mask\n",
    "senator_filing_data_df.loc[mask, 'Transaction Date'] = senator_filing_data_df.loc[mask, 'Transaction Date'].apply(lambda x: x[:7] + '0' + x[7:])"
   ]
  },
  {
   "cell_type": "code",
   "execution_count": 397,
   "id": "f8b3c55f-7161-453d-aace-20c6c178c69a",
   "metadata": {},
   "outputs": [
    {
     "data": {
      "text/plain": [
       "(0, 7)"
      ]
     },
     "execution_count": 397,
     "metadata": {},
     "output_type": "execute_result"
    }
   ],
   "source": [
    "error_date_col = senator_filing_data_df[senator_filing_data_df['Transaction Date'].str.len() != 10]\n",
    "error_date_col.shape"
   ]
  },
  {
   "cell_type": "code",
   "execution_count": 398,
   "id": "89c42921-8b8c-4219-90cb-28d5cd69785c",
   "metadata": {},
   "outputs": [
    {
     "data": {
      "text/plain": [
       "Transaction Date                                       02/21/2017\n",
       "Owner                                                        Self\n",
       "Ticker                                                      JALBX\n",
       "Asset Name                  JHancock Multimanager Lifestyle Bal A\n",
       "Amount                                        $100,001 - $250,000\n",
       "Senator Name        The Honorable Michael B Enzi (Former Senator)\n",
       "Transaction Type                                      Sale (Full)\n",
       "Name: 4182, dtype: object"
      ]
     },
     "execution_count": 398,
     "metadata": {},
     "output_type": "execute_result"
    }
   ],
   "source": [
    "#Double check 0 was added\n",
    "senator_filing_data_df.loc[4182]"
   ]
  },
  {
   "cell_type": "markdown",
   "id": "12189616-7035-4472-b1c3-52b9350b1dfa",
   "metadata": {},
   "source": [
    "#### Looks good\n",
    "Now we can convert"
   ]
  },
  {
   "cell_type": "code",
   "execution_count": 399,
   "id": "e07742bd-651b-4480-a778-a0f3fcf7c79d",
   "metadata": {},
   "outputs": [],
   "source": [
    "senator_filing_data_df['Transaction Date'] = pd.to_datetime(senator_filing_data_df['Transaction Date'])"
   ]
  },
  {
   "cell_type": "markdown",
   "id": "f10c0b4d-63b4-444a-bd57-62ec312c3c61",
   "metadata": {},
   "source": [
    "Lets try sorting by date in ascending order"
   ]
  },
  {
   "cell_type": "code",
   "execution_count": 400,
   "id": "381b2c15-16ca-4f23-b250-ee4bb7d6980f",
   "metadata": {},
   "outputs": [
    {
     "data": {
      "text/html": [
       "<div>\n",
       "<style scoped>\n",
       "    .dataframe tbody tr th:only-of-type {\n",
       "        vertical-align: middle;\n",
       "    }\n",
       "\n",
       "    .dataframe tbody tr th {\n",
       "        vertical-align: top;\n",
       "    }\n",
       "\n",
       "    .dataframe thead th {\n",
       "        text-align: right;\n",
       "    }\n",
       "</style>\n",
       "<table border=\"1\" class=\"dataframe\">\n",
       "  <thead>\n",
       "    <tr style=\"text-align: right;\">\n",
       "      <th></th>\n",
       "      <th>Transaction Date</th>\n",
       "      <th>Owner</th>\n",
       "      <th>Ticker</th>\n",
       "      <th>Asset Name</th>\n",
       "      <th>Amount</th>\n",
       "      <th>Senator Name</th>\n",
       "      <th>Transaction Type</th>\n",
       "    </tr>\n",
       "  </thead>\n",
       "  <tbody>\n",
       "    <tr>\n",
       "      <th>30104</th>\n",
       "      <td>2002-06-28</td>\n",
       "      <td>Self</td>\n",
       "      <td>JEPI</td>\n",
       "      <td>JPM Equity Premium Income ETF</td>\n",
       "      <td>$1,001 - $15,000</td>\n",
       "      <td>Peters, Gary</td>\n",
       "      <td>Purchase</td>\n",
       "    </tr>\n",
       "    <tr>\n",
       "      <th>34628</th>\n",
       "      <td>2002-07-01</td>\n",
       "      <td>Spouse</td>\n",
       "      <td>--</td>\n",
       "      <td>JNL/JPMorgan USGov&amp;Qual</td>\n",
       "      <td>$1,001 - $15,000</td>\n",
       "      <td>Coons, Chris</td>\n",
       "      <td>Purchase</td>\n",
       "    </tr>\n",
       "    <tr>\n",
       "      <th>34637</th>\n",
       "      <td>2002-07-01</td>\n",
       "      <td>Spouse</td>\n",
       "      <td>--</td>\n",
       "      <td>JNL/JPMorgan MidCapGrowth</td>\n",
       "      <td>$1,001 - $15,000</td>\n",
       "      <td>Coons, Chris</td>\n",
       "      <td>Purchase</td>\n",
       "    </tr>\n",
       "    <tr>\n",
       "      <th>25684</th>\n",
       "      <td>2002-12-07</td>\n",
       "      <td>Spouse</td>\n",
       "      <td>VOX</td>\n",
       "      <td>Vanguard Communication Services ETF</td>\n",
       "      <td>$1,001 - $15,000</td>\n",
       "      <td>Whitehouse, Sheldon</td>\n",
       "      <td>Sale (Full)</td>\n",
       "    </tr>\n",
       "    <tr>\n",
       "      <th>26694</th>\n",
       "      <td>2002-12-07</td>\n",
       "      <td>Spouse</td>\n",
       "      <td>VOX</td>\n",
       "      <td>Vanguard Communication Services ETF</td>\n",
       "      <td>$1,001 - $15,000</td>\n",
       "      <td>Whitehouse, Sheldon</td>\n",
       "      <td>Sale (Full)</td>\n",
       "    </tr>\n",
       "    <tr>\n",
       "      <th>14314</th>\n",
       "      <td>2012-01-02</td>\n",
       "      <td>Self</td>\n",
       "      <td>WAG</td>\n",
       "      <td>Walgreen Co. (NYSE)</td>\n",
       "      <td>$1,001 - $15,000</td>\n",
       "      <td>The Honorable Thad Cochran (Former Senator)</td>\n",
       "      <td>Purchase</td>\n",
       "    </tr>\n",
       "  </tbody>\n",
       "</table>\n",
       "</div>"
      ],
      "text/plain": [
       "      Transaction Date   Owner Ticker                           Asset Name            Amount                                 Senator Name Transaction Type\n",
       "30104       2002-06-28    Self   JEPI        JPM Equity Premium Income ETF  $1,001 - $15,000                                 Peters, Gary         Purchase\n",
       "34628       2002-07-01  Spouse     --              JNL/JPMorgan USGov&Qual  $1,001 - $15,000                                 Coons, Chris         Purchase\n",
       "34637       2002-07-01  Spouse     --            JNL/JPMorgan MidCapGrowth  $1,001 - $15,000                                 Coons, Chris         Purchase\n",
       "25684       2002-12-07  Spouse    VOX  Vanguard Communication Services ETF  $1,001 - $15,000                          Whitehouse, Sheldon      Sale (Full)\n",
       "26694       2002-12-07  Spouse    VOX  Vanguard Communication Services ETF  $1,001 - $15,000                          Whitehouse, Sheldon      Sale (Full)\n",
       "14314       2012-01-02    Self    WAG                  Walgreen Co. (NYSE)  $1,001 - $15,000  The Honorable Thad Cochran (Former Senator)         Purchase"
      ]
     },
     "execution_count": 400,
     "metadata": {},
     "output_type": "execute_result"
    }
   ],
   "source": [
    "sorted_filings = senator_filing_data_df.sort_values(by='Transaction Date', ascending=True)\n",
    "sorted_filings.head(6)"
   ]
  },
  {
   "cell_type": "markdown",
   "id": "5affcc5d-4f1c-4f49-a670-cc5cf2ce70a3",
   "metadata": {},
   "source": [
    "#### Uh oh\n",
    "It looks like the first 5 entrys have a transaction year of 2002, well before the earliest reporting year of 2013. It is most likely a typo in the senate website. \n",
    "We will just remove these entries as it is not possible to tell when the trades actually take place."
   ]
  },
  {
   "cell_type": "code",
   "execution_count": 401,
   "id": "e98058da-ac2a-4d1b-99aa-b7ed166599f8",
   "metadata": {},
   "outputs": [],
   "source": [
    "senator_filing_data_df.drop([30104,34628,34637,25684,26694], inplace=True)"
   ]
  },
  {
   "cell_type": "code",
   "execution_count": 402,
   "id": "00013b75-f3ab-4dce-a397-d008d3f5e5cc",
   "metadata": {},
   "outputs": [
    {
     "data": {
      "text/html": [
       "<div>\n",
       "<style scoped>\n",
       "    .dataframe tbody tr th:only-of-type {\n",
       "        vertical-align: middle;\n",
       "    }\n",
       "\n",
       "    .dataframe tbody tr th {\n",
       "        vertical-align: top;\n",
       "    }\n",
       "\n",
       "    .dataframe thead th {\n",
       "        text-align: right;\n",
       "    }\n",
       "</style>\n",
       "<table border=\"1\" class=\"dataframe\">\n",
       "  <thead>\n",
       "    <tr style=\"text-align: right;\">\n",
       "      <th></th>\n",
       "      <th>Transaction Date</th>\n",
       "      <th>Owner</th>\n",
       "      <th>Ticker</th>\n",
       "      <th>Asset Name</th>\n",
       "      <th>Amount</th>\n",
       "      <th>Senator Name</th>\n",
       "      <th>Transaction Type</th>\n",
       "    </tr>\n",
       "  </thead>\n",
       "  <tbody>\n",
       "    <tr>\n",
       "      <th>1938</th>\n",
       "      <td>2012-01-02</td>\n",
       "      <td>Self</td>\n",
       "      <td>WAG</td>\n",
       "      <td>Walgreen Co. (NYSE)</td>\n",
       "      <td>$1,001 - $15,000</td>\n",
       "      <td>The Honorable Thad Cochran (Former Senator)</td>\n",
       "      <td>Purchase</td>\n",
       "    </tr>\n",
       "    <tr>\n",
       "      <th>14314</th>\n",
       "      <td>2012-01-02</td>\n",
       "      <td>Self</td>\n",
       "      <td>WAG</td>\n",
       "      <td>Walgreen Co. (NYSE)</td>\n",
       "      <td>$1,001 - $15,000</td>\n",
       "      <td>The Honorable Thad Cochran (Former Senator)</td>\n",
       "      <td>Purchase</td>\n",
       "    </tr>\n",
       "    <tr>\n",
       "      <th>2185</th>\n",
       "      <td>2012-01-02</td>\n",
       "      <td>Self</td>\n",
       "      <td>WAG</td>\n",
       "      <td>Walgreen Co. (NYSE)</td>\n",
       "      <td>$1,001 - $15,000</td>\n",
       "      <td>The Honorable Thad Cochran (Former Senator)</td>\n",
       "      <td>Purchase</td>\n",
       "    </tr>\n",
       "    <tr>\n",
       "      <th>2782</th>\n",
       "      <td>2012-01-02</td>\n",
       "      <td>Self</td>\n",
       "      <td>WAG</td>\n",
       "      <td>Walgreen Co. (NYSE)</td>\n",
       "      <td>$1,001 - $15,000</td>\n",
       "      <td>The Honorable Thad Cochran (Former Senator)</td>\n",
       "      <td>Purchase</td>\n",
       "    </tr>\n",
       "    <tr>\n",
       "      <th>14315</th>\n",
       "      <td>2012-02-22</td>\n",
       "      <td>Self</td>\n",
       "      <td>DPS</td>\n",
       "      <td>Dr Pepper Snapple Group, Inc. (NYSE)</td>\n",
       "      <td>$1,001 - $15,000</td>\n",
       "      <td>The Honorable Thad Cochran (Former Senator)</td>\n",
       "      <td>Purchase</td>\n",
       "    </tr>\n",
       "  </tbody>\n",
       "</table>\n",
       "</div>"
      ],
      "text/plain": [
       "      Transaction Date Owner Ticker                            Asset Name            Amount                                 Senator Name Transaction Type\n",
       "1938        2012-01-02  Self    WAG                   Walgreen Co. (NYSE)  $1,001 - $15,000  The Honorable Thad Cochran (Former Senator)         Purchase\n",
       "14314       2012-01-02  Self    WAG                   Walgreen Co. (NYSE)  $1,001 - $15,000  The Honorable Thad Cochran (Former Senator)         Purchase\n",
       "2185        2012-01-02  Self    WAG                   Walgreen Co. (NYSE)  $1,001 - $15,000  The Honorable Thad Cochran (Former Senator)         Purchase\n",
       "2782        2012-01-02  Self    WAG                   Walgreen Co. (NYSE)  $1,001 - $15,000  The Honorable Thad Cochran (Former Senator)         Purchase\n",
       "14315       2012-02-22  Self    DPS  Dr Pepper Snapple Group, Inc. (NYSE)  $1,001 - $15,000  The Honorable Thad Cochran (Former Senator)         Purchase"
      ]
     },
     "execution_count": 402,
     "metadata": {},
     "output_type": "execute_result"
    }
   ],
   "source": [
    "sorted_filings = senator_filing_data_df.sort_values(by='Transaction Date', ascending=True)\n",
    "sorted_filings.head(5)"
   ]
  },
  {
   "cell_type": "markdown",
   "id": "933c0822-57bb-4c91-a73a-93a5ec651b82",
   "metadata": {},
   "source": [
    "Now lets clean up the Senator Name column. The scraper I wrote is not very robust when it comes to collecting names of senators, so in the case that the senator was terminated at the time of filing, the scraper grabbed the entire header tag containing the senators name, ie \"The Honorable Thad Cochran (Former Senator).\" Additionally, its possible that some entries have the \"(Former Senator)\" string but not the \"The Honorable\" sring. Finally, in some cases the name may include \"Mr\", \"Ms\", or \"Mrs\" such as \"Ms. Kamala D Harris (Former Senator).\" Lets get rid of the unecessary stuff, and put the name in LAST, FIRST format to match the rest of the entries. "
   ]
  },
  {
   "cell_type": "code",
   "execution_count": 403,
   "id": "eb5ecda0-e90d-4114-a5d6-7af073ed2990",
   "metadata": {},
   "outputs": [],
   "source": [
    "mask = senator_filing_data_df['Senator Name'].str.contains(\"Former Senator\")\n",
    "# Change the entries in the original DataFrame based on the mask\n",
    "\n",
    "def fix_senator_name(name_entry):\n",
    "    pattern = r\"(The Honorable|Ms.|Mr.|Mrs.)? ([a-zA-Z]*)?\\s*([A-Z])? ([a-zA-Z]*)?\\s*(Jr)? (\\(Former Senator\\))?\"\n",
    "        \n",
    "    matches = re.findall(pattern, name_entry) \n",
    "    #Get rid of title cap group ie \"Mr\", \"The Honorable\" etc\n",
    "    #Also get rid of \"Former Senator\"\n",
    "    match = matches[0]\n",
    "\n",
    "    f_name = ''\n",
    "    l_name = ''\n",
    "\n",
    "    if (len(match) == 6):\n",
    "        if (match[2]):\n",
    "            f_name = match[1] + \" \" + match[2]\n",
    "        else:\n",
    "            f_name = match[1] + match[2]\n",
    "            \n",
    "        if (match[4]):\n",
    "            l_name = match[3] + \" \" + match[4]\n",
    "        else:\n",
    "            l_name = match[3] + match[4]\n",
    "        \n",
    "        name = l_name + ', ' + f_name\n",
    "        return name\n",
    "        \n",
    "senator_filing_data_df.loc[mask, 'Senator Name'] = senator_filing_data_df.loc[mask, 'Senator Name'].apply(fix_senator_name)"
   ]
  },
  {
   "cell_type": "code",
   "execution_count": 404,
   "id": "db6a1e94-59b3-4583-9f6f-3bd0cc6fb5ad",
   "metadata": {},
   "outputs": [
    {
     "data": {
      "text/html": [
       "<div>\n",
       "<style scoped>\n",
       "    .dataframe tbody tr th:only-of-type {\n",
       "        vertical-align: middle;\n",
       "    }\n",
       "\n",
       "    .dataframe tbody tr th {\n",
       "        vertical-align: top;\n",
       "    }\n",
       "\n",
       "    .dataframe thead th {\n",
       "        text-align: right;\n",
       "    }\n",
       "</style>\n",
       "<table border=\"1\" class=\"dataframe\">\n",
       "  <thead>\n",
       "    <tr style=\"text-align: right;\">\n",
       "      <th></th>\n",
       "      <th>Transaction Date</th>\n",
       "      <th>Owner</th>\n",
       "      <th>Ticker</th>\n",
       "      <th>Asset Name</th>\n",
       "      <th>Amount</th>\n",
       "      <th>Senator Name</th>\n",
       "      <th>Transaction Type</th>\n",
       "    </tr>\n",
       "  </thead>\n",
       "  <tbody>\n",
       "    <tr>\n",
       "      <th>0</th>\n",
       "      <td>2014-04-29</td>\n",
       "      <td>Joint</td>\n",
       "      <td>LINE</td>\n",
       "      <td>Linn Energy, LLC (NASDAQ)</td>\n",
       "      <td>$1,001 - $15,000</td>\n",
       "      <td>Toomey, Patrick J</td>\n",
       "      <td>Sale (Full)</td>\n",
       "    </tr>\n",
       "    <tr>\n",
       "      <th>1</th>\n",
       "      <td>2014-06-05</td>\n",
       "      <td>Joint</td>\n",
       "      <td>GLD</td>\n",
       "      <td>SPDR Gold Shares</td>\n",
       "      <td>$1,001 - $15,000</td>\n",
       "      <td>Toomey, Patrick J</td>\n",
       "      <td>Sale (Partial)</td>\n",
       "    </tr>\n",
       "    <tr>\n",
       "      <th>2</th>\n",
       "      <td>2014-06-05</td>\n",
       "      <td>Joint</td>\n",
       "      <td>PPL</td>\n",
       "      <td>PPL Corporation (NYSE)</td>\n",
       "      <td>$15,001 - $50,000</td>\n",
       "      <td>Toomey, Patrick J</td>\n",
       "      <td>Sale (Partial)</td>\n",
       "    </tr>\n",
       "    <tr>\n",
       "      <th>3</th>\n",
       "      <td>2014-06-10</td>\n",
       "      <td>Self</td>\n",
       "      <td>--</td>\n",
       "      <td>Team Capitol Bank</td>\n",
       "      <td>$500,001 - $1,000,000</td>\n",
       "      <td>Toomey, Patrick J</td>\n",
       "      <td>Exchange</td>\n",
       "    </tr>\n",
       "    <tr>\n",
       "      <th>4</th>\n",
       "      <td>2014-06-11</td>\n",
       "      <td>Joint</td>\n",
       "      <td>LGP</td>\n",
       "      <td>Lehigh Gas Partners LP (NYSE)</td>\n",
       "      <td>$15,001 - $50,000</td>\n",
       "      <td>Toomey, Patrick J</td>\n",
       "      <td>Purchase</td>\n",
       "    </tr>\n",
       "  </tbody>\n",
       "</table>\n",
       "</div>"
      ],
      "text/plain": [
       "  Transaction Date  Owner Ticker                     Asset Name                 Amount       Senator Name Transaction Type\n",
       "0       2014-04-29  Joint   LINE      Linn Energy, LLC (NASDAQ)       $1,001 - $15,000  Toomey, Patrick J      Sale (Full)\n",
       "1       2014-06-05  Joint    GLD               SPDR Gold Shares       $1,001 - $15,000  Toomey, Patrick J   Sale (Partial)\n",
       "2       2014-06-05  Joint    PPL         PPL Corporation (NYSE)      $15,001 - $50,000  Toomey, Patrick J   Sale (Partial)\n",
       "3       2014-06-10   Self     --              Team Capitol Bank  $500,001 - $1,000,000  Toomey, Patrick J         Exchange\n",
       "4       2014-06-11  Joint    LGP  Lehigh Gas Partners LP (NYSE)      $15,001 - $50,000  Toomey, Patrick J         Purchase"
      ]
     },
     "execution_count": 404,
     "metadata": {},
     "output_type": "execute_result"
    }
   ],
   "source": [
    "senator_filing_data_df.head(5)"
   ]
  },
  {
   "cell_type": "code",
   "execution_count": 405,
   "id": "26a03823-f45d-403c-9caa-2e74a4601f37",
   "metadata": {
    "scrolled": true
   },
   "outputs": [
    {
     "data": {
      "text/html": [
       "<div>\n",
       "<style scoped>\n",
       "    .dataframe tbody tr th:only-of-type {\n",
       "        vertical-align: middle;\n",
       "    }\n",
       "\n",
       "    .dataframe tbody tr th {\n",
       "        vertical-align: top;\n",
       "    }\n",
       "\n",
       "    .dataframe thead th {\n",
       "        text-align: right;\n",
       "    }\n",
       "</style>\n",
       "<table border=\"1\" class=\"dataframe\">\n",
       "  <thead>\n",
       "    <tr style=\"text-align: right;\">\n",
       "      <th></th>\n",
       "      <th>Transaction Date</th>\n",
       "      <th>Owner</th>\n",
       "      <th>Ticker</th>\n",
       "      <th>Asset Name</th>\n",
       "      <th>Amount</th>\n",
       "      <th>Senator Name</th>\n",
       "      <th>Transaction Type</th>\n",
       "    </tr>\n",
       "  </thead>\n",
       "  <tbody>\n",
       "    <tr>\n",
       "      <th>3</th>\n",
       "      <td>2014-06-10</td>\n",
       "      <td>Self</td>\n",
       "      <td>--</td>\n",
       "      <td>Team Capitol Bank</td>\n",
       "      <td>$500,001 - $1,000,000</td>\n",
       "      <td>Toomey, Patrick J</td>\n",
       "      <td>Exchange</td>\n",
       "    </tr>\n",
       "    <tr>\n",
       "      <th>51</th>\n",
       "      <td>2014-08-07</td>\n",
       "      <td>Joint</td>\n",
       "      <td>--</td>\n",
       "      <td>Lehigh gass Partners LP UT</td>\n",
       "      <td>$15,001 - $50,000</td>\n",
       "      <td>Toomey, Patrick J</td>\n",
       "      <td>Sale (Full)</td>\n",
       "    </tr>\n",
       "    <tr>\n",
       "      <th>55</th>\n",
       "      <td>2014-06-11</td>\n",
       "      <td>Joint</td>\n",
       "      <td>--</td>\n",
       "      <td>Lehigh Gas Partners LP UT</td>\n",
       "      <td>$15,001 - $50,000</td>\n",
       "      <td>Toomey, Patrick J</td>\n",
       "      <td>Purchase</td>\n",
       "    </tr>\n",
       "    <tr>\n",
       "      <th>102</th>\n",
       "      <td>2014-01-02</td>\n",
       "      <td>Spouse</td>\n",
       "      <td>--</td>\n",
       "      <td>11.15% due 9/30/16 RBC Autocall Blackstone</td>\n",
       "      <td>$15,001 - $50,000</td>\n",
       "      <td>Carper, Thomas R.</td>\n",
       "      <td>Sale (Full)</td>\n",
       "    </tr>\n",
       "    <tr>\n",
       "      <th>103</th>\n",
       "      <td>2014-01-03</td>\n",
       "      <td>Spouse</td>\n",
       "      <td>--</td>\n",
       "      <td>8.6% due 1/8/15 HSBC Autocall Broadcom</td>\n",
       "      <td>$15,001 - $50,000</td>\n",
       "      <td>Carper, Thomas R.</td>\n",
       "      <td>Purchase</td>\n",
       "    </tr>\n",
       "  </tbody>\n",
       "</table>\n",
       "</div>"
      ],
      "text/plain": [
       "    Transaction Date   Owner Ticker                                  Asset Name                 Amount       Senator Name Transaction Type\n",
       "3         2014-06-10    Self     --                           Team Capitol Bank  $500,001 - $1,000,000  Toomey, Patrick J         Exchange\n",
       "51        2014-08-07   Joint     --                  Lehigh gass Partners LP UT      $15,001 - $50,000  Toomey, Patrick J      Sale (Full)\n",
       "55        2014-06-11   Joint     --                   Lehigh Gas Partners LP UT      $15,001 - $50,000  Toomey, Patrick J         Purchase\n",
       "102       2014-01-02  Spouse     --  11.15% due 9/30/16 RBC Autocall Blackstone      $15,001 - $50,000  Carper, Thomas R.      Sale (Full)\n",
       "103       2014-01-03  Spouse     --      8.6% due 1/8/15 HSBC Autocall Broadcom      $15,001 - $50,000  Carper, Thomas R.         Purchase"
      ]
     },
     "execution_count": 405,
     "metadata": {},
     "output_type": "execute_result"
    }
   ],
   "source": [
    "blank_ticker = senator_filing_data_df[senator_filing_data_df['Ticker'] == '--']\n",
    "blank_ticker.head(5)"
   ]
  },
  {
   "cell_type": "markdown",
   "id": "27ea6876-935d-46c1-bccd-aec0498b89ac",
   "metadata": {},
   "source": [
    "It looks like some entries where the ticker is equal to '--' include things that arent publicly traded stocks, such as retirement investment accounds, college fund portfolios, annuities, etc. Lets get rid of them because we wont be able to easily find stock information on these purchases. "
   ]
  },
  {
   "cell_type": "code",
   "execution_count": 406,
   "id": "a6c5b833-0c7a-49d6-9a0c-3a66a3207622",
   "metadata": {},
   "outputs": [],
   "source": [
    "senator_filing_data_df = senator_filing_data_df[~(senator_filing_data_df['Ticker'] == '--')]"
   ]
  },
  {
   "cell_type": "markdown",
   "id": "7996af52-e983-4b94-bfd7-799019dfb822",
   "metadata": {},
   "source": [
    "Additionally,lets remove the rows where the transcation type is \"Exchange\" as we wont be able to gain any information from them"
   ]
  },
  {
   "cell_type": "code",
   "execution_count": 407,
   "id": "4b202224-5749-4179-871c-211bfeb66d2d",
   "metadata": {},
   "outputs": [],
   "source": [
    "senator_filing_data_df = senator_filing_data_df[~(senator_filing_data_df['Transaction Type'] == 'Exchange')]"
   ]
  },
  {
   "cell_type": "code",
   "execution_count": 408,
   "id": "436162fe-9bbc-4080-b41f-372642e6e18e",
   "metadata": {},
   "outputs": [
    {
     "data": {
      "text/html": [
       "<div>\n",
       "<style scoped>\n",
       "    .dataframe tbody tr th:only-of-type {\n",
       "        vertical-align: middle;\n",
       "    }\n",
       "\n",
       "    .dataframe tbody tr th {\n",
       "        vertical-align: top;\n",
       "    }\n",
       "\n",
       "    .dataframe thead th {\n",
       "        text-align: right;\n",
       "    }\n",
       "</style>\n",
       "<table border=\"1\" class=\"dataframe\">\n",
       "  <thead>\n",
       "    <tr style=\"text-align: right;\">\n",
       "      <th></th>\n",
       "      <th>Transaction Date</th>\n",
       "      <th>Owner</th>\n",
       "      <th>Ticker</th>\n",
       "      <th>Asset Name</th>\n",
       "      <th>Amount</th>\n",
       "      <th>Senator Name</th>\n",
       "      <th>Transaction Type</th>\n",
       "    </tr>\n",
       "  </thead>\n",
       "  <tbody>\n",
       "    <tr>\n",
       "      <th>0</th>\n",
       "      <td>2014-04-29</td>\n",
       "      <td>Joint</td>\n",
       "      <td>LINE</td>\n",
       "      <td>Linn Energy, LLC (NASDAQ)</td>\n",
       "      <td>$1,001 - $15,000</td>\n",
       "      <td>Toomey, Patrick J</td>\n",
       "      <td>Sale (Full)</td>\n",
       "    </tr>\n",
       "    <tr>\n",
       "      <th>1</th>\n",
       "      <td>2014-06-05</td>\n",
       "      <td>Joint</td>\n",
       "      <td>GLD</td>\n",
       "      <td>SPDR Gold Shares</td>\n",
       "      <td>$1,001 - $15,000</td>\n",
       "      <td>Toomey, Patrick J</td>\n",
       "      <td>Sale (Partial)</td>\n",
       "    </tr>\n",
       "    <tr>\n",
       "      <th>2</th>\n",
       "      <td>2014-06-05</td>\n",
       "      <td>Joint</td>\n",
       "      <td>PPL</td>\n",
       "      <td>PPL Corporation (NYSE)</td>\n",
       "      <td>$15,001 - $50,000</td>\n",
       "      <td>Toomey, Patrick J</td>\n",
       "      <td>Sale (Partial)</td>\n",
       "    </tr>\n",
       "    <tr>\n",
       "      <th>4</th>\n",
       "      <td>2014-06-11</td>\n",
       "      <td>Joint</td>\n",
       "      <td>LGP</td>\n",
       "      <td>Lehigh Gas Partners LP (NYSE)</td>\n",
       "      <td>$15,001 - $50,000</td>\n",
       "      <td>Toomey, Patrick J</td>\n",
       "      <td>Purchase</td>\n",
       "    </tr>\n",
       "    <tr>\n",
       "      <th>5</th>\n",
       "      <td>2014-06-12</td>\n",
       "      <td>Joint</td>\n",
       "      <td>DBP</td>\n",
       "      <td>PowerShares DB Precious Metals</td>\n",
       "      <td>$15,001 - $50,000</td>\n",
       "      <td>Toomey, Patrick J</td>\n",
       "      <td>Purchase</td>\n",
       "    </tr>\n",
       "  </tbody>\n",
       "</table>\n",
       "</div>"
      ],
      "text/plain": [
       "  Transaction Date  Owner Ticker                      Asset Name             Amount       Senator Name Transaction Type\n",
       "0       2014-04-29  Joint   LINE       Linn Energy, LLC (NASDAQ)   $1,001 - $15,000  Toomey, Patrick J      Sale (Full)\n",
       "1       2014-06-05  Joint    GLD                SPDR Gold Shares   $1,001 - $15,000  Toomey, Patrick J   Sale (Partial)\n",
       "2       2014-06-05  Joint    PPL          PPL Corporation (NYSE)  $15,001 - $50,000  Toomey, Patrick J   Sale (Partial)\n",
       "4       2014-06-11  Joint    LGP   Lehigh Gas Partners LP (NYSE)  $15,001 - $50,000  Toomey, Patrick J         Purchase\n",
       "5       2014-06-12  Joint    DBP  PowerShares DB Precious Metals  $15,001 - $50,000  Toomey, Patrick J         Purchase"
      ]
     },
     "execution_count": 408,
     "metadata": {},
     "output_type": "execute_result"
    }
   ],
   "source": [
    "senator_filing_data_df.head()"
   ]
  },
  {
   "cell_type": "markdown",
   "id": "4dbb7603-838e-4ea9-b59c-85ea57dd80f5",
   "metadata": {},
   "source": [
    "Lets also change the Amount Column. We cant know the exact amount purchased or sold, so lets just assume it's the maximum amount.\n",
    "For example, if the amount is 1001-15000, we will assume the amount is 1500."
   ]
  },
  {
   "cell_type": "code",
   "execution_count": 409,
   "id": "b36401cb-5210-4566-9d4c-55e4c09ddf42",
   "metadata": {},
   "outputs": [],
   "source": [
    "def fix_amount(x):\n",
    "    amnt = x.replace(',', '')\n",
    "    amnt = amnt.replace('$','')\n",
    "    pattern = r'((\\d)*) -'\n",
    "    matches = re.findall(pattern, amnt) \n",
    "    match = matches[0]\n",
    "    return match[0]\n",
    "        \n",
    "senator_filing_data_df['Amount'] = senator_filing_data_df['Amount'].apply(fix_amount)\n",
    "senator_filing_data_df['Amount'] = pd.to_numeric(senator_filing_data_df['Amount'], errors='coerce').astype(int)"
   ]
  },
  {
   "cell_type": "markdown",
   "id": "fe69361b-f890-4005-bb07-0de3270b1730",
   "metadata": {},
   "source": [
    "Last thing. It looks like there are some duplicate entries, for example running the following code will demonstrate some diplicate entries\n",
    "former senator Kamala Harris. This can likely be attributed to some non-deterministic behavior of the website loading and scraper."
   ]
  },
  {
   "cell_type": "code",
   "execution_count": 410,
   "id": "45e4073a-4e24-4e7c-904a-798a29dc5edc",
   "metadata": {},
   "outputs": [
    {
     "data": {
      "text/html": [
       "<div>\n",
       "<style scoped>\n",
       "    .dataframe tbody tr th:only-of-type {\n",
       "        vertical-align: middle;\n",
       "    }\n",
       "\n",
       "    .dataframe tbody tr th {\n",
       "        vertical-align: top;\n",
       "    }\n",
       "\n",
       "    .dataframe thead th {\n",
       "        text-align: right;\n",
       "    }\n",
       "</style>\n",
       "<table border=\"1\" class=\"dataframe\">\n",
       "  <thead>\n",
       "    <tr style=\"text-align: right;\">\n",
       "      <th></th>\n",
       "      <th>Transaction Date</th>\n",
       "      <th>Owner</th>\n",
       "      <th>Ticker</th>\n",
       "      <th>Asset Name</th>\n",
       "      <th>Amount</th>\n",
       "      <th>Senator Name</th>\n",
       "      <th>Transaction Type</th>\n",
       "    </tr>\n",
       "  </thead>\n",
       "  <tbody>\n",
       "    <tr>\n",
       "      <th>3427</th>\n",
       "      <td>2017-02-28</td>\n",
       "      <td>Spouse</td>\n",
       "      <td>DOMIX</td>\n",
       "      <td>Domini Impact International Equity Inv</td>\n",
       "      <td>15001</td>\n",
       "      <td>Harris, Kamala D</td>\n",
       "      <td>Sale (Full)</td>\n",
       "    </tr>\n",
       "    <tr>\n",
       "      <th>42115</th>\n",
       "      <td>2017-02-28</td>\n",
       "      <td>Spouse</td>\n",
       "      <td>DOMIX</td>\n",
       "      <td>Domini Impact International Equity Inv</td>\n",
       "      <td>15001</td>\n",
       "      <td>Harris, Kamala D</td>\n",
       "      <td>Sale (Full)</td>\n",
       "    </tr>\n",
       "    <tr>\n",
       "      <th>42578</th>\n",
       "      <td>2017-02-28</td>\n",
       "      <td>Spouse</td>\n",
       "      <td>DOMIX</td>\n",
       "      <td>Domini Impact International Equity Inv</td>\n",
       "      <td>15001</td>\n",
       "      <td>Harris, Kamala D</td>\n",
       "      <td>Sale (Full)</td>\n",
       "    </tr>\n",
       "  </tbody>\n",
       "</table>\n",
       "</div>"
      ],
      "text/plain": [
       "      Transaction Date   Owner Ticker                              Asset Name  Amount      Senator Name Transaction Type\n",
       "3427        2017-02-28  Spouse  DOMIX  Domini Impact International Equity Inv   15001  Harris, Kamala D      Sale (Full)\n",
       "42115       2017-02-28  Spouse  DOMIX  Domini Impact International Equity Inv   15001  Harris, Kamala D      Sale (Full)\n",
       "42578       2017-02-28  Spouse  DOMIX  Domini Impact International Equity Inv   15001  Harris, Kamala D      Sale (Full)"
      ]
     },
     "execution_count": 410,
     "metadata": {},
     "output_type": "execute_result"
    }
   ],
   "source": [
    "senator_filing_data_df[(senator_filing_data_df['Senator Name']=='Harris, Kamala D') & (senator_filing_data_df['Ticker'] == 'DOMIX')]\n"
   ]
  },
  {
   "cell_type": "markdown",
   "id": "dc878dcd-d975-43b3-8795-33682e12e040",
   "metadata": {},
   "source": [
    "To fix this we can just remove duplicate rows. We can be certain that there are no intentional duplicate entries in the table\n",
    "because that wouldnt follow the guidelines for the financial disclosures found here [Financial Disclosure Rules](https://www.ethics.senate.gov/public/_cache/files/270d3e6d-8430-477a-a942-bfb7be7ac219/2023-financial-disclosure-instructions.pdf)"
   ]
  },
  {
   "cell_type": "code",
   "execution_count": 411,
   "id": "d2eaff80-0c69-4676-a4b7-c135a06cb382",
   "metadata": {},
   "outputs": [],
   "source": [
    "#Delete duplicate rows\n",
    "senator_filing_data_df.drop_duplicates(inplace=True)"
   ]
  },
  {
   "cell_type": "markdown",
   "id": "23631369-a018-41de-8e4b-43fd004f8170",
   "metadata": {},
   "source": [
    "Lets see how many unique stocks there are."
   ]
  },
  {
   "cell_type": "code",
   "execution_count": 412,
   "id": "5692d175-8b99-4ab3-8516-6553ce3cbcc8",
   "metadata": {},
   "outputs": [
    {
     "name": "stdout",
     "output_type": "stream",
     "text": [
      "Number of Filings: 25013\n",
      "Number of Unique Stocks: 3353\n"
     ]
    }
   ],
   "source": [
    "unique_stocks = senator_filing_data_df['Ticker'].unique()\n",
    "print(f\"Number of Filings: {senator_filing_data_df.shape[0]}\")\n",
    "print(f\"Number of Unique Stocks: {len(unique_stocks)}\")\n",
    "\n"
   ]
  },
  {
   "cell_type": "markdown",
   "id": "1941dfbd-8c2e-490c-8642-f1abcea6f301",
   "metadata": {},
   "source": [
    "Wow! Of the 25013 senator filings from 2012 to 2024, there are only 3353 unique stock purchases."
   ]
  },
  {
   "cell_type": "markdown",
   "id": "dca3b072-753e-44e2-a014-26ba3c7fdd70",
   "metadata": {},
   "source": [
    "## Obtain The Stock Information:\n",
    "In this section, we'll need to collect information on each of the 3353 stocks. We'll use the yahoo_fin package to collect \n",
    "the information from Yahoo Finance. It is important to note that yahoo_fin is free, but may not have the most accurate data. This will likely come back to bite us in later sections when we are training our model. "
   ]
  },
  {
   "cell_type": "code",
   "execution_count": null,
   "id": "d108f538-31bb-40d7-a094-319d1c63c94b",
   "metadata": {
    "scrolled": true
   },
   "outputs": [],
   "source": [
    "!pip install yahoo_fin"
   ]
  },
  {
   "cell_type": "markdown",
   "id": "a738be7c-269b-4334-90c6-2472e183eec9",
   "metadata": {},
   "source": [
    "Here is a demo of yahoo_fin."
   ]
  },
  {
   "cell_type": "code",
   "execution_count": 23,
   "id": "1b975355-6127-464d-a0db-bf41b66aaa8c",
   "metadata": {},
   "outputs": [
    {
     "name": "stdout",
     "output_type": "stream",
     "text": [
      "Warning - Certain functionality \n",
      "             requires requests_html, which is not installed.\n",
      "             \n",
      "             Install using: \n",
      "             pip install requests_html\n",
      "             \n",
      "             After installation, you may have to restart your Python session.\n"
     ]
    },
    {
     "data": {
      "text/html": [
       "<div>\n",
       "<style scoped>\n",
       "    .dataframe tbody tr th:only-of-type {\n",
       "        vertical-align: middle;\n",
       "    }\n",
       "\n",
       "    .dataframe tbody tr th {\n",
       "        vertical-align: top;\n",
       "    }\n",
       "\n",
       "    .dataframe thead th {\n",
       "        text-align: right;\n",
       "    }\n",
       "</style>\n",
       "<table border=\"1\" class=\"dataframe\">\n",
       "  <thead>\n",
       "    <tr style=\"text-align: right;\">\n",
       "      <th></th>\n",
       "      <th>open</th>\n",
       "      <th>high</th>\n",
       "      <th>low</th>\n",
       "      <th>close</th>\n",
       "      <th>adjclose</th>\n",
       "      <th>volume</th>\n",
       "      <th>ticker</th>\n",
       "    </tr>\n",
       "  </thead>\n",
       "  <tbody>\n",
       "    <tr>\n",
       "      <th>1997-05-15</th>\n",
       "      <td>0.121875</td>\n",
       "      <td>0.125000</td>\n",
       "      <td>0.096354</td>\n",
       "      <td>0.097917</td>\n",
       "      <td>0.097917</td>\n",
       "      <td>1443120000</td>\n",
       "      <td>AMZN</td>\n",
       "    </tr>\n",
       "    <tr>\n",
       "      <th>1997-05-16</th>\n",
       "      <td>0.098438</td>\n",
       "      <td>0.098958</td>\n",
       "      <td>0.085417</td>\n",
       "      <td>0.086458</td>\n",
       "      <td>0.086458</td>\n",
       "      <td>294000000</td>\n",
       "      <td>AMZN</td>\n",
       "    </tr>\n",
       "    <tr>\n",
       "      <th>1997-05-19</th>\n",
       "      <td>0.088021</td>\n",
       "      <td>0.088542</td>\n",
       "      <td>0.081250</td>\n",
       "      <td>0.085417</td>\n",
       "      <td>0.085417</td>\n",
       "      <td>122136000</td>\n",
       "      <td>AMZN</td>\n",
       "    </tr>\n",
       "    <tr>\n",
       "      <th>1997-05-20</th>\n",
       "      <td>0.086458</td>\n",
       "      <td>0.087500</td>\n",
       "      <td>0.081771</td>\n",
       "      <td>0.081771</td>\n",
       "      <td>0.081771</td>\n",
       "      <td>109344000</td>\n",
       "      <td>AMZN</td>\n",
       "    </tr>\n",
       "    <tr>\n",
       "      <th>1997-05-21</th>\n",
       "      <td>0.081771</td>\n",
       "      <td>0.082292</td>\n",
       "      <td>0.068750</td>\n",
       "      <td>0.071354</td>\n",
       "      <td>0.071354</td>\n",
       "      <td>377064000</td>\n",
       "      <td>AMZN</td>\n",
       "    </tr>\n",
       "  </tbody>\n",
       "</table>\n",
       "</div>"
      ],
      "text/plain": [
       "                open      high       low     close  adjclose      volume ticker\n",
       "1997-05-15  0.121875  0.125000  0.096354  0.097917  0.097917  1443120000   AMZN\n",
       "1997-05-16  0.098438  0.098958  0.085417  0.086458  0.086458   294000000   AMZN\n",
       "1997-05-19  0.088021  0.088542  0.081250  0.085417  0.085417   122136000   AMZN\n",
       "1997-05-20  0.086458  0.087500  0.081771  0.081771  0.081771   109344000   AMZN\n",
       "1997-05-21  0.081771  0.082292  0.068750  0.071354  0.071354   377064000   AMZN"
      ]
     },
     "execution_count": 23,
     "metadata": {},
     "output_type": "execute_result"
    }
   ],
   "source": [
    "from yahoo_fin.stock_info import get_data\n",
    "\n",
    "amazon_weekly= get_data(\"amzn\")\n",
    "amazon_weekly.head()"
   ]
  },
  {
   "cell_type": "markdown",
   "id": "38f9efb4-2101-496b-8a2e-b2fe6d764c7c",
   "metadata": {},
   "source": [
    "yahoo_fin returns a pandas df containing the stock information at specified intervals, in this case it contains daily OHLCV data. Lets collect a dataframe for each stock and store it in a dictionary. NOTE, some companies aren't available in yahoo finance for various reasons, for example Linn Energy, LLC (LINE) sold by Senator Patrick Toomey went bankrupt in 2016. While information on the stocks is useful for understanding the big picture of senators trading patterns and possible insight they have (Toomey Sold before the company went bankrupt), it is not feasible to collect this information without spending more time and money to retrieve this information. In this case, we will just skip these stocks."
   ]
  },
  {
   "cell_type": "markdown",
   "id": "7a43f033-1bf3-4242-91e3-10b6a07abbc8",
   "metadata": {},
   "source": [
    "The following will take up to 15 minutes to complete. "
   ]
  },
  {
   "cell_type": "code",
   "execution_count": null,
   "id": "c5564970-dc71-405b-88c2-64040d046cb0",
   "metadata": {},
   "outputs": [],
   "source": [
    "historical_datas = {}\n",
    "for i,ticker in enumerate(unique_stocks):\n",
    "    try:\n",
    "        historical_datas[ticker] = get_data(ticker, start_date=\"1/01/2011\", interval=\"1d\")\n",
    "    except:\n",
    "        print(f\"stock {ticker} not found\")"
   ]
  },
  {
   "cell_type": "markdown",
   "id": "e13a7438-ac73-4ffe-b0a6-c1dd139466cd",
   "metadata": {},
   "source": [
    "Lets check to see if we have any null values"
   ]
  },
  {
   "cell_type": "code",
   "execution_count": 413,
   "id": "b73e3838-4459-4ed3-8f67-629cc2263b9f",
   "metadata": {},
   "outputs": [
    {
     "name": "stdout",
     "output_type": "stream",
     "text": [
      "1567\n"
     ]
    }
   ],
   "source": [
    "cols_to_check = ['open', 'high', 'low', 'close', 'adjclose', 'volume']\n",
    "counter = 0\n",
    "for ticker, table in historical_datas.items():\n",
    "    empty_entries = table[cols_to_check].isnull().all(axis=1)\n",
    "    if empty_entries.sum() > 0:\n",
    "        counter += 1\n",
    "    # print(f'ticker:{ticker} empty entries: {empty_entries.sum()} total entries: {table.shape[0]}')\n",
    "print(counter)"
   ]
  },
  {
   "cell_type": "markdown",
   "id": "fd4bc1d7-51c5-47a1-a1ea-6b01b93ac43b",
   "metadata": {},
   "source": [
    "Woah. Looks like we have over 1567 instances of null values. Lets create a copy of the historical_datas dict but we'll drop the \n",
    "entries with columns with no data."
   ]
  },
  {
   "cell_type": "code",
   "execution_count": 414,
   "id": "cda99082-8828-47a0-9ed2-c666e922a922",
   "metadata": {},
   "outputs": [],
   "source": [
    "cleaned_historical_datas = {}\n",
    "\n",
    "cols_to_check = ['open', 'high', 'low', 'close', 'adjclose', 'volume']\n",
    "for ticker, table in historical_datas.items():\n",
    "    empty_entries = table[cols_to_check].isnull().all(axis=1)\n",
    "    cleaned_historical_datas[ticker] = table[~empty_entries].copy()"
   ]
  },
  {
   "cell_type": "code",
   "execution_count": 415,
   "id": "e225863b-3c39-465c-8dfc-4d461ebcd353",
   "metadata": {},
   "outputs": [
    {
     "name": "stdout",
     "output_type": "stream",
     "text": [
      "Number of Stock Tables: 2999\n",
      "Data Lost: 354\n"
     ]
    }
   ],
   "source": [
    "print(f'Number of Stock Tables: {len(cleaned_historical_datas)}')\n",
    "print(f'Data Lost: {len(unique_stocks)-len(cleaned_historical_datas)}')"
   ]
  },
  {
   "cell_type": "markdown",
   "id": "5aa23738-a5e0-427d-86b6-df1df129ddce",
   "metadata": {},
   "source": [
    "Looks like we werent able to find data on 354 stocks. Lets drop those from the senator_filing_data_df as they will be of no use to us."
   ]
  },
  {
   "cell_type": "code",
   "execution_count": 416,
   "id": "2ec3d80d-3093-4eab-94d7-0d1060e0d293",
   "metadata": {},
   "outputs": [
    {
     "data": {
      "text/plain": [
       "(2999,)"
      ]
     },
     "execution_count": 416,
     "metadata": {},
     "output_type": "execute_result"
    }
   ],
   "source": [
    "unique_stocks_set = set(unique_stocks)\n",
    "cleaned_historical_datas_keys_set = set(cleaned_historical_datas.keys())\n",
    "\n",
    "missing_stock_data = unique_stocks_set - (cleaned_historical_datas_keys_set)\n",
    "mask = senator_filing_data_df['Ticker'].isin(missing_stock_data)\n",
    "\n",
    "#sanity check\n",
    "#This df contains all entries with unknown tickers\n",
    "#The unique values should total to 371\n",
    "illegal_ticker = senator_filing_data_df[mask][\"Ticker\"].unique()\n",
    "illegal_ticker.shape\n",
    "\n",
    "#Remove from senator_filing_data_df\n",
    "senator_filing_data_df = senator_filing_data_df[~mask]\n",
    "#Should be 2982\n",
    "senator_filing_data_df[\"Ticker\"].unique().shape"
   ]
  },
  {
   "cell_type": "markdown",
   "id": "bea76630-e5cf-47eb-956d-c8093821fd29",
   "metadata": {},
   "source": [
    "Last thing. Because yahoo_fin data is somewhat unreliable, and there may be time periods where there is no data, its possible to have senator transactions that take place outside the date range of the data we have collected. For example, if a trade is place on 1/1/2012, but the stock data goes from 1/1/2015 - 1/1/2024, then there is no close data we can rely on. In this case, we should drop this transaction\n",
    "from senator_filing_data_df as it wont provide any info.  "
   ]
  },
  {
   "cell_type": "code",
   "execution_count": 417,
   "id": "cdafdb3d-3f5e-4be0-b3a4-1e843879cf22",
   "metadata": {},
   "outputs": [
    {
     "data": {
      "text/plain": [
       "(22694, 7)"
      ]
     },
     "execution_count": 417,
     "metadata": {},
     "output_type": "execute_result"
    }
   ],
   "source": [
    "\n",
    "rows_to_drop = []\n",
    "for index, trade in senator_filing_data_df.iterrows():\n",
    "    ticker = trade['Ticker']\n",
    "    trade_date = trade['Transaction Date']\n",
    "    beginning_date = cleaned_historical_datas[ticker].index[0]\n",
    "    end_date = cleaned_historical_datas[ticker].index[-1]\n",
    "\n",
    "    if (trade_date < beginning_date or trade_date >  end_date):\n",
    "        rows_to_drop.append(index)\n",
    "\n",
    "\n",
    "senator_filing_data_df.drop(rows_to_drop, inplace=True)\n",
    "senator_filing_data_df.shape"
   ]
  },
  {
   "cell_type": "markdown",
   "id": "6ccde30c-a796-4f1d-9292-bf1e4eea6aec",
   "metadata": {},
   "source": [
    "Now that the senator_filing_data_df df and the dictonary of historical stock data is all squared away, lets visualize some data. "
   ]
  },
  {
   "cell_type": "markdown",
   "id": "8d768501-4e68-4409-8221-006432cf2aab",
   "metadata": {},
   "source": [
    "## Exploratory Analysis and Data Visualization"
   ]
  },
  {
   "cell_type": "markdown",
   "id": "3fcd7a76-a0e1-40a1-a6d5-f3c83ab52f48",
   "metadata": {},
   "source": [
    "Lets first start off by visualizing the performence of each of the 2982 stocks from 2012 to today."
   ]
  },
  {
   "cell_type": "code",
   "execution_count": 418,
   "id": "92de86f9-8ed5-4006-a110-659e036ceb74",
   "metadata": {},
   "outputs": [
    {
     "data": {
      "image/png": "[encoded data removed]",
      "text/plain": [
       "<Figure size 640x480 with 1 Axes>"
      ]
     },
     "metadata": {},
     "output_type": "display_data"
    }
   ],
   "source": [
    "import matplotlib.pyplot as plt\n",
    "\n",
    "for ticker in list(cleaned_historical_datas.keys()):\n",
    "    plt.plot(cleaned_historical_datas[ticker]['open'])\n",
    "\n",
    "# Add labels to the axes\n",
    "plt.xlabel('Year')\n",
    "plt.ylabel('Open Price')\n",
    "\n",
    "# Add a title to the plot\n",
    "plt.title('Stock Open Prices Over Years')\n",
    "\n",
    "# Show the plot\n",
    "plt.show()"
   ]
  },
  {
   "cell_type": "markdown",
   "id": "b5190b61-3c0d-4191-907d-c9185994b797",
   "metadata": {},
   "source": [
    "Not really helpful, but what on earth is that red line that was trading at 250k in 2012?"
   ]
  },
  {
   "cell_type": "code",
   "execution_count": 420,
   "id": "907da410-b301-43ef-848c-142d6c91cbda",
   "metadata": {},
   "outputs": [
    {
     "name": "stdout",
     "output_type": "stream",
     "text": [
      "max stock: VIXY trading at 249840.0\n"
     ]
    }
   ],
   "source": [
    "max_name = ''\n",
    "max_price = 0\n",
    "\n",
    "for ticker in cleaned_historical_datas:\n",
    "    ticker_max = cleaned_historical_datas[ticker]['open'].max()\n",
    "    if ticker_max >= max_price:\n",
    "        max_name = ticker\n",
    "        max_price = ticker_max\n",
    "\n",
    "print(f'max stock: {max_name} trading at {max_price}')"
   ]
  },
  {
   "cell_type": "markdown",
   "id": "939fa725-fae2-4d47-b936-ee45e79929f7",
   "metadata": {},
   "source": [
    "Looks like it was VIXY (ProShares VIX Short-Term Futures ETF), a fund usually used to hedge against market downturns. "
   ]
  },
  {
   "cell_type": "markdown",
   "id": "1317af0f-2651-4f70-8dbf-b993eb43577b",
   "metadata": {},
   "source": [
    "Lets identify the top performing stocks and graph them over time"
   ]
  },
  {
   "cell_type": "code",
   "execution_count": 421,
   "id": "614c8aa6-54e1-4e27-a9b3-188a15284dd9",
   "metadata": {},
   "outputs": [],
   "source": [
    "\n",
    "stock_rates_of_change = {}\n",
    "\n",
    "for ticker, ticker_df in cleaned_historical_datas.items():\n",
    "    init_price = ticker_df['open'].iloc[0]\n",
    "    if init_price > 0:\n",
    "        final_price = ticker_df['open'].iloc[-1]\n",
    "        rate_of_change = (final_price - init_price) / init_price * 100\n",
    "    else:\n",
    "        rate_of_change = 0\n",
    "    stock_rates_of_change[ticker] = rate_of_change\n",
    "        \n",
    "\n",
    "#Store top performers\n",
    "top_stock_performers = sorted(stock_rates_of_change.items(), key=lambda x: x[1], reverse=True)"
   ]
  },
  {
   "cell_type": "markdown",
   "id": "7187140e-969b-4862-b2fc-a34ad6803e8d",
   "metadata": {},
   "source": [
    "Lets graph the top 10 performers"
   ]
  },
  {
   "cell_type": "code",
   "execution_count": 422,
   "id": "915cf75a-e349-45c9-ae22-a96640548cd7",
   "metadata": {},
   "outputs": [
    {
     "data": {
      "image/png": "[encoded data removed]",
      "text/plain": [
       "<Figure size 640x480 with 1 Axes>"
      ]
     },
     "metadata": {},
     "output_type": "display_data"
    }
   ],
   "source": [
    "for ticker in top_stock_performers[:10]:\n",
    "    plt.plot(cleaned_historical_datas[ticker[0]]['open'], label=ticker[0])\n",
    "\n",
    "plt.xlabel('Year')\n",
    "plt.ylabel('Open Price')\n",
    "\n",
    "# Add a title to the plot\n",
    "plt.title('Top Stocks Over The Years')\n",
    "plt.legend(fontsize='small')  \n",
    "# Show the plot\n",
    "plt.show()"
   ]
  },
  {
   "cell_type": "markdown",
   "id": "241a648e-fad1-4a70-ac54-85547fcc10fd",
   "metadata": {},
   "source": [
    "Before we see how the senator's trades performed, lets see the break down of the stock's sectos\n"
   ]
  },
  {
   "cell_type": "code",
   "execution_count": null,
   "id": "b402ac72-c852-40c9-8bc5-e8af3420b9d3",
   "metadata": {},
   "outputs": [],
   "source": [
    "!pip install yfinance --upgrade --no-cache-dir"
   ]
  },
  {
   "cell_type": "code",
   "execution_count": null,
   "id": "7e7f0f8e-1291-4b80-8eff-107e599f285f",
   "metadata": {},
   "outputs": [],
   "source": [
    "import yfinance as yf\n",
    "\n",
    "# sbux = yf.Ticker(\"GPRO\")\n",
    "# tlry = yf.Ticker(\"TLRY\")\n",
    "\n",
    "# \n",
    "# print(tlry.info['sector'])\n",
    "\n",
    "industry_info = {}\n",
    "for ticker in cleaned_historical_datas.keys():\n",
    "    try:\n",
    "        stock_ticker = yf.Ticker(ticker)\n",
    "        stock_industry = stock_ticker.info['sector']\n",
    "        if stock_industry in industry_info:\n",
    "            industry_info[stock_industry] += 1\n",
    "        else:\n",
    "            industry_info[stock_industry] = 1\n",
    "    except:\n",
    "        print('no ticker found')\n",
    "        # pass\n",
    "            \n",
    "\n",
    "        "
   ]
  },
  {
   "cell_type": "code",
   "execution_count": 423,
   "id": "945a953f-ddac-4339-b013-cbe04c21f57e",
   "metadata": {},
   "outputs": [
    {
     "data": {
      "image/png": "[encoded data removed]",
      "text/plain": [
       "<Figure size 1200x600 with 1 Axes>"
      ]
     },
     "metadata": {},
     "output_type": "display_data"
    }
   ],
   "source": [
    "sectors = list(industry_info.keys())\n",
    "counts = list(industry_info.values())\n",
    "plt.figure(figsize=(12, 6))\n",
    "\n",
    "colors = ['blue', 'green', 'red', 'orange', 'purple', 'yellow', 'cyan', 'magenta', 'lime', 'brown', 'teal']\n",
    "\n",
    "plt.bar(sectors, counts, color=colors)\n",
    "\n",
    "plt.xlabel('Sectors')\n",
    "plt.ylabel('Counts')\n",
    "plt.title('Frequency of Sectors')\n",
    "plt.xticks(fontsize=6)  # Adjust font size here\n",
    "\n",
    "# Displaying the plot\n",
    "plt.show()"
   ]
  },
  {
   "cell_type": "markdown",
   "id": "b15ea60f-2ee1-4d35-b537-4784154c681d",
   "metadata": {},
   "source": [
    "Looks like, Financial Services, Industrials, and Tech are the top sectors. Lets see a pie chart breakdown of the data."
   ]
  },
  {
   "cell_type": "code",
   "execution_count": 424,
   "id": "c499535c-ee37-4719-9c49-49c0da6db04f",
   "metadata": {},
   "outputs": [
    {
     "data": {
      "image/png": "[encoded data removed]",
      "text/plain": [
       "<Figure size 800x800 with 1 Axes>"
      ]
     },
     "metadata": {},
     "output_type": "display_data"
    }
   ],
   "source": [
    "plt.figure(figsize=(8, 8))\n",
    "\n",
    "# Creating the pie chart\n",
    "plt.pie(counts, labels=sectors, autopct='%1.1f%%', colors=colors)\n",
    "\n",
    "# Adding title\n",
    "plt.title('Breakdown of Sectors')\n",
    "\n",
    "# Displaying the plot\n",
    "plt.show()"
   ]
  },
  {
   "cell_type": "markdown",
   "id": "576930a6-fbda-455b-8d51-93072072b946",
   "metadata": {},
   "source": [
    "## Senator Performence\n",
    "Now that we've seen a breakdown of the stocks the senators selected. Lets see how well each senator performed. In this section we'll loop through each stock each senator has bought and sold and compute their realized, unrealized, and total returns from their investments. We'll first begin by computing returns based on assets aqcuired before being in office, and while in office. For some stocks traded by the senators, their are only records of selling the asset and no records of buying it. This is likely because the asset was acquired before the senator took office, and didn't need to be reported. "
   ]
  },
  {
   "cell_type": "code",
   "execution_count": 425,
   "id": "90472764-de15-48a1-b89a-1b5d50941d16",
   "metadata": {},
   "outputs": [],
   "source": [
    "senator_name_list = senator_filing_data_df['Senator Name'].unique()\n",
    "counter = 0\n",
    "\n",
    "senator_stock_returns = {}\n",
    "\n",
    "\n",
    "for senator in senator_name_list:\n",
    "    #for each stock owned, pull transactions related to stock and sort in order of date\n",
    "    senator_transactions = senator_filing_data_df[senator_filing_data_df['Senator Name'] == senator].sort_values(by='Transaction Date', ascending=True)\n",
    "\n",
    "    senator_returns_list = []\n",
    "    \n",
    "    for stock in senator_transactions['Ticker'].unique():\n",
    "        stock_data = cleaned_historical_datas[stock]\n",
    "        total_shares = 0\n",
    "        realized_gains = 0\n",
    "        unrealized_gains = 0\n",
    "        curr_stock_price = stock_data.iloc[-1]['open']\n",
    "        cost = 0\n",
    "        data_available = True\n",
    "\n",
    "        stock_transactions = senator_transactions[senator_transactions['Ticker'] == stock]\n",
    "        for index, transaction in stock_transactions.iterrows():\n",
    "            action = transaction['Transaction Type']\n",
    "            amount = transaction['Amount']\n",
    "            date = transaction['Transaction Date']\n",
    "            \n",
    "            #Its possible the transaction date had NAN values and was dropped\n",
    "            #We can find the closest date in the table to the given date, but its better to just skip\n",
    "            if date in stock_data.index:\n",
    "                share_price_at_trans_date = stock_data.loc[date, 'open']\n",
    "            else:\n",
    "                #uncomment to use closest existing date in table\n",
    "                # date_diff = abs(stock_data.index - date)\n",
    "\n",
    "                # # Find the index label (date) with the minimum absolute difference\n",
    "                # closest_date = date_diff.argmin()\n",
    "                # share_price_at_trans_date = stock_data.iloc[closest_date]['open']\n",
    "                data_available = False\n",
    "                break\n",
    "\n",
    "            num_shares_transacted = (amount / share_price_at_trans_date)\n",
    "\n",
    "            #if senator is purchasing, total_shares is increments\n",
    "            #and realized_profit is decremented. If senatro is selling (partial or full),\n",
    "            #total_shares are decremented or limited to 0 if sale makes total shares negative\n",
    "            #This can happen if senator owned shares before being in office, and they are not accounted\n",
    "            #for by our data. \n",
    "\n",
    "\n",
    "            if (action == 'Purchase'):\n",
    "                total_shares += num_shares_transacted\n",
    "                cost += amount\n",
    "            else:\n",
    "                if total_shares > 0:\n",
    "                    total_shares = max(0, total_shares - num_shares_transacted)\n",
    "                    realized_gains += amount\n",
    "                else:\n",
    "                    #in this case they are selling shares that \n",
    "                    #were acquired before being in office\n",
    "                    #In this case, the realized return is \n",
    "                    #the amount\n",
    "                    realized_gains += amount\n",
    "        #After all transactions are accounted for, we calculate any unrealized\n",
    "        #gains with shares leftover. We use the price increase from the first reported price\n",
    "        # to today\n",
    "        if data_available:\n",
    "            realized_gains = realized_gains - cost\n",
    "            #realized gains are subtracted from cost as they reduce the cost basis\n",
    "            unrealized_gains = (curr_stock_price * total_shares) - (cost - realized_gains)\n",
    "            trade_data = {'Ticker': stock, 'realized_returns': realized_gains,\n",
    "                          'unrealized_returns': unrealized_gains, 'total_returns': realized_gains + unrealized_gains}      \n",
    "            senator_returns_list.append(trade_data)\n",
    "\n",
    "     #if no data is available, do nothing       \n",
    "    if senator_returns_list:\n",
    "        senator_returns_df = pd.DataFrame(senator_returns_list)\n",
    "        senator_stock_returns[senator] = senator_returns_df\n",
    "    \n",
    "\n"
   ]
  },
  {
   "cell_type": "code",
   "execution_count": 426,
   "id": "572a6fe4-2bcc-4507-abce-500817705c88",
   "metadata": {},
   "outputs": [
    {
     "data": {
      "text/plain": [
       "[('Hagerty, Bill', 10159539.997878281),\n",
       " ('Scott, Rick', 4245906.278602254),\n",
       " ('Smith, Tina', 3547645.747024471),\n",
       " ('Whitehouse, Sheldon', 2334432.3202192606),\n",
       " ('Perdue Jr, David A', 1984072.8550688042),\n",
       " ('Hickenlooper, John', 1287258.324317931),\n",
       " ('Shaheen, Jeanne', 828953.0),\n",
       " ('Cassidy, Bill', 555616.4191253986),\n",
       " ('King, Angus', 483095.2188692416),\n",
       " ('Flake, Jeffry L', 391834.94158487715)]"
      ]
     },
     "execution_count": 426,
     "metadata": {},
     "output_type": "execute_result"
    }
   ],
   "source": [
    "ranked_senator_returns = {}\n",
    "\n",
    "for senator in senator_stock_returns:\n",
    "    ranked_senator_returns[senator] = senator_stock_returns[senator]['total_returns'].sum()\n",
    "\n",
    "sorted(ranked_senator_returns.items(), key=lambda x: x[1], reverse=True)[:10]\n",
    "    "
   ]
  },
  {
   "cell_type": "markdown",
   "id": "519ba4a5-cbee-4407-bd7e-b66e521922b0",
   "metadata": {},
   "source": [
    "The returns are likely off by several hundreds of thousands, but that can be attributed to the assumptions made about \n",
    "trade size, preowned shares, and dropped values in the tables. Despite this, the ordering of this list, should still be somewhat accurate.\n",
    "It would be difficult to find exact numbers, however the top 10 list here agrees somewhat with this list provided by [investopedia](https://www.investopedia.com/articles/investing/041516/who-are-americas-7richest-senators.asp)"
   ]
  },
  {
   "cell_type": "markdown",
   "id": "b0c0849f-254e-4b79-ac94-151f1813a091",
   "metadata": {},
   "source": [
    "Lets do the calculations one more time, but this time excluding any transactions involving stocks that were acquired before filing."
   ]
  },
  {
   "cell_type": "code",
   "execution_count": 427,
   "id": "1118a25a-9958-452a-9256-0991c388ff31",
   "metadata": {},
   "outputs": [],
   "source": [
    "senator_name_list = senator_filing_data_df['Senator Name'].unique()\n",
    "counter = 0\n",
    "\n",
    "in_office_senator_stock_returns = {}\n",
    "\n",
    "\n",
    "for senator in senator_name_list:\n",
    "    #for each stock owned, pull transactions related to stock and sort in order of date\n",
    "    senator_transactions = senator_filing_data_df[senator_filing_data_df['Senator Name'] == senator].sort_values(by='Transaction Date', ascending=True)\n",
    "\n",
    "    senator_returns_list = []\n",
    "    \n",
    "    for stock in senator_transactions['Ticker'].unique():\n",
    "        stock_data = cleaned_historical_datas[stock]\n",
    "        total_shares = 0\n",
    "        realized_gains = 0\n",
    "        unrealized_gains = 0\n",
    "        curr_stock_price = stock_data.iloc[-1]['open']\n",
    "        cost = 0\n",
    "        data_available = True\n",
    "\n",
    "        stock_transactions = senator_transactions[senator_transactions['Ticker'] == stock]\n",
    "        for index, transaction in stock_transactions.iterrows():\n",
    "            action = transaction['Transaction Type']\n",
    "            amount = transaction['Amount']\n",
    "            date = transaction['Transaction Date']\n",
    "            \n",
    "            #Its possible the transaction date had NAN values and was dropped\n",
    "            #We can find the closest date in the table to the given date, but its better to just skip\n",
    "            if date in stock_data.index:\n",
    "                share_price_at_trans_date = stock_data.loc[date, 'open']\n",
    "            else:\n",
    "                #uncomment to use closest existing date in table\n",
    "                # date_diff = abs(stock_data.index - date)\n",
    "\n",
    "                # # Find the index label (date) with the minimum absolute difference\n",
    "                # closest_date = date_diff.argmin()\n",
    "                # share_price_at_trans_date = stock_data.iloc[closest_date]['open']\n",
    "                data_available = False\n",
    "                break\n",
    "\n",
    "            num_shares_transacted = (amount / share_price_at_trans_date)\n",
    "\n",
    "            #if senator is purchasing, total_shares is increments\n",
    "            #and realized_profit is decremented. If senatro is selling (partial or full),\n",
    "            #total_shares are decremented or limited to 0 if sale makes total shares negative\n",
    "            #This can happen if senator owned shares before being in office, and they are not accounted\n",
    "            #for by our data. \n",
    "\n",
    "            if (action == 'Purchase'):\n",
    "                total_shares += num_shares_transacted\n",
    "                realized_gains -= amount\n",
    "            else:\n",
    "                #only compute sale if there are shares available\n",
    "                if total_shares > 0:\n",
    "                    total_shares = max(0, total_shares - num_shares_transacted)\n",
    "                    realized_gains += amount\n",
    " \n",
    "        #After all transactions are accounted for, we calculate any unrealized\n",
    "        #gains with shares leftover. We use the price increase from the first reported price\n",
    "        # to today\n",
    "\n",
    "        if data_available:\n",
    "            realized_gains = realized_gains - cost\n",
    "            #realized gains are subtracted from cost as they reduce the cost basis\n",
    "            unrealized_gains = (curr_stock_price * total_shares) - (cost - realized_gains)\n",
    "            trade_data = {'Ticker': stock, 'realized_returns': realized_gains,\n",
    "                          'unrealized_returns': unrealized_gains, 'total_returns': realized_gains + unrealized_gains}      \n",
    "            senator_returns_list.append(trade_data)\n",
    "\n",
    "\n",
    "    if (senator_returns_list):\n",
    "        senator_returns_df = pd.DataFrame(senator_returns_list)\n",
    "        in_office_senator_stock_returns[senator] = senator_returns_df\n",
    "    "
   ]
  },
  {
   "cell_type": "code",
   "execution_count": 428,
   "id": "0f158448-c691-4070-9b14-274304434f98",
   "metadata": {},
   "outputs": [
    {
     "data": {
      "text/plain": [
       "[('Scott, Rick', 8016972.278602254),\n",
       " ('Warner, Mark', 6458592.406451105),\n",
       " ('Wyden, Ron', 5559363.8864063155),\n",
       " ('Perdue Jr, David A', 5183228.855068804),\n",
       " ('Whitehouse, Sheldon', 2050820.3202192606),\n",
       " ('Roberts, Pat', 1696191.2433072403),\n",
       " ('Daines, Steve', 1611797.5450072582),\n",
       " ('Portman, Robert J', 1245878.826348421),\n",
       " ('McCaskill, Claire', 1218727.2839903235),\n",
       " ('Warren, Elizabeth', 976069.7148818821)]"
      ]
     },
     "execution_count": 428,
     "metadata": {},
     "output_type": "execute_result"
    }
   ],
   "source": [
    "in_office_ranked_senator_returns = {}\n",
    "\n",
    "for senator in in_office_senator_stock_returns:\n",
    "    in_office_ranked_senator_returns[senator] = in_office_senator_stock_returns[senator]['total_returns'].sum()\n",
    "\n",
    "top_10_in_office_senators = sorted(in_office_ranked_senator_returns.items(), key=lambda x: x[1], reverse=True)[:10]\n",
    "top_10_in_office_senators"
   ]
  },
  {
   "cell_type": "markdown",
   "id": "4b4da722-5ee2-48e2-9e06-1bf1c17c50f8",
   "metadata": {},
   "source": [
    "These are the trades made exclusively while the senator was in office"
   ]
  },
  {
   "cell_type": "markdown",
   "id": "59ee9b0f-1b17-40be-918c-67b0213c6340",
   "metadata": {},
   "source": [
    "Lets see what this wealth distribution looks like"
   ]
  },
  {
   "cell_type": "code",
   "execution_count": 429,
   "id": "119bdb3c-35f9-4a09-b280-9beb597dfef3",
   "metadata": {},
   "outputs": [
    {
     "data": {
      "image/png": "[encoded data removed]",
      "text/plain": [
       "<Figure size 1000x600 with 1 Axes>"
      ]
     },
     "metadata": {},
     "output_type": "display_data"
    }
   ],
   "source": [
    "senators = [entry[0] for entry in in_office_ranked_senator_returns.items()]\n",
    "total_gains = [entry[1] for entry in in_office_ranked_senator_returns.items()]\n",
    "worst_gains = sorted(in_office_ranked_senator_returns.items(), key=lambda x: x[1], reverse=True)[-1]\n",
    "# Set figure size (width, height) in inches\n",
    "plt.figure(figsize=(10, 6))\n",
    "\n",
    "# Creating the scatter plot\n",
    "plt.scatter(senators, total_gains)\n",
    "plt.ylim(worst_gains[1])\n",
    "\n",
    "# Adding labels and title\n",
    "plt.xlabel('Senator')\n",
    "plt.ylabel('Total Stock gains')\n",
    "plt.title('Stock Gains Of Each Senator')\n",
    "\n",
    "# Rotating x-axis labels for better visibility\n",
    "plt.xticks([])\n",
    "for i, senator in enumerate(senators):\n",
    "    plt.annotate(senator, (senators[i], total_gains[i]), textcoords=\"offset points\", xytext=(10,10), ha='center', fontsize=6)\n",
    "\n",
    "\n",
    "\n",
    "# Displaying the plot\n",
    "plt.show()\n"
   ]
  },
  {
   "cell_type": "markdown",
   "id": "844da716-675f-4d77-a50c-732e92f456b5",
   "metadata": {},
   "source": [
    "Lets get a better view of the top 10"
   ]
  },
  {
   "cell_type": "code",
   "execution_count": 430,
   "id": "e98119a2-0c39-47fb-be4f-93ff6852c980",
   "metadata": {},
   "outputs": [
    {
     "data": {
      "image/png": "[encoded data removed]",
      "text/plain": [
       "<Figure size 1000x600 with 1 Axes>"
      ]
     },
     "metadata": {},
     "output_type": "display_data"
    }
   ],
   "source": [
    "senators = [entry[0] for entry in top_10_in_office_senators]\n",
    "total_gains = [entry[1] for entry in top_10_in_office_senators]\n",
    "# Set figure size (width, height) in inches\n",
    "plt.figure(figsize=(10, 6))\n",
    "\n",
    "# Creating the scatter plot\n",
    "plt.scatter(senators, total_gains)\n",
    "plt.ylim(0)\n",
    "\n",
    "# Adding labels and title\n",
    "plt.xlabel('Senator')\n",
    "plt.ylabel('Total Stock gains')\n",
    "plt.title('Stock Gains Of Each Senator')\n",
    "\n",
    "# Rotating x-axis labels for better visibility\n",
    "plt.xticks([])\n",
    "for i, senator in enumerate(senators):\n",
    "    plt.annotate(senator, (senators[i], total_gains[i]), textcoords=\"offset points\", xytext=(10,10), ha='center', fontsize=6)\n",
    "\n",
    "\n",
    "\n",
    "# Displaying the plot\n",
    "plt.show()"
   ]
  },
  {
   "cell_type": "markdown",
   "id": "67a6efa1-802d-44a0-b3cd-8df4f1e6cfd7",
   "metadata": {},
   "source": [
    "Looks like Florida Senator Rick Scott tops the charts with over 8 million dollars in gains while a senator. Scott is the founder of HCA, a healthcare group that made headlines for recieving a half a billion dollar fine for medicare fraud in the early 2000s [source](https://www.justice.gov/archive/opa/pr/2003/June/03_civ_386.htm#:~:text(formerly%20known%20as%20Columbia%2FHCA,the%20Justice%20Department%20announced%20today.)"
   ]
  },
  {
   "cell_type": "markdown",
   "id": "0027647c-ff01-468e-ac1c-6395f41424cb",
   "metadata": {},
   "source": [
    "Finally, lets make a box and whiskers plot to visualize the distribution of wealth. Lets use Seaborn for this"
   ]
  },
  {
   "cell_type": "code",
   "execution_count": 431,
   "id": "d088fc4b-fa82-41ea-84ea-fe05a6327b0d",
   "metadata": {},
   "outputs": [
    {
     "data": {
      "text/plain": [
       "<Axes: xlabel='Total Returns'>"
      ]
     },
     "execution_count": 431,
     "metadata": {},
     "output_type": "execute_result"
    },
    {
     "data": {
      "image/png": "[encoded data removed]",
      "text/plain": [
       "<Figure size 640x480 with 1 Axes>"
      ]
     },
     "metadata": {},
     "output_type": "display_data"
    }
   ],
   "source": [
    "import seaborn as sns\n",
    "\n",
    "sns.set(style='whitegrid')\n",
    "senator_returns_df = pd.DataFrame(list(in_office_ranked_senator_returns.items()), columns=['Senator', 'Total Returns'])\n",
    "sns.boxplot(x=senator_returns_df['Total Returns'])"
   ]
  },
  {
   "cell_type": "markdown",
   "id": "0121bb3e-8ca2-4d05-b0a8-0fa285da131f",
   "metadata": {},
   "source": [
    "I looks like a majority of the senators profited very little while in office compared to the outliers (Members of the top 10 senators)."
   ]
  },
  {
   "cell_type": "markdown",
   "id": "647301f3-5d05-474f-aee7-1a146a8a8d7a",
   "metadata": {},
   "source": [
    "## Analysis, hypothesis testing, & ML¶\n"
   ]
  },
  {
   "cell_type": "markdown",
   "id": "ca4fbb86-1353-4176-9056-28ccf6229834",
   "metadata": {},
   "source": [
    "Using the data we have collected, lets build a model that given a stock, will predict which senator is most likely to purchase that stock. To do this we will have to create a new data set from our existing data. First, lets create the following technical features:\n",
    "* Daily price change\n",
    "* weekly price change\n",
    "* monthly price change\n",
    "* yearly price change\n",
    "* relative strenght index\n",
    "* monthly volume change\n"
   ]
  },
  {
   "cell_type": "code",
   "execution_count": 432,
   "id": "5fb56088-ccc1-4584-bf66-6184a8aaaef6",
   "metadata": {},
   "outputs": [
    {
     "name": "stdout",
     "output_type": "stream",
     "text": [
      "(0.4799995422363281, 0.7700004577636719, -0.6499977111816406, -4.599998474121094)\n"
     ]
    }
   ],
   "source": [
    "def compute_price_changes(data, end_date):\n",
    "    '''\n",
    "    If a date doesnt exist, keep going back by one day until\n",
    "    a date that does exist in the stock data is found\n",
    "    '''\n",
    "    \n",
    "    # Filter data up to the end date\n",
    "    data = data[data.index <= end_date]\n",
    "    earliest_collected_date = data.index[0]\n",
    "    \n",
    "    # Compute daily change for the end date\n",
    "    \n",
    "    while end_date not in data.index:\n",
    "        end_date = end_date - pd.Timedelta(days=1)  # Previous day\n",
    "\n",
    "    end_date_close = data.loc[end_date, 'close']\n",
    "    \n",
    "    prev_date = end_date - pd.Timedelta(days=1)  \n",
    "    while prev_date not in data.index:\n",
    "        #check if we've passed the earliest available date\n",
    "        if (prev_date < earliest_collected_date):\n",
    "            prev_date = earliest_collected_date\n",
    "        else:\n",
    "            prev_date = prev_date - pd.Timedelta(days=1)  \n",
    "        \n",
    "    prev_date_close = data.loc[prev_date, 'close']\n",
    "    daily_change = end_date_close - prev_date_close\n",
    "\n",
    "    # Compute weekly change\n",
    "\n",
    "    week_start_date = end_date - pd.Timedelta(days=6)  # 7 days ago\n",
    "    while week_start_date not in data.index:\n",
    "        #check if we've passed the earliest available date\n",
    "        if (week_start_date < earliest_collected_date):\n",
    "            week_start_date = earliest_collected_date\n",
    "        else:\n",
    "            week_start_date = week_start_date - pd.Timedelta(days=1) \n",
    "\n",
    "    week_start_close = data.loc[week_start_date, 'close']\n",
    "    weekly_change = end_date_close - week_start_close\n",
    "\n",
    "    # Compute monthly change\n",
    "    month_start_date = end_date - pd.DateOffset(months=1)  # 1 month ago\n",
    "    while month_start_date not in data.index:\n",
    "        #check if we've passed the earliest available date\n",
    "        if (month_start_date < earliest_collected_date):\n",
    "            month_start_date = earliest_collected_date\n",
    "        else:\n",
    "            month_start_date = month_start_date - pd.Timedelta(days=1)  \n",
    "\n",
    "    month_start_close = data.loc[month_start_date, 'close']\n",
    "    monthly_change = end_date_close - month_start_close\n",
    "\n",
    "    # Compute yearly change\n",
    "    year_start_date = end_date - pd.DateOffset(years=1)  \n",
    "    while year_start_date not in data.index:\n",
    "        #check if we've passed the earliest available date\n",
    "        if (year_start_date < earliest_collected_date):\n",
    "            year_start_date = earliest_collected_date\n",
    "        else:\n",
    "            year_start_date = year_start_date - pd.Timedelta(days=1) \n",
    "        \n",
    "    year_start_close = data.loc[year_start_date, 'close']\n",
    "    yearly_change = end_date_close - year_start_close\n",
    "\n",
    "    # Create DataFrame with the computed changes\n",
    "    price_changes = (daily_change, weekly_change, monthly_change, yearly_change)\n",
    "\n",
    "    return price_changes\n",
    "\n",
    "\n",
    "#fix so if date doesnt exist, just go back\n",
    "\n",
    "data = cleaned_historical_datas['DBP'].copy()\n",
    "end_date = pd.to_datetime('2014-06-12')\n",
    "price_changes = compute_price_changes(data, end_date)\n",
    "print(price_changes)\n"
   ]
  },
  {
   "cell_type": "code",
   "execution_count": 433,
   "id": "5dc5cc37-af75-4fbf-9055-5601fd6475ee",
   "metadata": {},
   "outputs": [
    {
     "name": "stdout",
     "output_type": "stream",
     "text": [
      "0.0\n"
     ]
    }
   ],
   "source": [
    "def calculate_rsi(data, end_date):\n",
    "\n",
    "    # Filter data for the 14 days before the end date\n",
    "    start_date = end_date - pd.DateOffset(days=14)\n",
    "    earliest_collected_date = data.index[0]\n",
    "\n",
    "    while start_date not in data.index:\n",
    "        if (start_date < earliest_collected_date):\n",
    "            start_date = earliest_collected_date\n",
    "        else:\n",
    "            start_date = start_date - pd.DateOffset(days=1)\n",
    "    \n",
    "    data = data[(data.index >= start_date) & (data.index <= end_date)]\n",
    "    # Calculate daily price changes\n",
    "    delta = data['close'].diff()\n",
    "    \n",
    "    gain = (delta.where(delta > 0, 0)).mean()\n",
    "    loss = (-delta.where(delta < 0, 0)).mean()\n",
    "\n",
    "    #handle case where mean produces number close to 0\n",
    "    #but should be zero\n",
    "    if gain < 0.01:\n",
    "        gain = 0\n",
    "\n",
    "    if loss < 0.01:\n",
    "        loss = 0\n",
    "\n",
    "    #calculate relative strength (RS)\n",
    "    #Prevents div by 0\n",
    "    if loss == 0:\n",
    "        rs = 0\n",
    "    else:\n",
    "        rs = gain / loss\n",
    "\n",
    "    # Calculate RSI\n",
    "    rsi = 100 - (100 / (1 + rs))\n",
    "\n",
    "    return rsi\n",
    "    \n",
    "data = cleaned_historical_datas['COV'].copy()\n",
    "end_date = pd.to_datetime('2014-01-08')\n",
    "rsi = calculate_rsi(data, end_date)\n",
    "print(rsi)"
   ]
  },
  {
   "cell_type": "markdown",
   "id": "12b70993-e074-4ee3-a2de-0800110b85d4",
   "metadata": {},
   "source": [
    "[Source](https://seekingalpha.com/article/4518407-rsi-indicator-meaning-and-calculation) for Rsi calculation"
   ]
  },
  {
   "cell_type": "code",
   "execution_count": 434,
   "id": "26366e00-8607-4d2d-a98b-a1c09c54edf6",
   "metadata": {},
   "outputs": [
    {
     "name": "stdout",
     "output_type": "stream",
     "text": [
      "-44.07350329994305\n"
     ]
    }
   ],
   "source": [
    "def compute_month_vol_change(data, end_date):\n",
    "    # Get the start and end dates of the month containing the given date\n",
    "    \n",
    "    start_date = end_date - pd.DateOffset(months=1)\n",
    "    earliest_collected_date = data.index[0]\n",
    "    while start_date not in data.index:\n",
    "        if (start_date < earliest_collected_date):\n",
    "            start_date = earliest_collected_date\n",
    "        else:\n",
    "            start_date = start_date - pd.DateOffset(days=1)\n",
    "\n",
    "    \n",
    "    # Filter the data to include only the month of interest\n",
    "    monthly_data = data[(data.index >= start_date) & (data.index <= end_date)]\n",
    "    # Calculate the total volume at the start and end of the month\n",
    "    start_volume = monthly_data.iloc[0]['volume']\n",
    "    end_volume = monthly_data.iloc[-1]['volume']\n",
    "\n",
    "    # Calculate the percentage change in volume\n",
    "    if start_volume == 0:  \n",
    "        monthly_volume_change = 0\n",
    "    else:\n",
    "        monthly_volume_change = (end_volume - start_volume) / start_volume * 100\n",
    "\n",
    "    return monthly_volume_change\n",
    "\n",
    "data = cleaned_historical_datas['GLD'].copy()\n",
    "end_date = pd.to_datetime('2014-04-14')\n",
    "vol = compute_month_vol_change(data, end_date)\n",
    "print(vol)"
   ]
  },
  {
   "cell_type": "markdown",
   "id": "fa2b34c9-956f-4f95-bab8-36923fe6c8a3",
   "metadata": {},
   "source": [
    "Now that we've defined our functions to compute these features, lets compute them. Lets build a new table that contains these new features.\n",
    "We'll start by making a copy of senator_filing_data_df and dropping all rows where the transaction type is not \"purchase\". Next, we'll compute our new features for each transactions."
   ]
  },
  {
   "cell_type": "code",
   "execution_count": null,
   "id": "37c974bc-4adf-4bb1-b392-82801b42ef50",
   "metadata": {},
   "outputs": [],
   "source": [
    "Daily price change\n",
    "weekly price change\n",
    "monthly price change\n",
    "yearly price change\n",
    "relative strenght index\n",
    "monthly volume change"
   ]
  },
  {
   "cell_type": "code",
   "execution_count": 440,
   "id": "e30ba98a-4457-4bdc-8965-afaf2effb50b",
   "metadata": {},
   "outputs": [],
   "source": [
    "senator_stock_feature_data = senator_filing_data_df.copy()\n",
    "#get only purchase trades\n",
    "senator_stock_feature_data = senator_stock_feature_data[senator_stock_feature_data['Transaction Type'] == 'Purchase']\n",
    "\n",
    "price_features = []\n",
    "rsi_data = []\n",
    "mont_vol_data = []\n",
    "\n",
    "for i, trade in senator_stock_feature_data.iterrows():\n",
    "    price_data = compute_price_changes(cleaned_historical_datas[trade['Ticker']], trade['Transaction Date'])\n",
    "    rsi = calculate_rsi(cleaned_historical_datas[trade['Ticker']], trade['Transaction Date'])\n",
    "    month_vol_change = compute_month_vol_change(cleaned_historical_datas[trade['Ticker']], trade['Transaction Date'])\n",
    "    price_features.append(price_data)\n",
    "    rsi_data.append(rsi)\n",
    "    mont_vol_data.append(month_vol_change)\n",
    "    \n",
    "\n",
    "\n",
    "\n",
    "daily_delta, week_delta, month_delta, year_delta = zip(*price_features)\n",
    "\n",
    "senator_stock_feature_data['daily_delta'] = daily_delta\n",
    "senator_stock_feature_data['week_delta'] = week_delta\n",
    "senator_stock_feature_data['month_delta'] = month_delta\n",
    "senator_stock_feature_data['year_delta'] = year_delta\n",
    "senator_stock_feature_data['rsi'] = rsi_data\n",
    "senator_stock_feature_data['month_vol_delta'] = mont_vol_data\n",
    "\n"
   ]
  },
  {
   "cell_type": "code",
   "execution_count": 454,
   "id": "ebf8d718-0e5b-493e-b7f5-6c0c454f2223",
   "metadata": {},
   "outputs": [
    {
     "data": {
      "text/html": [
       "<div>\n",
       "<style scoped>\n",
       "    .dataframe tbody tr th:only-of-type {\n",
       "        vertical-align: middle;\n",
       "    }\n",
       "\n",
       "    .dataframe tbody tr th {\n",
       "        vertical-align: top;\n",
       "    }\n",
       "\n",
       "    .dataframe thead th {\n",
       "        text-align: right;\n",
       "    }\n",
       "</style>\n",
       "<table border=\"1\" class=\"dataframe\">\n",
       "  <thead>\n",
       "    <tr style=\"text-align: right;\">\n",
       "      <th></th>\n",
       "      <th>Transaction Date</th>\n",
       "      <th>Owner</th>\n",
       "      <th>Ticker</th>\n",
       "      <th>Asset Name</th>\n",
       "      <th>Amount</th>\n",
       "      <th>Senator Name</th>\n",
       "      <th>Transaction Type</th>\n",
       "      <th>daily_delta</th>\n",
       "      <th>week_delta</th>\n",
       "      <th>month_delta</th>\n",
       "      <th>year_delta</th>\n",
       "      <th>rsi</th>\n",
       "      <th>month_vol_delta</th>\n",
       "    </tr>\n",
       "  </thead>\n",
       "  <tbody>\n",
       "    <tr>\n",
       "      <th>5</th>\n",
       "      <td>2014-06-12</td>\n",
       "      <td>Joint</td>\n",
       "      <td>DBP</td>\n",
       "      <td>PowerShares DB Precious Metals</td>\n",
       "      <td>15001</td>\n",
       "      <td>Toomey, Patrick J</td>\n",
       "      <td>Purchase</td>\n",
       "      <td>0.480000</td>\n",
       "      <td>0.770000</td>\n",
       "      <td>-0.649998</td>\n",
       "      <td>-4.599998</td>\n",
       "      <td>68.085141</td>\n",
       "      <td>150.000000</td>\n",
       "    </tr>\n",
       "    <tr>\n",
       "      <th>6</th>\n",
       "      <td>2014-06-12</td>\n",
       "      <td>Joint</td>\n",
       "      <td>VIXY</td>\n",
       "      <td>ProShares VIX Short-Term Futures ETF</td>\n",
       "      <td>15001</td>\n",
       "      <td>Toomey, Patrick J</td>\n",
       "      <td>Purchase</td>\n",
       "      <td>392.000000</td>\n",
       "      <td>548.000000</td>\n",
       "      <td>-1264.000000</td>\n",
       "      <td>-14252.000000</td>\n",
       "      <td>40.848214</td>\n",
       "      <td>119.057239</td>\n",
       "    </tr>\n",
       "    <tr>\n",
       "      <th>8</th>\n",
       "      <td>2014-06-24</td>\n",
       "      <td>Joint</td>\n",
       "      <td>AMLP</td>\n",
       "      <td>ALPS Alerian MLP ETF</td>\n",
       "      <td>15001</td>\n",
       "      <td>Toomey, Patrick J</td>\n",
       "      <td>Purchase</td>\n",
       "      <td>0.299995</td>\n",
       "      <td>1.949997</td>\n",
       "      <td>2.799995</td>\n",
       "      <td>8.049995</td>\n",
       "      <td>63.366334</td>\n",
       "      <td>-29.377252</td>\n",
       "    </tr>\n",
       "    <tr>\n",
       "      <th>12</th>\n",
       "      <td>2014-09-02</td>\n",
       "      <td>Joint</td>\n",
       "      <td>IXP</td>\n",
       "      <td>iShares Global Telecom (NYSEArca)</td>\n",
       "      <td>15001</td>\n",
       "      <td>Toomey, Patrick J</td>\n",
       "      <td>Purchase</td>\n",
       "      <td>0.019997</td>\n",
       "      <td>0.379997</td>\n",
       "      <td>0.860001</td>\n",
       "      <td>4.200001</td>\n",
       "      <td>82.966990</td>\n",
       "      <td>-89.420530</td>\n",
       "    </tr>\n",
       "    <tr>\n",
       "      <th>13</th>\n",
       "      <td>2014-09-02</td>\n",
       "      <td>Joint</td>\n",
       "      <td>SDY</td>\n",
       "      <td>SPDR S&amp;P Dividend ETF (NYSEArca)</td>\n",
       "      <td>15001</td>\n",
       "      <td>Toomey, Patrick J</td>\n",
       "      <td>Purchase</td>\n",
       "      <td>-0.079994</td>\n",
       "      <td>0.120003</td>\n",
       "      <td>3.100006</td>\n",
       "      <td>9.959999</td>\n",
       "      <td>73.077375</td>\n",
       "      <td>1.452145</td>\n",
       "    </tr>\n",
       "  </tbody>\n",
       "</table>\n",
       "</div>"
      ],
      "text/plain": [
       "   Transaction Date  Owner Ticker                            Asset Name  Amount       Senator Name Transaction Type  daily_delta  week_delta  month_delta    year_delta        rsi  month_vol_delta\n",
       "5        2014-06-12  Joint    DBP        PowerShares DB Precious Metals   15001  Toomey, Patrick J         Purchase     0.480000    0.770000    -0.649998     -4.599998  68.085141       150.000000\n",
       "6        2014-06-12  Joint   VIXY  ProShares VIX Short-Term Futures ETF   15001  Toomey, Patrick J         Purchase   392.000000  548.000000 -1264.000000 -14252.000000  40.848214       119.057239\n",
       "8        2014-06-24  Joint   AMLP                  ALPS Alerian MLP ETF   15001  Toomey, Patrick J         Purchase     0.299995    1.949997     2.799995      8.049995  63.366334       -29.377252\n",
       "12       2014-09-02  Joint    IXP     iShares Global Telecom (NYSEArca)   15001  Toomey, Patrick J         Purchase     0.019997    0.379997     0.860001      4.200001  82.966990       -89.420530\n",
       "13       2014-09-02  Joint    SDY      SPDR S&P Dividend ETF (NYSEArca)   15001  Toomey, Patrick J         Purchase    -0.079994    0.120003     3.100006      9.959999  73.077375         1.452145"
      ]
     },
     "execution_count": 454,
     "metadata": {},
     "output_type": "execute_result"
    }
   ],
   "source": [
    "model_stock_feature_data = senator_stock_feature_data.copy()\n",
    "model_stock_feature_data.head()"
   ]
  },
  {
   "cell_type": "markdown",
   "id": "89b2626b-0c0d-45df-aadd-8838ab6c592a",
   "metadata": {},
   "source": [
    "Here are some other cool technical indicators to [try](https://www.investopedia.com/top-7-technical-analysis-tools-4773275)"
   ]
  },
  {
   "cell_type": "markdown",
   "id": "b69e242c-75e7-4a36-85c6-4880e6f5bf4d",
   "metadata": {},
   "source": [
    "Lets Build Our Model"
   ]
  },
  {
   "cell_type": "markdown",
   "id": "8d110150-5fb3-48b9-b551-f3c557ff4889",
   "metadata": {},
   "source": [
    "lets standardize the columns daily_delta,\tweek_delta,\tmonth_delta, year_delta, month_vol_delta to make it easier for the model to learn"
   ]
  },
  {
   "cell_type": "code",
   "execution_count": 609,
   "id": "7f3efb6c-0327-491d-9665-37b93f7e2358",
   "metadata": {},
   "outputs": [],
   "source": [
    "cols_to_stand = ['daily_delta', 'week_delta', 'month_delta', 'year_delta', 'month_vol_delta']\n",
    "\n",
    "for col in cols_to_stand:\n",
    "    mean = model_stock_feature_data[col].mean()\n",
    "    std = model_stock_feature_data[col].std()\n",
    "    model_stock_feature_data[col] = (model_stock_feature_data[col] - mean) / std\n",
    "model_stock_feature_data['rsi'] = model_stock_feature_data['rsi'] / 100"
   ]
  },
  {
   "cell_type": "markdown",
   "id": "11187684-8c13-4d1a-a25b-a7ad376a7fc1",
   "metadata": {},
   "source": [
    "Lets also use one-hot encoding to replace the senators name"
   ]
  },
  {
   "cell_type": "code",
   "execution_count": 613,
   "id": "f2f7842f-a6a7-4a68-9fb4-a7371f025617",
   "metadata": {},
   "outputs": [
    {
     "data": {
      "text/html": [
       "<div>\n",
       "<style scoped>\n",
       "    .dataframe tbody tr th:only-of-type {\n",
       "        vertical-align: middle;\n",
       "    }\n",
       "\n",
       "    .dataframe tbody tr th {\n",
       "        vertical-align: top;\n",
       "    }\n",
       "\n",
       "    .dataframe thead th {\n",
       "        text-align: right;\n",
       "    }\n",
       "</style>\n",
       "<table border=\"1\" class=\"dataframe\">\n",
       "  <thead>\n",
       "    <tr style=\"text-align: right;\">\n",
       "      <th></th>\n",
       "      <th>Transaction Date</th>\n",
       "      <th>Owner</th>\n",
       "      <th>Ticker</th>\n",
       "      <th>Asset Name</th>\n",
       "      <th>Amount</th>\n",
       "      <th>Senator Name</th>\n",
       "      <th>Transaction Type</th>\n",
       "      <th>daily_delta</th>\n",
       "      <th>week_delta</th>\n",
       "      <th>month_delta</th>\n",
       "      <th>...</th>\n",
       "      <th>Senator_Toomey, Patrick J</th>\n",
       "      <th>Senator_Tuberville, Tommy</th>\n",
       "      <th>Senator_Udall, Thomas</th>\n",
       "      <th>Senator_Warner, Mark</th>\n",
       "      <th>Senator_Warnock, Raphael</th>\n",
       "      <th>Senator_Warren, Elizabeth</th>\n",
       "      <th>Senator_Welch, Peter</th>\n",
       "      <th>Senator_Whitehouse, Sheldon</th>\n",
       "      <th>Senator_Wicker, Roger</th>\n",
       "      <th>Senator_Wyden, Ron</th>\n",
       "    </tr>\n",
       "  </thead>\n",
       "  <tbody>\n",
       "    <tr>\n",
       "      <th>5</th>\n",
       "      <td>2014-06-12</td>\n",
       "      <td>Joint</td>\n",
       "      <td>DBP</td>\n",
       "      <td>PowerShares DB Precious Metals</td>\n",
       "      <td>15001</td>\n",
       "      <td>Toomey, Patrick J</td>\n",
       "      <td>Purchase</td>\n",
       "      <td>0.110755</td>\n",
       "      <td>0.131040</td>\n",
       "      <td>-0.001915</td>\n",
       "      <td>...</td>\n",
       "      <td>True</td>\n",
       "      <td>False</td>\n",
       "      <td>False</td>\n",
       "      <td>False</td>\n",
       "      <td>False</td>\n",
       "      <td>False</td>\n",
       "      <td>False</td>\n",
       "      <td>False</td>\n",
       "      <td>False</td>\n",
       "      <td>False</td>\n",
       "    </tr>\n",
       "    <tr>\n",
       "      <th>6</th>\n",
       "      <td>2014-06-12</td>\n",
       "      <td>Joint</td>\n",
       "      <td>VIXY</td>\n",
       "      <td>ProShares VIX Short-Term Futures ETF</td>\n",
       "      <td>15001</td>\n",
       "      <td>Toomey, Patrick J</td>\n",
       "      <td>Purchase</td>\n",
       "      <td>73.220471</td>\n",
       "      <td>67.177423</td>\n",
       "      <td>-67.539886</td>\n",
       "      <td>...</td>\n",
       "      <td>True</td>\n",
       "      <td>False</td>\n",
       "      <td>False</td>\n",
       "      <td>False</td>\n",
       "      <td>False</td>\n",
       "      <td>False</td>\n",
       "      <td>False</td>\n",
       "      <td>False</td>\n",
       "      <td>False</td>\n",
       "      <td>False</td>\n",
       "    </tr>\n",
       "    <tr>\n",
       "      <th>8</th>\n",
       "      <td>2014-06-24</td>\n",
       "      <td>Joint</td>\n",
       "      <td>AMLP</td>\n",
       "      <td>ALPS Alerian MLP ETF</td>\n",
       "      <td>15001</td>\n",
       "      <td>Toomey, Patrick J</td>\n",
       "      <td>Purchase</td>\n",
       "      <td>0.077142</td>\n",
       "      <td>0.275613</td>\n",
       "      <td>0.182520</td>\n",
       "      <td>...</td>\n",
       "      <td>True</td>\n",
       "      <td>False</td>\n",
       "      <td>False</td>\n",
       "      <td>False</td>\n",
       "      <td>False</td>\n",
       "      <td>False</td>\n",
       "      <td>False</td>\n",
       "      <td>False</td>\n",
       "      <td>False</td>\n",
       "      <td>False</td>\n",
       "    </tr>\n",
       "    <tr>\n",
       "      <th>12</th>\n",
       "      <td>2014-09-02</td>\n",
       "      <td>Joint</td>\n",
       "      <td>IXP</td>\n",
       "      <td>iShares Global Telecom (NYSEArca)</td>\n",
       "      <td>15001</td>\n",
       "      <td>Toomey, Patrick J</td>\n",
       "      <td>Purchase</td>\n",
       "      <td>0.024857</td>\n",
       "      <td>0.083257</td>\n",
       "      <td>0.078809</td>\n",
       "      <td>...</td>\n",
       "      <td>True</td>\n",
       "      <td>False</td>\n",
       "      <td>False</td>\n",
       "      <td>False</td>\n",
       "      <td>False</td>\n",
       "      <td>False</td>\n",
       "      <td>False</td>\n",
       "      <td>False</td>\n",
       "      <td>False</td>\n",
       "      <td>False</td>\n",
       "    </tr>\n",
       "    <tr>\n",
       "      <th>13</th>\n",
       "      <td>2014-09-02</td>\n",
       "      <td>Joint</td>\n",
       "      <td>SDY</td>\n",
       "      <td>SPDR S&amp;P Dividend ETF (NYSEArca)</td>\n",
       "      <td>15001</td>\n",
       "      <td>Toomey, Patrick J</td>\n",
       "      <td>Purchase</td>\n",
       "      <td>0.006185</td>\n",
       "      <td>0.051403</td>\n",
       "      <td>0.198558</td>\n",
       "      <td>...</td>\n",
       "      <td>True</td>\n",
       "      <td>False</td>\n",
       "      <td>False</td>\n",
       "      <td>False</td>\n",
       "      <td>False</td>\n",
       "      <td>False</td>\n",
       "      <td>False</td>\n",
       "      <td>False</td>\n",
       "      <td>False</td>\n",
       "      <td>False</td>\n",
       "    </tr>\n",
       "  </tbody>\n",
       "</table>\n",
       "<p>5 rows × 595 columns</p>\n",
       "</div>"
      ],
      "text/plain": [
       "   Transaction Date  Owner Ticker                            Asset Name  Amount       Senator Name Transaction Type  daily_delta  week_delta  month_delta  ...  Senator_Toomey, Patrick J  Senator_Tuberville, Tommy  Senator_Udall, Thomas  Senator_Warner, Mark  Senator_Warnock, Raphael  Senator_Warren, Elizabeth  Senator_Welch, Peter  Senator_Whitehouse, Sheldon  Senator_Wicker, Roger  Senator_Wyden, Ron\n",
       "5        2014-06-12  Joint    DBP        PowerShares DB Precious Metals   15001  Toomey, Patrick J         Purchase     0.110755    0.131040    -0.001915  ...                       True                      False                  False                 False                     False                      False                 False                        False                  False               False\n",
       "6        2014-06-12  Joint   VIXY  ProShares VIX Short-Term Futures ETF   15001  Toomey, Patrick J         Purchase    73.220471   67.177423   -67.539886  ...                       True                      False                  False                 False                     False                      False                 False                        False                  False               False\n",
       "8        2014-06-24  Joint   AMLP                  ALPS Alerian MLP ETF   15001  Toomey, Patrick J         Purchase     0.077142    0.275613     0.182520  ...                       True                      False                  False                 False                     False                      False                 False                        False                  False               False\n",
       "12       2014-09-02  Joint    IXP     iShares Global Telecom (NYSEArca)   15001  Toomey, Patrick J         Purchase     0.024857    0.083257     0.078809  ...                       True                      False                  False                 False                     False                      False                 False                        False                  False               False\n",
       "13       2014-09-02  Joint    SDY      SPDR S&P Dividend ETF (NYSEArca)   15001  Toomey, Patrick J         Purchase     0.006185    0.051403     0.198558  ...                       True                      False                  False                 False                     False                      False                 False                        False                  False               False\n",
       "\n",
       "[5 rows x 595 columns]"
      ]
     },
     "execution_count": 613,
     "metadata": {},
     "output_type": "execute_result"
    }
   ],
   "source": [
    "one_hot_encoded = pd.get_dummies(model_stock_feature_data['Senator Name'], prefix='Senator')\n",
    "\n",
    "model_stock_feature_data = pd.concat([model_stock_feature_data, one_hot_encoded], axis=1)\n",
    "model_stock_feature_data.head()"
   ]
  },
  {
   "cell_type": "markdown",
   "id": "625c5f57-fdd8-4db4-8f02-f223cf6c5268",
   "metadata": {},
   "source": [
    "Below we'll use pytorch to build a multiclass classifier. We'll create a train, validation, and test set to feed into our model. Our model will have three layers, an input layer, a hidden layer, and an output layer. The features will go from the input dimension, to 128 dimesnions, to 64, to the output dimension. We will also use batch normalization to speed up training, as well as dropout to reduce overfitting. [Here](https://pytorch.org/tutorials/beginner/basics/intro.html) is a good resource for using pytorch. This tutorial is provided by Pytorch and will get you up to speed on things like tensors, DataSets, DataLoaders, and various neural network components.\n",
    "\n",
    "And [here](https://machinelearningmastery.com/building-a-multiclass-classification-model-in-pytorch/) is another good resource for multiclass classification with pytorch"
   ]
  },
  {
   "cell_type": "code",
   "execution_count": 630,
   "id": "29b6a5e6-ffa3-41db-aae0-e4fe9ab95e8a",
   "metadata": {},
   "outputs": [],
   "source": [
    "import torch\n",
    "import torch.nn as nn\n",
    "import torch.optim as optim\n",
    "from torch.utils.data import Dataset, DataLoader\n",
    "\n",
    "from sklearn.model_selection import train_test_split\n",
    "from sklearn.preprocessing import StandardScaler\n",
    "from sklearn.metrics import accuracy_score\n",
    "\n",
    "\n",
    "\n",
    "\n",
    "\n",
    "# Split the data into features and target variable\n",
    "X = model_stock_feature_data[['daily_delta', 'week_delta', 'month_delta', 'year_delta', 'rsi', 'month_vol_delta']]\n",
    "y = model_stock_feature_data.drop(['Amount', 'daily_delta', 'week_delta', 'month_delta', 'year_delta', 'rsi',\n",
    "             'month_vol_delta', 'Transaction Date', 'Owner', 'Ticker', \"Asset Name\", \"Amount\", \"Senator Name\", 'Transaction Type'], axis=1)\n",
    "\n",
    "X_train, X_test, y_train, y_test = train_test_split(X, y, test_size=0.2, random_state=42)\n",
    "#create validation set\n",
    "X_train, X_val, y_train, y_val = train_test_split(X_train, y_train, test_size=0.2, random_state=42)\n",
    "\n",
    "# Convert data to tensors\n",
    "X_train_tensor = torch.tensor(X_train.values, dtype=torch.float32)\n",
    "y_train_tensor = torch.tensor(y_train.values, dtype=torch.float32)\n",
    "X_val_tensor = torch.tensor(X_val.values, dtype=torch.float32)\n",
    "y_val_tensor = torch.tensor(y_val.values, dtype=torch.float32)\n",
    "X_test_tensor = torch.tensor(X_test.values, dtype=torch.float32)\n",
    "y_test_tensor = torch.tensor(y_test.values, dtype=torch.float32)\n",
    "\n",
    "\n",
    "class SenatorDataset(Dataset):\n",
    "    def __init__(self, X, y):\n",
    "        self.X = torch.tensor(X.values, dtype=torch.float32)\n",
    "        self.y = torch.tensor(y.values, dtype=torch.float32)\n",
    "    \n",
    "    def __len__(self):\n",
    "        return len(self.X)\n",
    "    \n",
    "    def __getitem__(self, idx):\n",
    "        return self.X[idx], self.y[idx]\n",
    "\n",
    "# Define datasets and data loaders\n",
    "train_dataset = SenatorDataset(X_train, y_train)\n",
    "val_dataset = SenatorDataset(X_val, y_val)\n",
    "test_dataset = SenatorDataset(X_test, y_test)\n",
    "\n",
    "train_loader = DataLoader(train_dataset, batch_size=batch_size, shuffle=True)\n",
    "val_loader = DataLoader(val_dataset, batch_size=batch_size)\n",
    "test_loader = DataLoader(test_dataset, batch_size=batch_size)\n",
    "\n",
    "\n",
    "class SenatorClassifier(nn.Module):\n",
    "    def __init__(self, input_size, output_size):\n",
    "        super(SenatorClassifier, self).__init__()\n",
    "\n",
    "        self.layer_1 = nn.Linear(input_size, 128)\n",
    "        self.layer_2 = nn.Linear(128, 64)\n",
    "        self.layer_out = nn.Linear(64, output_size) \n",
    "        \n",
    "        self.relu = nn.ReLU()\n",
    "        self.dropout = nn.Dropout(p=0.2)\n",
    "        self.batchnorm1 = nn.BatchNorm1d(128)\n",
    "        self.batchnorm2 = nn.BatchNorm1d(64)\n",
    "        self.softmax = nn.Softmax(dim=1)\n",
    "\n",
    "    def forward(self, x):\n",
    "        x = self.layer_1(x)\n",
    "        x = self.batchnorm1(x)\n",
    "        x = self.relu(x)\n",
    "        \n",
    "        x = self.layer_2(x)\n",
    "        x = self.batchnorm2(x)\n",
    "        x = self.relu(x)\n",
    "        x = self.dropout(x)\n",
    "        \n",
    "        x = self.layer_out(x)\n",
    "        x = self.softmax(x)\n",
    "        \n",
    "        return x"
   ]
  },
  {
   "cell_type": "code",
   "execution_count": 631,
   "id": "e44bc7cd-3ccf-49c4-80aa-c7376beba45d",
   "metadata": {
    "scrolled": true
   },
   "outputs": [
    {
     "name": "stdout",
     "output_type": "stream",
     "text": [
      "Epoch: 2, Train Loss: 4.5781731605529785 Eval Loss: 4.575579643249512\n",
      "Epoch: 4, Train Loss: 4.5196213722229 Eval Loss: 4.567601203918457\n",
      "Epoch: 6, Train Loss: 4.58509635925293 Eval Loss: 4.558582305908203\n",
      "Epoch: 8, Train Loss: 4.581508636474609 Eval Loss: 4.552462100982666\n",
      "Epoch: 10, Train Loss: 4.576669216156006 Eval Loss: 4.530623912811279\n",
      "Epoch: 12, Train Loss: 4.503026962280273 Eval Loss: 4.524925231933594\n",
      "Epoch: 14, Train Loss: 4.577270030975342 Eval Loss: 4.52385139465332\n",
      "Epoch: 16, Train Loss: 4.58901834487915 Eval Loss: 4.5243730545043945\n",
      "Epoch: 18, Train Loss: 4.590254306793213 Eval Loss: 4.525300979614258\n",
      "Epoch: 20, Train Loss: 4.587310314178467 Eval Loss: 4.522820472717285\n",
      "Epoch: 22, Train Loss: 4.590610027313232 Eval Loss: 4.51900577545166\n",
      "Epoch: 24, Train Loss: 4.145995616912842 Eval Loss: 4.518892288208008\n",
      "Epoch: 26, Train Loss: 4.528542995452881 Eval Loss: 4.516449451446533\n",
      "Epoch: 28, Train Loss: 4.258970737457275 Eval Loss: 4.516263008117676\n",
      "Epoch: 30, Train Loss: 4.591065883636475 Eval Loss: 4.517319679260254\n",
      "Epoch: 32, Train Loss: 4.590356349945068 Eval Loss: 4.515796661376953\n",
      "Epoch: 34, Train Loss: 4.58945369720459 Eval Loss: 4.515959739685059\n",
      "Epoch: 36, Train Loss: 4.59035062789917 Eval Loss: 4.515775203704834\n",
      "Epoch: 38, Train Loss: 4.544301509857178 Eval Loss: 4.51570463180542\n",
      "Epoch: 40, Train Loss: 4.591062545776367 Eval Loss: 4.515500068664551\n",
      "Epoch: 42, Train Loss: 4.5903425216674805 Eval Loss: 4.5170979499816895\n",
      "Epoch: 44, Train Loss: 4.302628040313721 Eval Loss: 4.518619060516357\n",
      "Epoch: 46, Train Loss: 4.547163486480713 Eval Loss: 4.515688419342041\n",
      "Epoch: 48, Train Loss: 4.591055870056152 Eval Loss: 4.52293062210083\n",
      "Epoch: 50, Train Loss: 4.258758068084717 Eval Loss: 4.514878273010254\n",
      "Epoch: 52, Train Loss: 4.256932735443115 Eval Loss: 4.514987945556641\n",
      "Epoch: 54, Train Loss: 4.260045051574707 Eval Loss: 4.514538288116455\n",
      "Epoch: 56, Train Loss: 4.257798671722412 Eval Loss: 4.514004707336426\n",
      "Epoch: 58, Train Loss: 4.5817108154296875 Eval Loss: 4.514166831970215\n",
      "Epoch: 60, Train Loss: 4.2990007400512695 Eval Loss: 4.513381004333496\n",
      "Epoch: 62, Train Loss: 4.59150505065918 Eval Loss: 4.512448310852051\n",
      "Epoch: 64, Train Loss: 4.590808391571045 Eval Loss: 4.512828350067139\n",
      "Epoch: 66, Train Loss: 4.548744201660156 Eval Loss: 4.511460304260254\n",
      "Epoch: 68, Train Loss: 4.221362590789795 Eval Loss: 4.513177871704102\n",
      "Epoch: 70, Train Loss: 4.261051654815674 Eval Loss: 4.5112786293029785\n",
      "Epoch: 72, Train Loss: 4.591359615325928 Eval Loss: 4.512917995452881\n",
      "Epoch: 74, Train Loss: 3.956862688064575 Eval Loss: 4.513408184051514\n",
      "Epoch: 76, Train Loss: 4.585237979888916 Eval Loss: 4.506524562835693\n",
      "Epoch: 78, Train Loss: 4.591484546661377 Eval Loss: 4.512176990509033\n",
      "Epoch: 80, Train Loss: 4.2512030601501465 Eval Loss: 4.5134806632995605\n",
      "Epoch: 82, Train Loss: 4.589338302612305 Eval Loss: 4.512436389923096\n",
      "Epoch: 84, Train Loss: 4.591946601867676 Eval Loss: 4.512495994567871\n",
      "Epoch: 86, Train Loss: 4.589468002319336 Eval Loss: 4.518477916717529\n",
      "Epoch: 88, Train Loss: 4.590687274932861 Eval Loss: 4.512749671936035\n",
      "Epoch: 90, Train Loss: 4.272964000701904 Eval Loss: 4.510676383972168\n",
      "Epoch: 92, Train Loss: 4.589067459106445 Eval Loss: 4.512646198272705\n",
      "Epoch: 94, Train Loss: 4.2592082023620605 Eval Loss: 4.513094902038574\n",
      "Epoch: 96, Train Loss: 4.181850433349609 Eval Loss: 4.512446403503418\n",
      "Epoch: 98, Train Loss: 4.5890793800354 Eval Loss: 4.50978422164917\n",
      "Accuracy of the network on the test set: 13 %\n"
     ]
    }
   ],
   "source": [
    "input_size = len(X.columns) \n",
    "output_size = 97  \n",
    "\n",
    "model = SenatorClassifier(input_size, output_size)\n",
    "\n",
    "num_epochs = 100\n",
    "loss_fn = nn.CrossEntropyLoss()\n",
    "optimizer = optim.Adam(model.parameters(), lr=0.0001)\n",
    "eval_every = 2\n",
    "eval_epochs = []\n",
    "training_loss_values = []\n",
    "val_loss_values = []\n",
    "\n",
    "for epoch in range(num_epochs):\n",
    "    model.train()\n",
    "    for inputs, labels in train_loader:\n",
    "        optimizer.zero_grad()\n",
    "        y_pred = model(inputs)        \n",
    "        loss = loss_fn(y_pred, torch.argmax(labels, dim=1))\n",
    "        loss.backward()\n",
    "        optimizer.step()\n",
    "\n",
    "\n",
    "    # Validation loop\n",
    "    if epoch > 0 and epoch % eval_every == 0:\n",
    "\n",
    "        model.eval()\n",
    "\n",
    "        # don't calculate gradients when evaluating your model\n",
    "        with torch.no_grad():\n",
    "            for inputs, labels in val_loader:\n",
    "                y_pred = model(inputs)\n",
    "                #get the max class prediciton\n",
    "                _, predicted = torch.max(y_pred, 1)\n",
    "                val_loss = loss_fn(y_pred, torch.argmax(labels, dim=1))\n",
    "\n",
    "\n",
    "        print(f\"Epoch: {epoch}, Train Loss: {loss.item()} Eval Loss: {val_loss.item()}\")\n",
    "            \n",
    "        eval_epochs.append(epoch)\n",
    "        training_loss_values.append(loss.item())\n",
    "        val_loss_values.append(val_loss.item())\n",
    "\n",
    "\n",
    "\n",
    "# Step 6: Evaluation\n",
    "model.eval()\n",
    "correct = 0\n",
    "total = 0\n",
    "with torch.no_grad():\n",
    "    for inputs, labels in test_loader:\n",
    "        outputs = model(inputs)\n",
    "        _, predicted = torch.max(outputs.data, 1)\n",
    "        total += labels.size(0)\n",
    "        _, labels_idx = torch.max(labels, 1)\n",
    "        correct += (predicted == labels_idx).sum().item()\n",
    "\n",
    "print('Accuracy of the network on the test set: %d %%' % (100 * correct / total))"
   ]
  },
  {
   "cell_type": "code",
   "execution_count": 632,
   "id": "10d2b5db-25de-4b6c-8cf9-a2ec1b0663fd",
   "metadata": {},
   "outputs": [
    {
     "data": {
      "image/png": "[encoded data removed]",
      "text/plain": [
       "<Figure size 640x480 with 1 Axes>"
      ]
     },
     "metadata": {},
     "output_type": "display_data"
    }
   ],
   "source": [
    "# Plot the training and validation loss\n",
    "plt.plot(eval_epochs, training_loss_values, label='Training loss')\n",
    "plt.plot(eval_epochs, val_loss_values, label='Validation loss')\n",
    "plt.legend()\n",
    "plt.show()"
   ]
  },
  {
   "cell_type": "markdown",
   "id": "edbcd6af-52dc-4bda-9dc9-6a549a672a37",
   "metadata": {},
   "source": [
    "This model really stinks. This is likely because there are a significant number of classes and its difficult to distinguish between the output classes from the input data. Lets see if we can build a binary classifier to distinguish between the top 10 senators and the rest of the senators."
   ]
  },
  {
   "cell_type": "code",
   "execution_count": 623,
   "id": "cbeb5552-0e63-474b-a2ae-52fa845be005",
   "metadata": {},
   "outputs": [],
   "source": [
    "binary_class_data = senator_stock_feature_data.copy()\n",
    "top_10 = [name for (name, ret) in top_10_in_office_senators]\n",
    "binary_class_data['Top_10'] = binary_class_data['Senator Name'].isin(top_10).astype(int)\n",
    "\n",
    "cols_to_stand = ['daily_delta', 'week_delta', 'month_delta', 'year_delta', 'month_vol_delta', 'rsi']\n",
    "\n",
    "for col in cols_to_stand:\n",
    "    mean = binary_class_data[col].mean()\n",
    "    std = binary_class_data[col].std()\n",
    "    binary_class_data[col] = (binary_class_data[col] - mean) / std\n",
    "binary_class_data['rsi'] = binary_class_data['rsi'] / 100"
   ]
  },
  {
   "cell_type": "code",
   "execution_count": 627,
   "id": "8f7d141f-ec4f-4753-8d4c-9546dcc29066",
   "metadata": {},
   "outputs": [
    {
     "name": "stdout",
     "output_type": "stream",
     "text": [
      "Accuracy: 0.6843702579666161\n",
      "Classification Report:\n",
      "              precision    recall  f1-score   support\n",
      "\n",
      "           0       0.68      1.00      0.81      1804\n",
      "           1       0.50      0.00      0.01       832\n",
      "\n",
      "    accuracy                           0.68      2636\n",
      "   macro avg       0.59      0.50      0.41      2636\n",
      "weighted avg       0.63      0.68      0.56      2636\n",
      "\n"
     ]
    }
   ],
   "source": [
    "from sklearn.linear_model import LogisticRegression\n",
    "from sklearn.metrics import accuracy_score, classification_report\n",
    "\n",
    "\n",
    "# Split the data into features and target variable\n",
    "X = binary_class_data[['daily_delta', 'week_delta', 'month_delta', 'year_delta', 'rsi', 'month_vol_delta']]\n",
    "y = binary_class_data['Top_10']\n",
    "\n",
    "X_train, X_test, y_train, y_test = train_test_split(X, y, test_size=0.2, random_state=42)\n",
    "\n",
    "\n",
    "# Train a Logistic Regression classifier\n",
    "clf = LogisticRegression()\n",
    "clf.fit(X_train, y_train)\n",
    "\n",
    "# Make predictions on the test set\n",
    "y_pred = clf.predict(X_test)\n",
    "\n",
    "# Evaluate the model\n",
    "accuracy = accuracy_score(y_test, y_pred)\n",
    "print(\"Accuracy:\", accuracy)\n",
    "print(\"Classification Report:\")\n",
    "print(classification_report(y_test, y_pred))"
   ]
  },
  {
   "cell_type": "markdown",
   "id": "59b09ba9-5580-48a6-abb5-0d707b2c483c",
   "metadata": {},
   "source": [
    "At a quick glance, the 68% accuracy looks promising for a classification model as it predicts the right class better than 1/2 the time. However, analyzing the classification report reveals how truly terrible this model is. The precision, which measures true positive over all positives is 50% for the top 10 class. This means that out of all the predictions for the top 10 class, only half were right. Additionally, the top 10 class has a recall of 0, meaning the model could not identify any senators in the top 10. This is all reflected in the f1 score of 0.01, inidicating the poor precision and recall. "
   ]
  },
  {
   "cell_type": "markdown",
   "id": "d914342e-b555-42a5-b004-a8575cf154c7",
   "metadata": {},
   "source": [
    "While we cant build a model to help us predict which senator is most likely to pick a stock, or classify trades into those made by senators in the top 10 or not, we can identify what a normal trade looks like and find the outliers. "
   ]
  },
  {
   "cell_type": "markdown",
   "id": "a024be1a-712e-42a2-8e89-428f54c6432e",
   "metadata": {},
   "source": [
    "### Things to Try\n",
    "One major limitation for this project was the lack of quality stock data. By choosing Yahoo Finance as the source of our stock data (yahoo-fin scrapes Yahoo Finance), we opted for speed and cost or quality. This proved to be one of several limiting factors when it came to producing a model. If money is no a restriction, I recommend using an api such as alphavantage that provides quality stock data (including technical information) for better results. \n",
    "\n",
    "## Insight:\n",
    "\n",
    "In this tutorial we went from a website containging thousands of reports each containing hundreds of lines of raw information, to well cleaned and manicured data ready to be analzed and experiemented with. \n",
    "While we werent able to prove any senators gains were illgotten through insider trading, this exercise in  machine learning (and cynisim) did prove just how much money our elected officials are making while in office."
   ]
  },
  {
   "cell_type": "code",
   "execution_count": null,
   "id": "8a741e99-31e6-42ea-b243-c1d4f8d70b82",
   "metadata": {},
   "outputs": [],
   "source": []
  }
 ],
 "metadata": {
  "kernelspec": {
   "display_name": "Python 3 (ipykernel)",
   "language": "python",
   "name": "python3"
  },
  "language_info": {
   "codemirror_mode": {
    "name": "ipython",
    "version": 3
   },
   "file_extension": ".py",
   "mimetype": "text/x-python",
   "name": "python",
   "nbconvert_exporter": "python",
   "pygments_lexer": "ipython3",
   "version": "3.12.3"
  }
 },
 "nbformat": 4,
 "nbformat_minor": 5
}
